{
 "cells": [
  {
   "cell_type": "code",
   "execution_count": null,
   "metadata": {},
   "outputs": [
    {
     "name": "stdout",
     "output_type": "stream",
     "text": [
      "[[ 1.41421356 -0.70710678  0.        ]\n",
      " [ 0.          1.22474487 -0.81649658]\n",
      " [ 0.          0.          1.15470054]]\n"
     ]
    }
   ],
   "source": [
    "#find the cholesky factorization for the matrix\n",
    "import numpy as np\n",
    "import matplotlib.pyplot as plt\n",
    "import scipy.linalg as la\n",
    "A = np.array([[2, -1, 0], [-1, 2, -1], [0, -1, ]])\n",
    "print(la.cholesky(A))\n"
   ]
  },
  {
   "cell_type": "code",
   "execution_count": null,
   "metadata": {},
   "outputs": [
    {
     "name": "stdout",
     "output_type": "stream",
     "text": [
      "[[ 1.         -1.          0.        ]\n",
      " [ 0.          2.          0.        ]\n",
      " [ 0.          0.          2.64575131]]\n"
     ]
    }
   ],
   "source": [
    "#find the cholesky factorization for the matrix\n",
    "import numpy as np\n",
    "import matplotlib.pyplot as plt\n",
    "import scipy.linalg as la\n",
    "A = np.array([[1, -1, 0], [-1, 5, 0], [0, 0, 7]])\n",
    "print(la.cholesky(A))\n"
   ]
  },
  {
   "cell_type": "code",
   "execution_count": null,
   "metadata": {},
   "outputs": [
    {
     "name": "stdout",
     "output_type": "stream",
     "text": [
      "(array([[-2. ,  1. ],\n",
      "       [-0.5,  0.5]]), array([1, 1], dtype=int32))\n",
      "(array([[-6.        ,  4.        ],\n",
      "       [ 0.33333333, -0.33333333]]), array([1, 1], dtype=int32))\n",
      "(array([[ 6.        ,  1.        ,  1.        ],\n",
      "       [-0.5       ,  1.5       ,  0.5       ],\n",
      "       [ 0.5       , -0.33333333,  0.66666667]]), array([1, 2, 2], dtype=int32))\n",
      "(array([[10. , 12. ,  3. ],\n",
      "       [ 0. , -3. ,  1. ],\n",
      "       [ 0.2,  0.8, -1.4]]), array([2, 1, 2], dtype=int32))\n"
     ]
    }
   ],
   "source": [
    "#find the LU factorization of the matrix\n",
    "import numpy as np\n",
    "import matplotlib.pyplot as plt\n",
    "import scipy.linalg as la\n",
    "A = np.array([[1, 0], [-2, 1]])\n",
    "B = np.array([[-2, 1], [-6, 4]])\n",
    "C = np.array([[3, 0, 1], [6, 1, 1], [-3, 1, 0]])\n",
    "D = np.array([[2, 0, 0], [0, -3, 1], [10, 12, 3]])\n",
    "\n",
    "print(la.lu_factor(A))\n",
    "print(la.lu_factor(B))\n",
    "print(la.lu_factor(C))\n",
    "print(la.lu_factor(D))\n"
   ]
  },
  {
   "cell_type": "code",
   "execution_count": null,
   "metadata": {},
   "outputs": [
    {
     "name": "stdout",
     "output_type": "stream",
     "text": [
      "[3 3]\n"
     ]
    }
   ],
   "source": [
    "#find the rank of the matrix\n",
    "import numpy as np\n",
    "import matplotlib.pyplot as plt\n",
    "import scipy.linalg as la\n",
    "\n",
    "A = np.array([[2, 3, 1], [0, -1, 2], [0, 0, 3]])\n",
    "B = np.array([[-2, 2, -3], [2, 1, -6], [-1, -2, 0]])\n",
    "rank = np.array([np.linalg.matrix_rank(A), np.linalg.matrix_rank(B)])\n",
    "print(rank)"
   ]
  },
  {
   "cell_type": "code",
   "execution_count": null,
   "metadata": {},
   "outputs": [
    {
     "name": "stdout",
     "output_type": "stream",
     "text": [
      "E-value:\n",
      "[ 2. -1.  3.]\n",
      "E-vector\n",
      "[[ 1.         -0.70710678  0.91287093]\n",
      " [ 0.          0.70710678  0.18257419]\n",
      " [ 0.          0.          0.36514837]]\n"
     ]
    }
   ],
   "source": [
    "#find the eigenvalues and eigenvectors of the matrix and plot them\n",
    "import numpy as np\n",
    "import matplotlib.pyplot as plt\n",
    "import scipy.linalg as la\n",
    "\n",
    "\n",
    "a=np.array([[2,3,1], [0,-1,2], [0,0,3]])\n",
    "w,v= np.linalg.eig(a)\n",
    "print(\"E-value:\")\n",
    "print(w)\n",
    "print(\"E-vector\")\n",
    "print(v)\n"
   ]
  },
  {
   "cell_type": "code",
   "execution_count": null,
   "metadata": {},
   "outputs": [
    {
     "name": "stdout",
     "output_type": "stream",
     "text": [
      "E-value:\n",
      "[-3.  5. -3.]\n",
      "E-vector\n",
      "[[-0.95257934  0.40824829 -0.04912436]\n",
      " [ 0.27216553  0.81649658  0.838526  ]\n",
      " [-0.13608276 -0.40824829  0.54264255]]\n"
     ]
    }
   ],
   "source": [
    "#find the eigenvalues and eigenvectors of the matrix and plot them\n",
    "import numpy as np\n",
    "import matplotlib.pyplot as plt\n",
    "import scipy.linalg as la\n",
    "\n",
    "\n",
    "a = np.array([[-2, 2, -3], [2, 1, -6], [-1, -2, 0]])\n",
    "w, v = np.linalg.eig(a)\n",
    "print(\"E-value:\")\n",
    "print(w)\n",
    "print(\"E-vector\")\n",
    "print(v)\n"
   ]
  },
  {
   "cell_type": "code",
   "execution_count": null,
   "metadata": {},
   "outputs": [
    {
     "name": "stdout",
     "output_type": "stream",
     "text": [
      "[-2.66453526e-16 -5.00000000e-01  5.00000000e-01]\n"
     ]
    }
   ],
   "source": [
    "import numpy as np\n",
    "A = np.array([[3,3,5], [3,5,9], [5,9,17]])\n",
    "B = np.array([1,2,4])\n",
    "x = np.linalg.solve(A, B)\n",
    "print(x)"
   ]
  },
  {
   "cell_type": "code",
   "execution_count": null,
   "metadata": {},
   "outputs": [
    {
     "name": "stdout",
     "output_type": "stream",
     "text": [
      "[ 6.77777778 -3.66666667  6.44444444]\n"
     ]
    }
   ],
   "source": [
    "import numpy as np\n",
    "A = np.array([[1, 2, -1], [2, -2, -2], [-1, 3, 4]])\n",
    "B = np.array([-7, 8, 8])\n",
    "x = np.linalg.solve(A, B)\n",
    "print(x)\n"
   ]
  },
  {
   "cell_type": "code",
   "execution_count": null,
   "metadata": {},
   "outputs": [
    {
     "name": "stdout",
     "output_type": "stream",
     "text": [
      "[1. 2. 1.]\n"
     ]
    }
   ],
   "source": [
    "import numpy as np\n",
    "A = np.array([[2, 1, 2], [-1, 2, -3], [3, 2, -1]])\n",
    "B = np.array([6, 0, 6])\n",
    "x = np.linalg.solve(A, B)\n",
    "print(x)\n"
   ]
  },
  {
   "cell_type": "code",
   "execution_count": null,
   "metadata": {},
   "outputs": [
    {
     "name": "stdout",
     "output_type": "stream",
     "text": [
      "[-3.  5. -1.]\n"
     ]
    }
   ],
   "source": [
    "import numpy as np\n",
    "A = np.array([[2, 3, 5], [3, 5, 9], [5, 9, 13]])\n",
    "B = np.array([4, 7, 17])\n",
    "x = np.linalg.solve(A, B)\n",
    "print(x)\n"
   ]
  }
 ],
 "metadata": {
  "language_info": {
   "name": "python"
  },
  "orig_nbformat": 4
 },
 "nbformat": 4,
 "nbformat_minor": 2
}
