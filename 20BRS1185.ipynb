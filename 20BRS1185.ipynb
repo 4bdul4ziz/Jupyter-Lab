{
 "cells": [
  {
   "cell_type": "code",
   "execution_count": null,
   "metadata": {},
   "outputs": [
    {
     "name": "stdout",
     "output_type": "stream",
     "text": [
      "[[ 1.41421356 -0.70710678  0.        ]\n",
      " [ 0.          1.22474487 -0.81649658]\n",
      " [ 0.          0.          1.15470054]]\n"
     ]
    }
   ],
   "source": [
    "#find the cholesky factorization for the matrix\n",
    "import numpy as np\n",
    "import matplotlib.pyplot as plt\n",
    "import scipy.linalg as la\n",
    "A = np.array([[2, -1, 0], [-1, 2, -1], [0, -1, ]])\n",
    "print(la.cholesky(A))\n"
   ]
  },
  {
   "cell_type": "code",
   "execution_count": null,
   "metadata": {},
   "outputs": [
    {
     "name": "stdout",
     "output_type": "stream",
     "text": [
      "[[ 1.         -1.          0.        ]\n",
      " [ 0.          2.          0.        ]\n",
      " [ 0.          0.          2.64575131]]\n"
     ]
    }
   ],
   "source": [
    "#find the cholesky factorization for the matrix\n",
    "import numpy as np\n",
    "import matplotlib.pyplot as plt\n",
    "import scipy.linalg as la\n",
    "A = np.array([[1, -1, 0], [-1, 5, 0], [0, 0, 7]])\n",
    "print(la.cholesky(A))\n"
   ]
  },
  {
   "cell_type": "code",
   "execution_count": null,
   "metadata": {},
   "outputs": [
    {
     "name": "stdout",
     "output_type": "stream",
     "text": [
      "(array([[-2. ,  1. ],\n",
      "       [-0.5,  0.5]]), array([1, 1], dtype=int32))\n",
      "(array([[-6.        ,  4.        ],\n",
      "       [ 0.33333333, -0.33333333]]), array([1, 1], dtype=int32))\n",
      "(array([[ 6.        ,  1.        ,  1.        ],\n",
      "       [-0.5       ,  1.5       ,  0.5       ],\n",
      "       [ 0.5       , -0.33333333,  0.66666667]]), array([1, 2, 2], dtype=int32))\n",
      "(array([[10. , 12. ,  3. ],\n",
      "       [ 0. , -3. ,  1. ],\n",
      "       [ 0.2,  0.8, -1.4]]), array([2, 1, 2], dtype=int32))\n"
     ]
    }
   ],
   "source": [
    "#find the LU factorization of the matrix\n",
    "import numpy as np\n",
    "import matplotlib.pyplot as plt\n",
    "import scipy.linalg as la\n",
    "A = np.array([[1, 0], [-2, 1]])\n",
    "B = np.array([[-2, 1], [-6, 4]])\n",
    "C = np.array([[3, 0, 1], [6, 1, 1], [-3, 1, 0]])\n",
    "D = np.array([[2, 0, 0], [0, -3, 1], [10, 12, 3]])\n",
    "\n",
    "print(la.lu_factor(A))\n",
    "print(la.lu_factor(B))\n",
    "print(la.lu_factor(C))\n",
    "print(la.lu_factor(D))\n"
   ]
  },
  {
   "cell_type": "code",
   "execution_count": null,
   "metadata": {},
   "outputs": [
    {
     "name": "stdout",
     "output_type": "stream",
     "text": [
      "[3 3]\n"
     ]
    }
   ],
   "source": [
    "#find the rank of the matrix\n",
    "import numpy as np\n",
    "import matplotlib.pyplot as plt\n",
    "import scipy.linalg as la\n",
    "\n",
    "A = np.array([[2, 3, 1], [0, -1, 2], [0, 0, 3]])\n",
    "B = np.array([[-2, 2, -3], [2, 1, -6], [-1, -2, 0]])\n",
    "rank = np.array([np.linalg.matrix_rank(A), np.linalg.matrix_rank(B)])\n",
    "print(rank)"
   ]
  },
  {
   "cell_type": "code",
   "execution_count": null,
   "metadata": {},
   "outputs": [
    {
     "name": "stdout",
     "output_type": "stream",
     "text": [
      "E-value:\n",
      "[ 2. -1.  3.]\n",
      "E-vector\n",
      "[[ 1.         -0.70710678  0.91287093]\n",
      " [ 0.          0.70710678  0.18257419]\n",
      " [ 0.          0.          0.36514837]]\n"
     ]
    }
   ],
   "source": [
    "#find the eigenvalues and eigenvectors of the matrix and plot them\n",
    "import numpy as np\n",
    "import matplotlib.pyplot as plt\n",
    "import scipy.linalg as la\n",
    "\n",
    "\n",
    "a=np.array([[2,3,1], [0,-1,2], [0,0,3]])\n",
    "w,v= np.linalg.eig(a)\n",
    "print(\"E-value:\")\n",
    "print(w)\n",
    "print(\"E-vector\")\n",
    "print(v)\n"
   ]
  },
  {
   "cell_type": "code",
   "execution_count": 2,
   "metadata": {},
   "outputs": [
    {
     "name": "stdout",
     "output_type": "stream",
     "text": [
      "E-value:\n",
      "[8.53783743+0.j         0.23108129+1.00036621j 0.23108129-1.00036621j]\n",
      "E-vector\n",
      "[[ 0.50668484+0.j          0.88429555+0.j          0.88429555-0.j        ]\n",
      " [ 0.48743832+0.j         -0.34347349-0.13229442j -0.34347349+0.13229442j]\n",
      " [ 0.71110784+0.j          0.00174889+0.28730205j  0.00174889-0.28730205j]]\n"
     ]
    }
   ],
   "source": [
    "#find the eigenvalues and eigenvectors of the matrix and plot them\n",
    "import numpy as np\n",
    "import matplotlib.pyplot as plt\n",
    "import scipy.linalg as la\n",
    "\n",
    "\n",
    "a = np.array([[1, 2, 4], [2, 5, 1], [2, 6, 3]])\n",
    "w, v = np.linalg.eig(a)\n",
    "print(\"E-value:\")\n",
    "print(w)\n",
    "print(\"E-vector\")\n",
    "print(v)\n"
   ]
  },
  {
   "cell_type": "code",
   "execution_count": null,
   "metadata": {},
   "outputs": [
    {
     "name": "stdout",
     "output_type": "stream",
     "text": [
      "[-2.66453526e-16 -5.00000000e-01  5.00000000e-01]\n"
     ]
    }
   ],
   "source": [
    "import numpy as np\n",
    "A = np.array([[3,3,5], [3,5,9], [5,9,17]])\n",
    "B = np.array([1,2,4])\n",
    "x = np.linalg.solve(A, B)\n",
    "print(x)"
   ]
  },
  {
   "cell_type": "code",
   "execution_count": null,
   "metadata": {},
   "outputs": [
    {
     "name": "stdout",
     "output_type": "stream",
     "text": [
      "[ 6.77777778 -3.66666667  6.44444444]\n"
     ]
    }
   ],
   "source": [
    "import numpy as np\n",
    "A = np.array([[1, 2, -1], [2, -2, -2], [-1, 3, 4]])\n",
    "B = np.array([-7, 8, 8])\n",
    "x = np.linalg.solve(A, B)\n",
    "print(x)\n"
   ]
  },
  {
   "cell_type": "code",
   "execution_count": null,
   "metadata": {},
   "outputs": [
    {
     "name": "stdout",
     "output_type": "stream",
     "text": [
      "[1. 2. 1.]\n"
     ]
    }
   ],
   "source": [
    "import numpy as np\n",
    "A = np.array([[2, 1, 2], [-1, 2, -3], [3, 2, -1]])\n",
    "B = np.array([6, 0, 6])\n",
    "x = np.linalg.solve(A, B)\n",
    "print(x)\n"
   ]
  },
  {
   "cell_type": "code",
   "execution_count": null,
   "metadata": {},
   "outputs": [
    {
     "name": "stdout",
     "output_type": "stream",
     "text": [
      "[-3.  5. -1.]\n"
     ]
    }
   ],
   "source": [
    "import numpy as np\n",
    "A = np.array([[2, 3, 5], [3, 5, 9], [5, 9, 13]])\n",
    "B = np.array([4, 7, 17])\n",
    "x = np.linalg.solve(A, B)\n",
    "print(x)\n"
   ]
  },
  {
   "cell_type": "code",
   "execution_count": 4,
   "metadata": {},
   "outputs": [
    {
     "ename": "TypeError",
     "evalue": "tuple indices must be integers or slices, not tuple",
     "output_type": "error",
     "traceback": [
      "\u001b[0;31m---------------------------------------------------------------------------\u001b[0m",
      "\u001b[0;31mTypeError\u001b[0m                                 Traceback (most recent call last)",
      "\u001b[1;32m/Users/abdul/Desktop/Programming/Jupyter Lab/20BRS1185.ipynb Cell 11'\u001b[0m in \u001b[0;36m<module>\u001b[0;34m\u001b[0m\n\u001b[1;32m      <a href='vscode-notebook-cell:/Users/abdul/Desktop/Programming/Jupyter%20Lab/20BRS1185.ipynb#ch0000012?line=6'>7</a>\u001b[0m rank \u001b[39m=\u001b[39m np\u001b[39m.\u001b[39marray([np\u001b[39m.\u001b[39mlinalg\u001b[39m.\u001b[39mmatrix_rank(A)])\n\u001b[1;32m      <a href='vscode-notebook-cell:/Users/abdul/Desktop/Programming/Jupyter%20Lab/20BRS1185.ipynb#ch0000012?line=8'>9</a>\u001b[0m \u001b[39m#column vector - \u001b[39;00m\n\u001b[0;32m---> <a href='vscode-notebook-cell:/Users/abdul/Desktop/Programming/Jupyter%20Lab/20BRS1185.ipynb#ch0000012?line=10'>11</a>\u001b[0m columnSpace \u001b[39m=\u001b[39m A\u001b[39m.\u001b[39;49mshape[\u001b[39m3\u001b[39;49m, \u001b[39m1\u001b[39;49m]\n\u001b[1;32m     <a href='vscode-notebook-cell:/Users/abdul/Desktop/Programming/Jupyter%20Lab/20BRS1185.ipynb#ch0000012?line=11'>12</a>\u001b[0m columnSpace\n\u001b[1;32m     <a href='vscode-notebook-cell:/Users/abdul/Desktop/Programming/Jupyter%20Lab/20BRS1185.ipynb#ch0000012?line=14'>15</a>\u001b[0m \u001b[39mprint\u001b[39m(rank)\n",
      "\u001b[0;31mTypeError\u001b[0m: tuple indices must be integers or slices, not tuple"
     ]
    }
   ],
   "source": [
    "#find the rank of the matrix\n",
    "import numpy as np\n",
    "import matplotlib.pyplot as plt\n",
    "import scipy.linalg as la\n",
    "\n",
    "A = np.array([[1, 1, 3, 1, 2], [2, 0, 0, -1, 3], [3, 1, 1, 0, 1], [3,1,2,0,3], [4,2,3,1,1]])\n",
    "rank = np.array([np.linalg.matrix_rank(A)])\n",
    "\n",
    "#column vector\n",
    "\n",
    "\n",
    "print(rank)\n"
   ]
  }
 ],
 "metadata": {
  "interpreter": {
   "hash": "aee8b7b246df8f9039afb4144a1f6fd8d2ca17a180786b69acc140d282b71a49"
  },
  "kernelspec": {
   "display_name": "Python 3.10.2 64-bit",
   "language": "python",
   "name": "python3"
  },
  "language_info": {
   "codemirror_mode": {
    "name": "ipython",
    "version": 3
   },
   "file_extension": ".py",
   "mimetype": "text/x-python",
   "name": "python",
   "nbconvert_exporter": "python",
   "pygments_lexer": "ipython3",
   "version": "3.10.2"
  },
  "orig_nbformat": 4
 },
 "nbformat": 4,
 "nbformat_minor": 2
}
