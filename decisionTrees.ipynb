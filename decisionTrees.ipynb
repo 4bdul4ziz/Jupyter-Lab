{
 "cells": [
  {
   "cell_type": "code",
   "execution_count": 39,
   "metadata": {},
   "outputs": [
    {
     "data": {
      "text/plain": [
       "'\\nMake the ID3 decision tree algorithm.\\n'"
      ]
     },
     "execution_count": 39,
     "metadata": {},
     "output_type": "execute_result"
    }
   ],
   "source": [
    "'''\n",
    "Make the ID3 decision tree algorithm.\n",
    "'''"
   ]
  },
  {
   "cell_type": "code",
   "execution_count": 40,
   "metadata": {},
   "outputs": [
    {
     "data": {
      "text/plain": [
       "'\\nConsider the movie dataset. Fill the dataset with the details like Movie name, Director name, Released Year and Movie type. Predict the next movie type for a particular director \\n'"
      ]
     },
     "execution_count": 40,
     "metadata": {},
     "output_type": "execute_result"
    }
   ],
   "source": [
    "'''\n",
    "Consider the movie dataset. Fill the dataset with the details like Movie name, Director name, Released Year and Movie type. Predict the next movie type for a particular director \n",
    "'''"
   ]
  },
  {
   "cell_type": "code",
   "execution_count": 41,
   "metadata": {},
   "outputs": [],
   "source": [
    "import pandas as pd\n",
    "import numpy as np\n",
    "import math\n",
    "import random\n",
    "import matplotlib.pyplot as plt\n",
    "import seaborn as sns\n",
    "from sklearn.model_selection import train_test_split\n",
    "import graphviz"
   ]
  },
  {
   "cell_type": "code",
   "execution_count": 42,
   "metadata": {},
   "outputs": [],
   "source": [
    "#read 'datasets/movies.txt' and create a csv file with the first row as header columns and each column seprated by a , \n",
    "#and save it as 'datasets/movies.csv'\n",
    "#read the csv file and store it in a dataframe\n",
    "\n",
    "#read 'datasets/movies.txt' and create a csv file with the first row as header columns and each column seprated by a ,\n",
    "#and save it as 'datasets/movies.csv'\n",
    "#read the csv file and store it in a dataframe\n"
   ]
  },
  {
   "cell_type": "code",
   "execution_count": 43,
   "metadata": {},
   "outputs": [
    {
     "data": {
      "text/html": [
       "<div>\n",
       "<style scoped>\n",
       "    .dataframe tbody tr th:only-of-type {\n",
       "        vertical-align: middle;\n",
       "    }\n",
       "\n",
       "    .dataframe tbody tr th {\n",
       "        vertical-align: top;\n",
       "    }\n",
       "\n",
       "    .dataframe thead th {\n",
       "        text-align: right;\n",
       "    }\n",
       "</style>\n",
       "<table border=\"1\" class=\"dataframe\">\n",
       "  <thead>\n",
       "    <tr style=\"text-align: right;\">\n",
       "      <th></th>\n",
       "      <th>Title</th>\n",
       "      <th>Genre</th>\n",
       "      <th>Director</th>\n",
       "      <th>Actors</th>\n",
       "      <th>Year</th>\n",
       "      <th>Runtime (Minutes)</th>\n",
       "      <th>Rating</th>\n",
       "      <th>Revenue (Millions)</th>\n",
       "      <th>Metascore</th>\n",
       "    </tr>\n",
       "  </thead>\n",
       "  <tbody>\n",
       "    <tr>\n",
       "      <th>0</th>\n",
       "      <td>Guardians of the Galaxy</td>\n",
       "      <td>Action,Adventure,Sci-Fi</td>\n",
       "      <td>James Gunn</td>\n",
       "      <td>Chris Pratt, Vin Diesel, Bradley Cooper, Zoe S...</td>\n",
       "      <td>2014</td>\n",
       "      <td>121</td>\n",
       "      <td>8.1</td>\n",
       "      <td>333.13</td>\n",
       "      <td>76.0</td>\n",
       "    </tr>\n",
       "    <tr>\n",
       "      <th>1</th>\n",
       "      <td>Prometheus</td>\n",
       "      <td>Adventure,Mystery,Sci-Fi</td>\n",
       "      <td>Ridley Scott</td>\n",
       "      <td>Noomi Rapace, Logan Marshall-Green, Michael Fa...</td>\n",
       "      <td>2012</td>\n",
       "      <td>124</td>\n",
       "      <td>7.0</td>\n",
       "      <td>126.46</td>\n",
       "      <td>65.0</td>\n",
       "    </tr>\n",
       "    <tr>\n",
       "      <th>2</th>\n",
       "      <td>Split</td>\n",
       "      <td>Horror,Thriller</td>\n",
       "      <td>M. Night Shyamalan</td>\n",
       "      <td>James McAvoy, Anya Taylor-Joy, Haley Lu Richar...</td>\n",
       "      <td>2016</td>\n",
       "      <td>117</td>\n",
       "      <td>7.3</td>\n",
       "      <td>138.12</td>\n",
       "      <td>62.0</td>\n",
       "    </tr>\n",
       "    <tr>\n",
       "      <th>3</th>\n",
       "      <td>Sing</td>\n",
       "      <td>Animation,Comedy,Family</td>\n",
       "      <td>Christophe Lourdelet</td>\n",
       "      <td>Matthew McConaughey,Reese Witherspoon, Seth Ma...</td>\n",
       "      <td>2016</td>\n",
       "      <td>108</td>\n",
       "      <td>7.2</td>\n",
       "      <td>270.32</td>\n",
       "      <td>59.0</td>\n",
       "    </tr>\n",
       "    <tr>\n",
       "      <th>4</th>\n",
       "      <td>Suicide Squad</td>\n",
       "      <td>Action,Adventure,Fantasy</td>\n",
       "      <td>David Ayer</td>\n",
       "      <td>Will Smith, Jared Leto, Margot Robbie, Viola D...</td>\n",
       "      <td>2016</td>\n",
       "      <td>123</td>\n",
       "      <td>6.2</td>\n",
       "      <td>325.02</td>\n",
       "      <td>40.0</td>\n",
       "    </tr>\n",
       "  </tbody>\n",
       "</table>\n",
       "</div>"
      ],
      "text/plain": [
       "                     Title                     Genre              Director  \\\n",
       "0  Guardians of the Galaxy   Action,Adventure,Sci-Fi            James Gunn   \n",
       "1               Prometheus  Adventure,Mystery,Sci-Fi          Ridley Scott   \n",
       "2                    Split           Horror,Thriller    M. Night Shyamalan   \n",
       "3                     Sing   Animation,Comedy,Family  Christophe Lourdelet   \n",
       "4            Suicide Squad  Action,Adventure,Fantasy            David Ayer   \n",
       "\n",
       "                                              Actors  Year  Runtime (Minutes)  \\\n",
       "0  Chris Pratt, Vin Diesel, Bradley Cooper, Zoe S...  2014                121   \n",
       "1  Noomi Rapace, Logan Marshall-Green, Michael Fa...  2012                124   \n",
       "2  James McAvoy, Anya Taylor-Joy, Haley Lu Richar...  2016                117   \n",
       "3  Matthew McConaughey,Reese Witherspoon, Seth Ma...  2016                108   \n",
       "4  Will Smith, Jared Leto, Margot Robbie, Viola D...  2016                123   \n",
       "\n",
       "   Rating  Revenue (Millions)  Metascore  \n",
       "0     8.1              333.13       76.0  \n",
       "1     7.0              126.46       65.0  \n",
       "2     7.3              138.12       62.0  \n",
       "3     7.2              270.32       59.0  \n",
       "4     6.2              325.02       40.0  "
      ]
     },
     "execution_count": 43,
     "metadata": {},
     "output_type": "execute_result"
    }
   ],
   "source": [
    "df = pd.read_csv('datasets/IMDB-Movie-Data.csv')\n",
    "df.head()\n"
   ]
  },
  {
   "cell_type": "code",
   "execution_count": 44,
   "metadata": {},
   "outputs": [],
   "source": [
    "'''\n",
    "gain functions\n",
    "'''\n",
    "def entropy(target_col):\n",
    "    elements, counts = np.unique(target_col, return_counts=True)\n",
    "    entropy = np.sum(\n",
    "        [(-counts[i] / np.sum(counts)) * np.log2(counts[i] / np.sum(counts))\n",
    "         for i in range(len(elements))])\n",
    "    return entropy\n",
    "\n",
    "\n",
    "def InfoGain(data, split_attribute_name, target_name=\"Genre\"):\n",
    "    total_entropy = entropy(data[target_name])\n",
    "    vals, counts = np.unique(data[split_attribute_name], return_counts=True)\n",
    "    Weighted_Entropy = np.sum(\n",
    "        [(counts[i] / np.sum(counts)) * entropy(data.where(\n",
    "            data[split_attribute_name] == vals[i]).dropna()[target_name])\n",
    "         for i in range(len(vals))])\n",
    "    Information_Gain = total_entropy - Weighted_Entropy\n",
    "    return Information_Gain\n",
    "\n",
    "\n",
    "def ID3(data, originaldata, features, target_attribute_name=\"Genre\",\n",
    "         parent_node_class=None):\n",
    "    if len(np.unique(data[target_attribute_name])) <= 1:\n",
    "        return np.unique(data[target_attribute_name])[0]\n",
    "    elif len(data) == 0:\n",
    "        return np.unique(originaldata[target_attribute_name])[\n",
    "            np.argmax(np.unique(originaldata[target_attribute_name],\n",
    "                                return_counts=True)[1])]\n",
    "    elif len(features) == 0:\n",
    "        return parent_node_class\n",
    "    else:\n",
    "        parent_node_class = np.unique(data[target_attribute_name])[\n",
    "            np.argmax(np.unique(data[target_attribute_name],\n",
    "                                return_counts=True)[1])]\n",
    "        item_values = [\n",
    "            InfoGain(data, feature, target_attribute_name)\n",
    "            for feature in features\n",
    "        ]\n",
    "        best_feature_index = np.argmax(item_values)\n",
    "        best_feature = features[best_feature_index]\n",
    "        tree = {best_feature: {}}\n",
    "        features = [i for i in features if i != best_feature]\n",
    "        for value in np.unique(data[best_feature]):\n",
    "            value = value\n",
    "            sub_data = data.where(data[best_feature] == value).dropna()\n",
    "            subtree = ID3(sub_data,\n",
    "                          data,\n",
    "                          features,\n",
    "                          target_attribute_name,\n",
    "                          parent_node_class)\n",
    "            tree[best_feature][value] = subtree\n",
    "        return tree "
   ]
  },
  {
   "cell_type": "code",
   "execution_count": 45,
   "metadata": {},
   "outputs": [],
   "source": [
    "#gini functions\n",
    "def gini(x):\n",
    "    elements, counts = np.unique(x, return_counts=True)\n",
    "    gini = np.sum(\n",
    "        [(-counts[i] / np.sum(counts)) * np.log2(counts[i] / np.sum(counts))\n",
    "         for i in range(len(elements))])\n",
    "    return gini\n",
    "\n",
    "\n",
    "def giniIndex(data, target_name=\"Genre\"):\n",
    "    total_gini = gini(data[target_name])\n",
    "    vals, counts = np.unique(data[target_name], return_counts=True)\n",
    "    Weighted_gini = np.sum(\n",
    "        [(counts[i] / np.sum(counts)) * gini(data.where(\n",
    "            data[target_name] == vals[i]).dropna()[target_name])\n",
    "         for i in range(len(vals))])\n",
    "    Information_gini = total_gini - Weighted_gini\n",
    "    return Information_gini\n"
   ]
  },
  {
   "cell_type": "code",
   "execution_count": 46,
   "metadata": {},
   "outputs": [],
   "source": [
    "def giniID3(data, originaldata, features, target_attribute_name=\"Genre\", parent_node_class=None):\n",
    "    if len(np.unique(data[target_attribute_name])) <= 1:\n",
    "        return np.unique(data[target_attribute_name])[0]\n",
    "    elif len(data) == 0:\n",
    "        return np.unique(originaldata[target_attribute_name])[\n",
    "            np.argmax(np.unique(originaldata[target_attribute_name],\n",
    "                                return_counts=True)[1])]\n",
    "    elif len(features) == 0:\n",
    "        return parent_node_class\n",
    "    else:\n",
    "        parent_node_class = np.unique(data[target_attribute_name])[np.argmax(np.unique(data[target_attribute_name], return_counts=True)[1])]    \n",
    "        item_values = [giniIndex(data, feature, target_attribute_name) for feature in features]\n",
    "        best_feature_index = np.argmax(item_values)\n",
    "        \n",
    "        best_feature = features[best_feature_index]\n",
    "        tree = {best_feature: {}}\n",
    "        features = [i for i in features if i != best_feature]\n",
    "        for value in np.unique(data[best_feature]):\n",
    "            value = value\n",
    "            sub_data = data.where(data[best_feature] == value).dropna()\n",
    "            subtree = giniID3(sub_data, data, features, target_attribute_name, parent_node_class)\n",
    "            tree[best_feature][value] = subtree\n",
    "        return(tree)\n",
    "\n",
    "def predict(query, tree, default = 1):\n",
    "    for key in list(query.keys()):\n",
    "        if key in list(tree.keys()):\n",
    "            try:\n",
    "                result = tree[key][query[key]] \n",
    "            except:\n",
    "                return default\n",
    "            result = tree[key][query[key]]\n",
    "            if isinstance(result,dict):\n",
    "                return predict(query, result)\n",
    "            else:\n",
    "                return result\n",
    "\n",
    "def train_test_split(df):\n",
    "    training_data = df.iloc[:80].reset_index(drop=True)\n",
    "    testing_data = df.iloc[80:].reset_index(drop=True)\n",
    "    return training_data,testing_data\n",
    "    "
   ]
  },
  {
   "cell_type": "code",
   "execution_count": 47,
   "metadata": {},
   "outputs": [
    {
     "ename": "IndexError",
     "evalue": "index 0 is out of bounds for axis 0 with size 0",
     "output_type": "error",
     "traceback": [
      "\u001b[0;31m---------------------------------------------------------------------------\u001b[0m",
      "\u001b[0;31mIndexError\u001b[0m                                Traceback (most recent call last)",
      "Cell \u001b[0;32mIn [47], line 25\u001b[0m\n\u001b[1;32m     23\u001b[0m     \u001b[39mprint\u001b[39m()\n\u001b[1;32m     24\u001b[0m     \u001b[39mprint\u001b[39m(tree)\n\u001b[0;32m---> 25\u001b[0m main()\n",
      "Cell \u001b[0;32mIn [47], line 5\u001b[0m, in \u001b[0;36mmain\u001b[0;34m()\u001b[0m\n\u001b[1;32m      3\u001b[0m originaldata \u001b[39m=\u001b[39m df\n\u001b[1;32m      4\u001b[0m features \u001b[39m=\u001b[39m np\u001b[39m.\u001b[39marray(data\u001b[39m.\u001b[39mcolumns)[:\u001b[39m-\u001b[39m\u001b[39m1\u001b[39m]\n\u001b[0;32m----> 5\u001b[0m tree \u001b[39m=\u001b[39m ID3(data, originaldata, features)\n\u001b[1;32m      6\u001b[0m \u001b[39m#info gain\u001b[39;00m\n\u001b[1;32m      7\u001b[0m \u001b[39mprint\u001b[39m(InfoGain(data, \u001b[39m'\u001b[39m\u001b[39mDirector\u001b[39m\u001b[39m'\u001b[39m, \u001b[39m'\u001b[39m\u001b[39mGenre\u001b[39m\u001b[39m'\u001b[39m))\n",
      "Cell \u001b[0;32mIn [44], line 48\u001b[0m, in \u001b[0;36mID3\u001b[0;34m(data, originaldata, features, target_attribute_name, parent_node_class)\u001b[0m\n\u001b[1;32m     46\u001b[0m     value \u001b[39m=\u001b[39m value\n\u001b[1;32m     47\u001b[0m     sub_data \u001b[39m=\u001b[39m data\u001b[39m.\u001b[39mwhere(data[best_feature] \u001b[39m==\u001b[39m value)\u001b[39m.\u001b[39mdropna()\n\u001b[0;32m---> 48\u001b[0m     subtree \u001b[39m=\u001b[39m ID3(sub_data,\n\u001b[1;32m     49\u001b[0m                   data,\n\u001b[1;32m     50\u001b[0m                   features,\n\u001b[1;32m     51\u001b[0m                   target_attribute_name,\n\u001b[1;32m     52\u001b[0m                   parent_node_class)\n\u001b[1;32m     53\u001b[0m     tree[best_feature][value] \u001b[39m=\u001b[39m subtree\n\u001b[1;32m     54\u001b[0m \u001b[39mreturn\u001b[39;00m tree\n",
      "Cell \u001b[0;32mIn [44], line 26\u001b[0m, in \u001b[0;36mID3\u001b[0;34m(data, originaldata, features, target_attribute_name, parent_node_class)\u001b[0m\n\u001b[1;32m     23\u001b[0m \u001b[39mdef\u001b[39;00m \u001b[39mID3\u001b[39m(data, originaldata, features, target_attribute_name\u001b[39m=\u001b[39m\u001b[39m\"\u001b[39m\u001b[39mGenre\u001b[39m\u001b[39m\"\u001b[39m,\n\u001b[1;32m     24\u001b[0m          parent_node_class\u001b[39m=\u001b[39m\u001b[39mNone\u001b[39;00m):\n\u001b[1;32m     25\u001b[0m     \u001b[39mif\u001b[39;00m \u001b[39mlen\u001b[39m(np\u001b[39m.\u001b[39munique(data[target_attribute_name])) \u001b[39m<\u001b[39m\u001b[39m=\u001b[39m \u001b[39m1\u001b[39m:\n\u001b[0;32m---> 26\u001b[0m         \u001b[39mreturn\u001b[39;00m np\u001b[39m.\u001b[39;49munique(data[target_attribute_name])[\u001b[39m0\u001b[39;49m]\n\u001b[1;32m     27\u001b[0m     \u001b[39melif\u001b[39;00m \u001b[39mlen\u001b[39m(data) \u001b[39m==\u001b[39m \u001b[39m0\u001b[39m:\n\u001b[1;32m     28\u001b[0m         \u001b[39mreturn\u001b[39;00m np\u001b[39m.\u001b[39munique(originaldata[target_attribute_name])[\n\u001b[1;32m     29\u001b[0m             np\u001b[39m.\u001b[39margmax(np\u001b[39m.\u001b[39munique(originaldata[target_attribute_name],\n\u001b[1;32m     30\u001b[0m                                 return_counts\u001b[39m=\u001b[39m\u001b[39mTrue\u001b[39;00m)[\u001b[39m1\u001b[39m])]\n",
      "\u001b[0;31mIndexError\u001b[0m: index 0 is out of bounds for axis 0 with size 0"
     ]
    }
   ],
   "source": [
    "def main():\n",
    "    data = df\n",
    "    originaldata = df\n",
    "    features = np.array(data.columns)[:-1]\n",
    "    tree = ID3(data, originaldata, features)\n",
    "    #info gain\n",
    "    print(InfoGain(data, 'Director', 'Genre'))\n",
    "    print(InfoGain(data, 'Year', 'Genre'))\n",
    "    print(InfoGain(data, 'Runtime (Minutes)', 'Genre'))\n",
    "    print(InfoGain(data, 'Rating', 'Genre'))\n",
    "    print(InfoGain(data, 'Revenue (Millions)', 'Genre'))\n",
    "    print(InfoGain(data, 'Metascore', 'Genre'))\n",
    "    #entropy\n",
    "    print(entropy(data['play']))\n",
    "    #print gini as a table\n",
    "    table = pd.DataFrame(columns=['play'])\n",
    "    table.loc[0] = [giniIndex(data, 'play')]\n",
    "    print(table)\n",
    "    #print gini as a graph\n",
    "    sns.barplot(x=table.columns, y=table.loc[0])\n",
    "    plt.show()\n",
    "    #print tree\n",
    "    print()\n",
    "    print(tree)\n",
    "main()"
   ]
  }
 ],
 "metadata": {
  "kernelspec": {
   "display_name": "Python 3.10.6 ('base')",
   "language": "python",
   "name": "python3"
  },
  "language_info": {
   "codemirror_mode": {
    "name": "ipython",
    "version": 3
   },
   "file_extension": ".py",
   "mimetype": "text/x-python",
   "name": "python",
   "nbconvert_exporter": "python",
   "pygments_lexer": "ipython3",
   "version": "3.10.6"
  },
  "orig_nbformat": 4,
  "vscode": {
   "interpreter": {
    "hash": "c6e4e9f98eb68ad3b7c296f83d20e6de614cb42e90992a65aa266555a3137d0d"
   }
  }
 },
 "nbformat": 4,
 "nbformat_minor": 2
}
