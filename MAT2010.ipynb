{
 "cells": [
  {
   "cell_type": "markdown",
   "metadata": {},
   "source": [
    "\n",
    "```\n",
    "Rank of a matrix\n",
    "\n",
    "The rank of the matrix refers to the number of linearly independent rows or columns in the matrix. ρ(A) is used to denote the rank of matrix A. A matrix is said to be of rank zero when all of its elements become zero. The rank of the matrix is the dimension of the vector space obtained by its columns.\n",
    "```"
   ]
  },
  {
   "cell_type": "code",
   "execution_count": 42,
   "metadata": {},
   "outputs": [],
   "source": [
    "import numpy as np\n",
    "A = np.array([[1, 2, 1], [1, -2, 3], [3, -7, 4]])\n",
    "b = np. array([8, 1, 10])\n"
   ]
  },
  {
   "cell_type": "code",
   "execution_count": 43,
   "metadata": {},
   "outputs": [],
   "source": [
    "sol = np. linalg.solve(A, b)\n",
    "rank = np.linalg.matrix_rank(A)\n",
    "inverse = np.linalg.inv(A)\n",
    "\n"
   ]
  },
  {
   "cell_type": "code",
   "execution_count": 44,
   "metadata": {},
   "outputs": [
    {
     "name": "stdout",
     "output_type": "stream",
     "text": [
      "   0  1  2\n",
      "0  1 -1  2\n",
      "1  1  2 -1\n",
      "2  0  2 -2\n",
      "                0\n",
      "0   [1, -1, 2, 3]\n",
      "1  [1, 2, -1, -3]\n",
      "2     [0, 0.0, 1]\n",
      "   0  1  2\n",
      "0  1  5  7\n",
      "1  2  3  6\n",
      "2  4  3  6\n",
      "[ 1.         -4.22222222  3.44444444]\n"
     ]
    }
   ],
   "source": [
    "from pandas import *\n",
    "\n",
    "A1 = np.array([[1, -1, 2], [1, 2, -1], [0, 2, -2]])\n",
    "AB = np.array([[1, -1, 2, 3], [1, 2, -1, -3], [0,2. -2,1]], dtype=object)\n",
    "A2 = np.array([[1, 5, 7], [2, 3, 6], [4, 3, 6]])\n",
    "b = np.array([4, 10, 12])\n",
    "sol = np.linalg.solve(A2, b)\n",
    "print(DataFrame(A1))\n",
    "print(DataFrame(AB))\n",
    "print(DataFrame(A2))\n",
    "\n",
    "print(sol)\n",
    "\n"
   ]
  },
  {
   "cell_type": "code",
   "execution_count": 45,
   "metadata": {},
   "outputs": [
    {
     "name": "stdout",
     "output_type": "stream",
     "text": [
      "2\n",
      "3\n"
     ]
    }
   ],
   "source": [
    "ra = np.linalg.matrix_rank(A1)\n",
    "rab = np.linalg.matrix_rank(A)\n",
    "print(ra)\n",
    "print(rab)\n"
   ]
  },
  {
   "cell_type": "code",
   "execution_count": 46,
   "metadata": {},
   "outputs": [
    {
     "name": "stdout",
     "output_type": "stream",
     "text": [
      "Solution of the matrix is  [ 1.         -4.22222222  3.44444444]\n",
      "Rank of the matrix is  3\n",
      "The inverse of the matrix is  [[ 0.59090909 -0.68181818  0.36363636]\n",
      " [ 0.22727273  0.04545455 -0.09090909]\n",
      " [-0.04545455  0.59090909 -0.18181818]]\n"
     ]
    }
   ],
   "source": [
    "print(f'Solution of the matrix is ', sol)\n",
    "print(f'Rank of the matrix is ', rank)\n",
    "print(f'The inverse of the matrix is ', inverse)\n"
   ]
  },
  {
   "cell_type": "code",
   "execution_count": 47,
   "metadata": {},
   "outputs": [
    {
     "name": "stdout",
     "output_type": "stream",
     "text": [
      "[[4 1]\n",
      " [2 2]]\n"
     ]
    }
   ],
   "source": [
    "a = np. array([[1, 0], [0, 1]])\n",
    "b = np.array([[4, 1], [2, 2]])\n",
    "c = np.matmul(a, b)\n",
    "print(c)\n"
   ]
  },
  {
   "cell_type": "markdown",
   "metadata": {},
   "source": [
    "Scipy  Stuff"
   ]
  },
  {
   "cell_type": "code",
   "execution_count": 52,
   "metadata": {},
   "outputs": [
    {
     "data": {
      "text/html": [
       "<div>\n",
       "<style scoped>\n",
       "    .dataframe tbody tr th:only-of-type {\n",
       "        vertical-align: middle;\n",
       "    }\n",
       "\n",
       "    .dataframe tbody tr th {\n",
       "        vertical-align: top;\n",
       "    }\n",
       "\n",
       "    .dataframe thead th {\n",
       "        text-align: right;\n",
       "    }\n",
       "</style>\n",
       "<table border=\"1\" class=\"dataframe\">\n",
       "  <thead>\n",
       "    <tr style=\"text-align: right;\">\n",
       "      <th></th>\n",
       "      <th>0</th>\n",
       "      <th>1</th>\n",
       "      <th>2</th>\n",
       "    </tr>\n",
       "  </thead>\n",
       "  <tbody>\n",
       "    <tr>\n",
       "      <th>0</th>\n",
       "      <td>3.0</td>\n",
       "      <td>9.0</td>\n",
       "      <td>8.000000</td>\n",
       "    </tr>\n",
       "    <tr>\n",
       "      <th>1</th>\n",
       "      <td>0.0</td>\n",
       "      <td>-1.0</td>\n",
       "      <td>-1.666667</td>\n",
       "    </tr>\n",
       "    <tr>\n",
       "      <th>2</th>\n",
       "      <td>0.0</td>\n",
       "      <td>0.0</td>\n",
       "      <td>-0.666667</td>\n",
       "    </tr>\n",
       "  </tbody>\n",
       "</table>\n",
       "</div>"
      ],
      "text/plain": [
       "     0    1         2\n",
       "0  3.0  9.0  8.000000\n",
       "1  0.0 -1.0 -1.666667\n",
       "2  0.0  0.0 -0.666667"
      ]
     },
     "execution_count": 52,
     "metadata": {},
     "output_type": "execute_result"
    }
   ],
   "source": [
    "import scipy.linalg as la\n",
    "a = np.array([[0, 1, 1], [1, 2, 1], [3, 9, 8]])\n",
    "(P, L, U) = la.lu(a)\n",
    "DataFrame(P)\n",
    "DataFrame(L)\n",
    "DataFrame(U)\n",
    "\n"
   ]
  }
 ],
 "metadata": {
  "interpreter": {
   "hash": "b0fa6594d8f4cbf19f97940f81e996739fb7646882a419484c72d19e05852a7e"
  },
  "kernelspec": {
   "display_name": "Python 3.9.7 64-bit",
   "language": "python",
   "name": "python3"
  },
  "language_info": {
   "codemirror_mode": {
    "name": "ipython",
    "version": 3
   },
   "file_extension": ".py",
   "mimetype": "text/x-python",
   "name": "python",
   "nbconvert_exporter": "python",
   "pygments_lexer": "ipython3",
   "version": "3.9.7"
  },
  "orig_nbformat": 4
 },
 "nbformat": 4,
 "nbformat_minor": 2
}
