{
 "cells": [
  {
   "cell_type": "code",
   "execution_count": 1,
   "metadata": {},
   "outputs": [],
   "source": [
    "from sklearn import datasets\n",
    "from sklearn import svm\n",
    "from sklearn import metrics\n",
    "from sklearn.model_selection import train_test_split\n"
   ]
  },
  {
   "cell_type": "code",
   "execution_count": 2,
   "metadata": {},
   "outputs": [
    {
     "name": "stdout",
     "output_type": "stream",
     "text": [
      "Accuracy: 0.9777777777777777\n",
      "Precision: 0.977551023009427\n",
      "Recall: 0.9797997733973343\n",
      "F1: 0.9785225911712278\n"
     ]
    }
   ],
   "source": [
    "#load dataset\n",
    "digits = datasets.load_digits()\n",
    "X_train_digits, X_test_digits, y_train_digits, y_test_digits = train_test_split(digits.data, digits.target, test_size=0.2, random_state=0)\n",
    "\n",
    "#linear\n",
    "clf = svm.SVC(kernel='linear', C=1)\n",
    "clf.fit(X_train_digits, y_train_digits)\n",
    "y_pred = clf.predict(X_test_digits)\n",
    "print(\"Accuracy:\",metrics.accuracy_score(y_test_digits, y_pred))\n",
    "print(\"Precision:\",metrics.precision_score(y_test_digits, y_pred, average='macro'))\n",
    "print(\"Recall:\",metrics.recall_score(y_test_digits, y_pred, average='macro'))\n",
    "print(\"F1:\",metrics.f1_score(y_test_digits, y_pred, average='macro'))\n"
   ]
  },
  {
   "cell_type": "code",
   "execution_count": 3,
   "metadata": {},
   "outputs": [
    {
     "name": "stdout",
     "output_type": "stream",
     "text": [
      "Accuracy: 0.9916666666666667\n",
      "Precision: 0.9922831978319785\n",
      "Recall: 0.9924968730456534\n",
      "F1: 0.9923538236068297\n"
     ]
    }
   ],
   "source": [
    "#non-linear\n",
    "clf = svm.SVC(kernel='rbf', C=1)\n",
    "clf.fit(X_train_digits, y_train_digits)\n",
    "y_pred = clf.predict(X_test_digits)\n",
    "print(\"Accuracy:\",metrics.accuracy_score(y_test_digits, y_pred))\n",
    "print(\"Precision:\",metrics.precision_score(y_test_digits, y_pred, average='macro'))\n",
    "print(\"Recall:\",metrics.recall_score(y_test_digits, y_pred, average='macro'))\n",
    "print(\"F1:\",metrics.f1_score(y_test_digits, y_pred, average='macro'))"
   ]
  }
 ],
 "metadata": {
  "kernelspec": {
   "display_name": "Python 3.10.2 64-bit",
   "language": "python",
   "name": "python3"
  },
  "language_info": {
   "codemirror_mode": {
    "name": "ipython",
    "version": 3
   },
   "file_extension": ".py",
   "mimetype": "text/x-python",
   "name": "python",
   "nbconvert_exporter": "python",
   "pygments_lexer": "ipython3",
   "version": "3.10.2"
  },
  "orig_nbformat": 4,
  "vscode": {
   "interpreter": {
    "hash": "949777d72b0d2535278d3dc13498b2535136f6dfe0678499012e853ee9abcab1"
   }
  }
 },
 "nbformat": 4,
 "nbformat_minor": 2
}
