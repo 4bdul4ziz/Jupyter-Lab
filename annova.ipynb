{
 "cells": [
  {
   "cell_type": "markdown",
   "metadata": {},
   "source": [
    "\n",
    "Abdul A.\n",
    "\n",
    "20BRS1185\n",
    "\n",
    "Lab 3\n",
    "\n",
    "Perform an anova on the data, use regression and residual analysis along with the df and mean square to determine the p-value of the regression\n"
   ]
  },
  {
   "cell_type": "code",
   "execution_count": 15,
   "metadata": {},
   "outputs": [],
   "source": [
    "import pandas as pd\n",
    "import numpy as np\n",
    "import statsmodels.api as sm\n",
    "import statsmodels.formula.api as smf\n",
    "import matplotlib.pyplot as plt\n",
    "import seaborn as sns\n",
    "import scipy.stats as stats\n"
   ]
  },
  {
   "cell_type": "code",
   "execution_count": 16,
   "metadata": {},
   "outputs": [
    {
     "data": {
      "text/html": [
       "<div>\n",
       "<style scoped>\n",
       "    .dataframe tbody tr th:only-of-type {\n",
       "        vertical-align: middle;\n",
       "    }\n",
       "\n",
       "    .dataframe tbody tr th {\n",
       "        vertical-align: top;\n",
       "    }\n",
       "\n",
       "    .dataframe thead th {\n",
       "        text-align: right;\n",
       "    }\n",
       "</style>\n",
       "<table border=\"1\" class=\"dataframe\">\n",
       "  <thead>\n",
       "    <tr style=\"text-align: right;\">\n",
       "      <th></th>\n",
       "      <th>Unnamed: 0</th>\n",
       "      <th>X1</th>\n",
       "      <th>X2</th>\n",
       "      <th>X3</th>\n",
       "      <th>Y</th>\n",
       "    </tr>\n",
       "  </thead>\n",
       "  <tbody>\n",
       "    <tr>\n",
       "      <th>14</th>\n",
       "      <td>14</td>\n",
       "      <td>2696</td>\n",
       "      <td>22.7</td>\n",
       "      <td>3.5</td>\n",
       "      <td>619.3</td>\n",
       "    </tr>\n",
       "    <tr>\n",
       "      <th>27</th>\n",
       "      <td>27</td>\n",
       "      <td>3572</td>\n",
       "      <td>29</td>\n",
       "      <td>4</td>\n",
       "      <td>863.8</td>\n",
       "    </tr>\n",
       "    <tr>\n",
       "      <th>10</th>\n",
       "      <td>10</td>\n",
       "      <td>2591</td>\n",
       "      <td>19.2</td>\n",
       "      <td>2</td>\n",
       "      <td>544.3</td>\n",
       "    </tr>\n",
       "    <tr>\n",
       "      <th>12</th>\n",
       "      <td>12</td>\n",
       "      <td>2822</td>\n",
       "      <td>23.1</td>\n",
       "      <td>3</td>\n",
       "      <td>637.7</td>\n",
       "    </tr>\n",
       "    <tr>\n",
       "      <th>19</th>\n",
       "      <td>19</td>\n",
       "      <td>2885</td>\n",
       "      <td>23.2</td>\n",
       "      <td>3</td>\n",
       "      <td>663.6</td>\n",
       "    </tr>\n",
       "  </tbody>\n",
       "</table>\n",
       "</div>"
      ],
      "text/plain": [
       "   Unnamed: 0    X1    X2   X3      Y\n",
       "14         14  2696  22.7  3.5  619.3\n",
       "27         27  3572    29    4  863.8\n",
       "10         10  2591  19.2    2  544.3\n",
       "12         12  2822  23.1    3  637.7\n",
       "19         19  2885  23.2    3  663.6"
      ]
     },
     "execution_count": 16,
     "metadata": {},
     "output_type": "execute_result"
    }
   ],
   "source": [
    "#import data and read five random samples from the data\n",
    "df = pd.read_excel('datasets/MLR-House Prize.xlsx')\n",
    "df = df.sample(5)\n",
    "df.head()\n",
    "\n"
   ]
  },
  {
   "cell_type": "code",
   "execution_count": 17,
   "metadata": {},
   "outputs": [],
   "source": [
    "'''\n",
    "defining formulas\n",
    "'''\n",
    "y = np.array(df['Y']) \n",
    "#mean of x1, x2 and x3\n",
    "y_hat = np.mean(df[['X1', 'X2', 'X3']], axis=1)\n",
    "y_bar = y.mean()\n",
    "y_hat.head()\n",
    "\n",
    "#finding k\n",
    "def k(y, y_hat):\n",
    "    return df_reg(y, y_hat) / df_tot(y, y_hat)\n",
    "#ssr\n",
    "def ssr(y, y_hat):\n",
    "    return ((y_hat - y)**2).sum()\n",
    "#sse\n",
    "def sse(y, y_hat):\n",
    "    return ((y - y_hat)**2).sum()\n",
    "#sst\n",
    "def sst(y):\n",
    "    return ssr(y, y_hat) + sse(y, y_hat)\n",
    "\n",
    "#df for regression, k = degree of freedom\n",
    "def df_reg(y, y_hat):\n",
    "    return len(y) - 1\n",
    "#df for total, k = degree of freedom\n",
    "def df_tot(y, y_hat):\n",
    "    return len(y) - 1 + len(y_hat)\n",
    "\n",
    "\n",
    "#msr\n",
    "def msr(y, y_hat):\n",
    "    return ssr(y, y_hat) / df_reg(y, y_hat)\n",
    "#mse\n",
    "def mse(y, y_hat):\n",
    "    return sse(y, y_hat) / df_reg(y, y_hat)\n",
    "\n",
    "#F\n",
    "def F(y, y_hat):\n",
    "    return msr(y, y_hat) / mse(y, y_hat)\n",
    "#p-value\n",
    "def p_value(y, y_hat):\n",
    "    return 1 - stats.f.cdf(F(y, y_hat), df_reg(y, y_hat), df_tot(y, y_hat))"
   ]
  },
  {
   "cell_type": "code",
   "execution_count": 18,
   "metadata": {},
   "outputs": [
    {
     "name": "stdout",
     "output_type": "stream",
     "text": [
      "k = 0.4444444444444444\n",
      "ssr = 494976.5666666667\n",
      "sse = 494976.5666666667\n",
      "sst = 989953.1333333334\n",
      "df_reg = 4\n",
      "df_tot = 9\n",
      "msr = 123744.14166666668\n",
      "mse = 123744.14166666668\n",
      "F = 1.0\n",
      "p-value = 0.45578974399104866\n",
      "\n",
      "\n"
     ]
    },
    {
     "data": {
      "image/png": "[encoded data removed]",
      "text/plain": [
       "<Figure size 432x288 with 1 Axes>"
      ]
     },
     "metadata": {
      "needs_background": "light"
     },
     "output_type": "display_data"
    },
    {
     "data": {
      "image/png": "[encoded data removed]",
      "text/plain": [
       "<Figure size 432x288 with 1 Axes>"
      ]
     },
     "metadata": {
      "needs_background": "light"
     },
     "output_type": "display_data"
    },
    {
     "data": {
      "image/png": "[encoded data removed]",
      "text/plain": [
       "<Figure size 432x288 with 1 Axes>"
      ]
     },
     "metadata": {
      "needs_background": "light"
     },
     "output_type": "display_data"
    }
   ],
   "source": [
    "def main():\n",
    "    #printing the results\n",
    "    print('k =', k(y, y_hat))\n",
    "    print('ssr =', ssr(y, y_hat))\n",
    "    print('sse =', sse(y, y_hat))\n",
    "    print('sst =', sst(y))\n",
    "    print('df_reg =', df_reg(y, y_hat))\n",
    "    print('df_tot =', df_tot(y, y_hat))\n",
    "    print('msr =', msr(y, y_hat))\n",
    "    print('mse =', mse(y, y_hat))\n",
    "    print('F =', F(y, y_hat))\n",
    "    print('p-value =', p_value(y, y_hat))\n",
    "    print('\\n')\n",
    "    #plotting the results\n",
    "    plt.scatter(y, y_hat)\n",
    "    plt.xlabel('Y')\n",
    "    plt.ylabel('Y_hat')\n",
    "    plt.title('Y vs Y_hat')\n",
    "    plt.show()\n",
    "    #plotting the residuals\n",
    "    plt.scatter(y, y_hat - y)\n",
    "    plt.xlabel('Y')\n",
    "    plt.ylabel('Residuals')\n",
    "    plt.title('Residuals')\n",
    "    plt.show()\n",
    "    #plotting the residuals vs the y_hat\n",
    "    plt.scatter(y_hat, y_hat - y)\n",
    "    plt.xlabel('Y_hat')\n",
    "    plt.ylabel('Residuals')\n",
    "    plt.title('Residuals vs Y_hat')\n",
    "    plt.show()\n",
    "\n",
    "main()"
   ]
  }
 ],
 "metadata": {
  "kernelspec": {
   "display_name": "Python 3.10.2 64-bit",
   "language": "python",
   "name": "python3"
  },
  "language_info": {
   "codemirror_mode": {
    "name": "ipython",
    "version": 3
   },
   "file_extension": ".py",
   "mimetype": "text/x-python",
   "name": "python",
   "nbconvert_exporter": "python",
   "pygments_lexer": "ipython3",
   "version": "3.10.2"
  },
  "orig_nbformat": 4,
  "vscode": {
   "interpreter": {
    "hash": "949777d72b0d2535278d3dc13498b2535136f6dfe0678499012e853ee9abcab1"
   }
  }
 },
 "nbformat": 4,
 "nbformat_minor": 2
}
