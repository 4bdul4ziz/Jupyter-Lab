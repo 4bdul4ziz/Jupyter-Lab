{
 "cells": [
  {
   "cell_type": "markdown",
   "metadata": {},
   "source": [
    "\n",
    "Abdul A.\n",
    "\n",
    "20BRS1185\n",
    "\n",
    "Lab 3\n",
    "\n",
    "Perform an anova on the data, use regression and residual analysis along with the df and mean square to determine the p-value of the regression\n"
   ]
  },
  {
   "cell_type": "code",
   "execution_count": 2,
   "metadata": {},
   "outputs": [],
   "source": [
    "import pandas as pd\n",
    "import numpy as np\n",
    "import statsmodels.api as sm\n",
    "import statsmodels.formula.api as smf\n",
    "import matplotlib.pyplot as plt\n",
    "import seaborn as sns\n",
    "import scipy.stats as stats\n"
   ]
  },
  {
   "cell_type": "code",
   "execution_count": 3,
   "metadata": {},
   "outputs": [
    {
     "data": {
      "text/html": [
       "<div>\n",
       "<style scoped>\n",
       "    .dataframe tbody tr th:only-of-type {\n",
       "        vertical-align: middle;\n",
       "    }\n",
       "\n",
       "    .dataframe tbody tr th {\n",
       "        vertical-align: top;\n",
       "    }\n",
       "\n",
       "    .dataframe thead th {\n",
       "        text-align: right;\n",
       "    }\n",
       "</style>\n",
       "<table border=\"1\" class=\"dataframe\">\n",
       "  <thead>\n",
       "    <tr style=\"text-align: right;\">\n",
       "      <th></th>\n",
       "      <th>Unnamed: 0</th>\n",
       "      <th>X1</th>\n",
       "      <th>X2</th>\n",
       "      <th>X3</th>\n",
       "      <th>Y</th>\n",
       "    </tr>\n",
       "  </thead>\n",
       "  <tbody>\n",
       "    <tr>\n",
       "      <th>19</th>\n",
       "      <td>19</td>\n",
       "      <td>2885</td>\n",
       "      <td>23.2</td>\n",
       "      <td>3</td>\n",
       "      <td>663.6</td>\n",
       "    </tr>\n",
       "    <tr>\n",
       "      <th>23</th>\n",
       "      <td>23</td>\n",
       "      <td>2754</td>\n",
       "      <td>19.2</td>\n",
       "      <td>2.5</td>\n",
       "      <td>621.8</td>\n",
       "    </tr>\n",
       "    <tr>\n",
       "      <th>11</th>\n",
       "      <td>11</td>\n",
       "      <td>3633</td>\n",
       "      <td>26.9</td>\n",
       "      <td>4</td>\n",
       "      <td>822.8</td>\n",
       "    </tr>\n",
       "    <tr>\n",
       "      <th>9</th>\n",
       "      <td>9</td>\n",
       "      <td>2838</td>\n",
       "      <td>27.4</td>\n",
       "      <td>3</td>\n",
       "      <td>683</td>\n",
       "    </tr>\n",
       "    <tr>\n",
       "      <th>20</th>\n",
       "      <td>20</td>\n",
       "      <td>2550</td>\n",
       "      <td>20.2</td>\n",
       "      <td>3</td>\n",
       "      <td>606.6</td>\n",
       "    </tr>\n",
       "  </tbody>\n",
       "</table>\n",
       "</div>"
      ],
      "text/plain": [
       "   Unnamed: 0    X1    X2   X3      Y\n",
       "19         19  2885  23.2    3  663.6\n",
       "23         23  2754  19.2  2.5  621.8\n",
       "11         11  3633  26.9    4  822.8\n",
       "9           9  2838  27.4    3    683\n",
       "20         20  2550  20.2    3  606.6"
      ]
     },
     "execution_count": 3,
     "metadata": {},
     "output_type": "execute_result"
    }
   ],
   "source": [
    "#import data and read five random samples from the data\n",
    "df = pd.read_excel('datasets/MLR-House Prize.xlsx')\n",
    "df = df.sample(5)\n",
    "df.head()\n"
   ]
  },
  {
   "cell_type": "code",
   "execution_count": 4,
   "metadata": {},
   "outputs": [],
   "source": [
    "'''\n",
    "defining formulas\n",
    "'''\n",
    "#find the mean of x1 column and store it in a variable x1\n",
    "x1 = df['X1'].mean()\n",
    "#find the mean of x2 column and store it in a variable x2\n",
    "x2 = df['X2'].mean()\n",
    "#find the mean of x3 column and store it in a variable x3\n",
    "x3 = df['X3'].mean()\n",
    "\n",
    "\n",
    "#find the total mean of x1, x2, x3\n",
    "total_mean = (x1 + x2 + x3)/3\n",
    "\n",
    "#calculate the regression sum of squares\n",
    "def regression_ssr(df):\n",
    "    regression_ssr = 5*(x1 - total_mean)**2 + 5*(x2 -\n",
    "                                                total_mean)**2 + 5*(x3 - total_mean)**2\n",
    "    return regression_ssr\n",
    "\n",
    "#calculate the error sum of squares\n",
    "def error_sse(df):\n",
    "    g1 = sum((df['X1'] - total_mean)**2)\n",
    "    g2 = sum((df['X2'] - total_mean)**2)\n",
    "    g3 = sum((df['X3'] - total_mean)**2)\n",
    "\n",
    "    return g1 + g2 + g3\n",
    "\n",
    "#calculate the total sum of squares\n",
    "\n",
    "def total_sst(df):\n",
    "    total_sst = regression_ssr(df) + error_sse(df)\n",
    "    \n",
    "    return total_sst\n",
    "\n"
   ]
  },
  {
   "cell_type": "code",
   "execution_count": 5,
   "metadata": {},
   "outputs": [
    {
     "data": {
      "text/plain": [
       "28398227.988000005"
      ]
     },
     "execution_count": 5,
     "metadata": {},
     "output_type": "execute_result"
    }
   ],
   "source": [
    "regression_ssr(df)\n"
   ]
  },
  {
   "cell_type": "code",
   "execution_count": 6,
   "metadata": {},
   "outputs": [
    {
     "data": {
      "text/plain": [
       "57476567.34400001"
      ]
     },
     "execution_count": 6,
     "metadata": {},
     "output_type": "execute_result"
    }
   ],
   "source": [
    "total_sst(df)\n"
   ]
  },
  {
   "cell_type": "code",
   "execution_count": 7,
   "metadata": {},
   "outputs": [
    {
     "data": {
      "text/plain": [
       "29078339.356000002"
      ]
     },
     "execution_count": 7,
     "metadata": {},
     "output_type": "execute_result"
    }
   ],
   "source": [
    "error_sse(df)\n"
   ]
  },
  {
   "cell_type": "code",
   "execution_count": 11,
   "metadata": {},
   "outputs": [
    {
     "name": "stdout",
     "output_type": "stream",
     "text": [
      "\n",
      "    Regression Sum of Squares: \n",
      "28398227.988000005\n",
      "    Error Sum of Squares: \n",
      "29078339.356000002\n",
      "    Total Sum of Squares: \n",
      "57476567.34400001\n",
      "    \n",
      "\n",
      "    P value: \n",
      "1.669529983889803e-38\n",
      "    \n",
      "\n",
      "    F value: \n",
      "0.9766110657258127\n",
      "    \n",
      "\n",
      "    R squared: \n",
      "0.494083577017313\n",
      "    \n",
      "\n",
      "    Adjusted R squared: \n",
      "0.3254447693564173\n",
      "    \n"
     ]
    }
   ],
   "source": [
    "def main():\n",
    "    print('''\n",
    "    Regression Sum of Squares: \\n{}\n",
    "    Error Sum of Squares: \\n{}\n",
    "    Total Sum of Squares: \\n{}\n",
    "    '''.format(regression_ssr(df), error_sse(df), total_sst(df)))\n",
    "    #find p value\n",
    "    p_value = stats.f.sf(regression_ssr(df)/3, 3, 12)\n",
    "    print('''\n",
    "    P value: \\n{}\n",
    "    '''.format(p_value))\n",
    "    #find f value\n",
    "    f_value = regression_ssr(df)/error_sse(df)\n",
    "    print('''\n",
    "    F value: \\n{}\n",
    "    '''.format(f_value))\n",
    "    #find r squared\n",
    "    r_squared = regression_ssr(df)/total_sst(df)\n",
    "    print('''\n",
    "    R squared: \\n{}\n",
    "    '''.format(r_squared))\n",
    "    #find adjusted r squared\n",
    "    adjusted_r_squared = 1 - (1 - r_squared)*(12/9)\n",
    "    print('''\n",
    "    Adjusted R squared: \\n{}\n",
    "    '''.format(adjusted_r_squared))\n",
    "    \n",
    "    \n",
    "main()"
   ]
  }
 ],
 "metadata": {
  "kernelspec": {
   "display_name": "Python 3.10.2 64-bit",
   "language": "python",
   "name": "python3"
  },
  "language_info": {
   "codemirror_mode": {
    "name": "ipython",
    "version": 3
   },
   "file_extension": ".py",
   "mimetype": "text/x-python",
   "name": "python",
   "nbconvert_exporter": "python",
   "pygments_lexer": "ipython3",
   "version": "3.10.2"
  },
  "orig_nbformat": 4,
  "vscode": {
   "interpreter": {
    "hash": "949777d72b0d2535278d3dc13498b2535136f6dfe0678499012e853ee9abcab1"
   }
  }
 },
 "nbformat": 4,
 "nbformat_minor": 2
}
