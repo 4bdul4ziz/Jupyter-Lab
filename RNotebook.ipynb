{
 "cells": [
  {
   "cell_type": "code",
   "execution_count": 2,
   "metadata": {
    "vscode": {
     "languageId": "r"
    }
   },
   "outputs": [
    {
     "data": {
      "text/html": [
       "<ol>\n",
       "\t<li><table class=\"dataframe\">\n",
       "<caption>A data.table: 10 × 2</caption>\n",
       "<thead>\n",
       "\t<tr><th scope=col>x</th><th scope=col>y</th></tr>\n",
       "\t<tr><th scope=col>&lt;int&gt;</th><th scope=col>&lt;int&gt;</th></tr>\n",
       "</thead>\n",
       "<tbody>\n",
       "\t<tr><td> 1</td><td> 1</td></tr>\n",
       "\t<tr><td> 2</td><td> 2</td></tr>\n",
       "\t<tr><td> 3</td><td> 3</td></tr>\n",
       "\t<tr><td> 4</td><td> 4</td></tr>\n",
       "\t<tr><td> 5</td><td> 5</td></tr>\n",
       "\t<tr><td> 6</td><td> 6</td></tr>\n",
       "\t<tr><td> 7</td><td> 7</td></tr>\n",
       "\t<tr><td> 8</td><td> 8</td></tr>\n",
       "\t<tr><td> 9</td><td> 9</td></tr>\n",
       "\t<tr><td>10</td><td>10</td></tr>\n",
       "</tbody>\n",
       "</table>\n",
       "</li>\n",
       "</ol>\n"
      ],
      "text/latex": [
       "\\begin{enumerate}\n",
       "\\item A data.table: 10 × 2\n",
       "\\begin{tabular}{ll}\n",
       " x & y\\\\\n",
       " <int> & <int>\\\\\n",
       "\\hline\n",
       "\t  1 &  1\\\\\n",
       "\t  2 &  2\\\\\n",
       "\t  3 &  3\\\\\n",
       "\t  4 &  4\\\\\n",
       "\t  5 &  5\\\\\n",
       "\t  6 &  6\\\\\n",
       "\t  7 &  7\\\\\n",
       "\t  8 &  8\\\\\n",
       "\t  9 &  9\\\\\n",
       "\t 10 & 10\\\\\n",
       "\\end{tabular}\n",
       "\n",
       "\\end{enumerate}\n"
      ],
      "text/markdown": [
       "1. \n",
       "A data.table: 10 × 2\n",
       "\n",
       "| x &lt;int&gt; | y &lt;int&gt; |\n",
       "|---|---|\n",
       "|  1 |  1 |\n",
       "|  2 |  2 |\n",
       "|  3 |  3 |\n",
       "|  4 |  4 |\n",
       "|  5 |  5 |\n",
       "|  6 |  6 |\n",
       "|  7 |  7 |\n",
       "|  8 |  8 |\n",
       "|  9 |  9 |\n",
       "| 10 | 10 |\n",
       "\n",
       "\n",
       "\n",
       "\n"
      ],
      "text/plain": [
       "[[1]]\n",
       "     x  y\n",
       " 1:  1  1\n",
       " 2:  2  2\n",
       " 3:  3  3\n",
       " 4:  4  4\n",
       " 5:  5  5\n",
       " 6:  6  6\n",
       " 7:  7  7\n",
       " 8:  8  8\n",
       " 9:  9  9\n",
       "10: 10 10\n"
      ]
     },
     "metadata": {},
     "output_type": "display_data"
    }
   ],
   "source": [
    "# use list() function on an example with data.table()\n",
    "\n",
    "library(data.table)\n",
    "library(dplyr)\n",
    "\n",
    "# create a data.table\n",
    "dt <- data.table(x = 1:10, y = 1:10)\n",
    "\n",
    "# create a list\n",
    "list(dt)\n"
   ]
  },
  {
   "cell_type": "code",
   "execution_count": 14,
   "metadata": {
    "vscode": {
     "languageId": "r"
    }
   },
   "outputs": [
    {
     "data": {
      "text/html": [
       "<table class=\"dataframe\">\n",
       "<caption>A data.table: 2 × 4</caption>\n",
       "<thead>\n",
       "\t<tr><th scope=col>B</th><th scope=col>A</th><th scope=col>B</th><th scope=col>C</th></tr>\n",
       "\t<tr><th scope=col>&lt;chr&gt;</th><th scope=col>&lt;dbl&gt;</th><th scope=col>&lt;chr&gt;</th><th scope=col>&lt;dbl&gt;</th></tr>\n",
       "</thead>\n",
       "<tbody>\n",
       "\t<tr><td>x</td><td> 0.21773588</td><td>x</td><td> 1.168033</td></tr>\n",
       "\t<tr><td>y</td><td>-0.02705735</td><td>y</td><td>-1.182635</td></tr>\n",
       "</tbody>\n",
       "</table>\n"
      ],
      "text/latex": [
       "A data.table: 2 × 4\n",
       "\\begin{tabular}{llll}\n",
       " B & A & B & C\\\\\n",
       " <chr> & <dbl> & <chr> & <dbl>\\\\\n",
       "\\hline\n",
       "\t x &  0.21773588 & x &  1.168033\\\\\n",
       "\t y & -0.02705735 & y & -1.182635\\\\\n",
       "\\end{tabular}\n"
      ],
      "text/markdown": [
       "\n",
       "A data.table: 2 × 4\n",
       "\n",
       "| B &lt;chr&gt; | A &lt;dbl&gt; | B &lt;chr&gt; | C &lt;dbl&gt; |\n",
       "|---|---|---|---|\n",
       "| x |  0.21773588 | x |  1.168033 |\n",
       "| y | -0.02705735 | y | -1.182635 |\n",
       "\n"
      ],
      "text/plain": [
       "  B A           B C        \n",
       "1 x  0.21773588 x  1.168033\n",
       "2 y -0.02705735 y -1.182635"
      ]
     },
     "metadata": {},
     "output_type": "display_data"
    },
    {
     "data": {
      "text/html": [
       "<table class=\"dataframe\">\n",
       "<caption>A data.table: 100 × 3</caption>\n",
       "<thead>\n",
       "\t<tr><th scope=col>A</th><th scope=col>B</th><th scope=col>C</th></tr>\n",
       "\t<tr><th scope=col>&lt;dbl&gt;</th><th scope=col>&lt;chr&gt;</th><th scope=col>&lt;dbl&gt;</th></tr>\n",
       "</thead>\n",
       "<tbody>\n",
       "\t<tr><td>-2.4053759</td><td>y</td><td> 0.54621076</td></tr>\n",
       "\t<tr><td>-2.3039086</td><td>x</td><td>-0.03895604</td></tr>\n",
       "\t<tr><td>-1.9878491</td><td>y</td><td>-1.50233258</td></tr>\n",
       "\t<tr><td>-1.6540253</td><td>y</td><td> 1.07501514</td></tr>\n",
       "\t<tr><td>-1.4477854</td><td>x</td><td>-0.27197648</td></tr>\n",
       "\t<tr><td>-1.3786925</td><td>x</td><td>-1.53728615</td></tr>\n",
       "\t<tr><td>-1.3611824</td><td>y</td><td>-0.03732001</td></tr>\n",
       "\t<tr><td>-1.2806077</td><td>y</td><td> 2.42170503</td></tr>\n",
       "\t<tr><td>-1.2615126</td><td>x</td><td> 0.82751712</td></tr>\n",
       "\t<tr><td>-1.1839337</td><td>y</td><td> 0.34047842</td></tr>\n",
       "\t<tr><td>-1.1380698</td><td>x</td><td>-0.83566064</td></tr>\n",
       "\t<tr><td>-1.1359354</td><td>x</td><td> 1.38417506</td></tr>\n",
       "\t<tr><td>-1.1178561</td><td>y</td><td> 1.09125292</td></tr>\n",
       "\t<tr><td>-1.1169263</td><td>x</td><td> 0.59243317</td></tr>\n",
       "\t<tr><td>-1.0277295</td><td>x</td><td>-0.39517567</td></tr>\n",
       "\t<tr><td>-1.0254254</td><td>x</td><td>-0.26478013</td></tr>\n",
       "\t<tr><td>-0.9912822</td><td>y</td><td>-0.84520748</td></tr>\n",
       "\t<tr><td>-0.9112378</td><td>y</td><td>-0.60380923</td></tr>\n",
       "\t<tr><td>-0.8476721</td><td>y</td><td> 0.61852376</td></tr>\n",
       "\t<tr><td>-0.8228448</td><td>x</td><td>-0.31183443</td></tr>\n",
       "\t<tr><td>-0.7416862</td><td>y</td><td> 0.79315785</td></tr>\n",
       "\t<tr><td>-0.7327693</td><td>x</td><td>-0.35802543</td></tr>\n",
       "\t<tr><td>-0.7301275</td><td>y</td><td>-0.21415374</td></tr>\n",
       "\t<tr><td>-0.6882312</td><td>y</td><td>-0.15560507</td></tr>\n",
       "\t<tr><td>-0.6060637</td><td>x</td><td>-0.04448276</td></tr>\n",
       "\t<tr><td>-0.5941635</td><td>x</td><td> 0.52749157</td></tr>\n",
       "\t<tr><td>-0.5380442</td><td>y</td><td>-0.68107802</td></tr>\n",
       "\t<tr><td>-0.5093294</td><td>x</td><td> 1.46505058</td></tr>\n",
       "\t<tr><td>-0.4944605</td><td>y</td><td> 0.02507556</td></tr>\n",
       "\t<tr><td>-0.4209095</td><td>x</td><td>-0.46721294</td></tr>\n",
       "\t<tr><td>⋮</td><td>⋮</td><td>⋮</td></tr>\n",
       "\t<tr><td>0.6244202</td><td>y</td><td>-1.28533233</td></tr>\n",
       "\t<tr><td>0.6518875</td><td>y</td><td>-0.66955919</td></tr>\n",
       "\t<tr><td>0.6837542</td><td>y</td><td>-0.77452742</td></tr>\n",
       "\t<tr><td>0.7622507</td><td>x</td><td> 0.92007833</td></tr>\n",
       "\t<tr><td>0.7676467</td><td>x</td><td> 0.46841278</td></tr>\n",
       "\t<tr><td>0.7776540</td><td>x</td><td>-1.06768519</td></tr>\n",
       "\t<tr><td>0.7921116</td><td>x</td><td> 1.51513897</td></tr>\n",
       "\t<tr><td>0.8113148</td><td>x</td><td>-0.54103716</td></tr>\n",
       "\t<tr><td>0.8147417</td><td>y</td><td>-1.56562873</td></tr>\n",
       "\t<tr><td>0.8510834</td><td>y</td><td> 1.57268211</td></tr>\n",
       "\t<tr><td>0.8786387</td><td>y</td><td> 1.18335942</td></tr>\n",
       "\t<tr><td>0.9147662</td><td>x</td><td>-0.05386885</td></tr>\n",
       "\t<tr><td>0.9284427</td><td>x</td><td>-1.98211408</td></tr>\n",
       "\t<tr><td>0.9445683</td><td>x</td><td> 0.19486298</td></tr>\n",
       "\t<tr><td>0.9469099</td><td>x</td><td> 0.81389709</td></tr>\n",
       "\t<tr><td>0.9574578</td><td>y</td><td> 1.37492322</td></tr>\n",
       "\t<tr><td>1.0500877</td><td>x</td><td>-0.63422984</td></tr>\n",
       "\t<tr><td>1.2085833</td><td>y</td><td>-1.51280066</td></tr>\n",
       "\t<tr><td>1.2378653</td><td>x</td><td> 1.04521377</td></tr>\n",
       "\t<tr><td>1.2538429</td><td>y</td><td> 0.14983288</td></tr>\n",
       "\t<tr><td>1.6329420</td><td>x</td><td> 1.73342732</td></tr>\n",
       "\t<tr><td>1.6762645</td><td>y</td><td> 0.32040259</td></tr>\n",
       "\t<tr><td>1.7507978</td><td>x</td><td> 0.48597538</td></tr>\n",
       "\t<tr><td>1.9243740</td><td>x</td><td> 0.73152104</td></tr>\n",
       "\t<tr><td>2.0394985</td><td>x</td><td>-0.03111166</td></tr>\n",
       "\t<tr><td>2.0675252</td><td>x</td><td>-0.13187288</td></tr>\n",
       "\t<tr><td>2.1056214</td><td>y</td><td> 1.55515608</td></tr>\n",
       "\t<tr><td>2.1932754</td><td>x</td><td> 0.06370741</td></tr>\n",
       "\t<tr><td>2.2842442</td><td>x</td><td> 0.11956978</td></tr>\n",
       "\t<tr><td>2.4500066</td><td>x</td><td> 1.50920204</td></tr>\n",
       "</tbody>\n",
       "</table>\n"
      ],
      "text/latex": [
       "A data.table: 100 × 3\n",
       "\\begin{tabular}{lll}\n",
       " A & B & C\\\\\n",
       " <dbl> & <chr> & <dbl>\\\\\n",
       "\\hline\n",
       "\t -2.4053759 & y &  0.54621076\\\\\n",
       "\t -2.3039086 & x & -0.03895604\\\\\n",
       "\t -1.9878491 & y & -1.50233258\\\\\n",
       "\t -1.6540253 & y &  1.07501514\\\\\n",
       "\t -1.4477854 & x & -0.27197648\\\\\n",
       "\t -1.3786925 & x & -1.53728615\\\\\n",
       "\t -1.3611824 & y & -0.03732001\\\\\n",
       "\t -1.2806077 & y &  2.42170503\\\\\n",
       "\t -1.2615126 & x &  0.82751712\\\\\n",
       "\t -1.1839337 & y &  0.34047842\\\\\n",
       "\t -1.1380698 & x & -0.83566064\\\\\n",
       "\t -1.1359354 & x &  1.38417506\\\\\n",
       "\t -1.1178561 & y &  1.09125292\\\\\n",
       "\t -1.1169263 & x &  0.59243317\\\\\n",
       "\t -1.0277295 & x & -0.39517567\\\\\n",
       "\t -1.0254254 & x & -0.26478013\\\\\n",
       "\t -0.9912822 & y & -0.84520748\\\\\n",
       "\t -0.9112378 & y & -0.60380923\\\\\n",
       "\t -0.8476721 & y &  0.61852376\\\\\n",
       "\t -0.8228448 & x & -0.31183443\\\\\n",
       "\t -0.7416862 & y &  0.79315785\\\\\n",
       "\t -0.7327693 & x & -0.35802543\\\\\n",
       "\t -0.7301275 & y & -0.21415374\\\\\n",
       "\t -0.6882312 & y & -0.15560507\\\\\n",
       "\t -0.6060637 & x & -0.04448276\\\\\n",
       "\t -0.5941635 & x &  0.52749157\\\\\n",
       "\t -0.5380442 & y & -0.68107802\\\\\n",
       "\t -0.5093294 & x &  1.46505058\\\\\n",
       "\t -0.4944605 & y &  0.02507556\\\\\n",
       "\t -0.4209095 & x & -0.46721294\\\\\n",
       "\t ⋮ & ⋮ & ⋮\\\\\n",
       "\t 0.6244202 & y & -1.28533233\\\\\n",
       "\t 0.6518875 & y & -0.66955919\\\\\n",
       "\t 0.6837542 & y & -0.77452742\\\\\n",
       "\t 0.7622507 & x &  0.92007833\\\\\n",
       "\t 0.7676467 & x &  0.46841278\\\\\n",
       "\t 0.7776540 & x & -1.06768519\\\\\n",
       "\t 0.7921116 & x &  1.51513897\\\\\n",
       "\t 0.8113148 & x & -0.54103716\\\\\n",
       "\t 0.8147417 & y & -1.56562873\\\\\n",
       "\t 0.8510834 & y &  1.57268211\\\\\n",
       "\t 0.8786387 & y &  1.18335942\\\\\n",
       "\t 0.9147662 & x & -0.05386885\\\\\n",
       "\t 0.9284427 & x & -1.98211408\\\\\n",
       "\t 0.9445683 & x &  0.19486298\\\\\n",
       "\t 0.9469099 & x &  0.81389709\\\\\n",
       "\t 0.9574578 & y &  1.37492322\\\\\n",
       "\t 1.0500877 & x & -0.63422984\\\\\n",
       "\t 1.2085833 & y & -1.51280066\\\\\n",
       "\t 1.2378653 & x &  1.04521377\\\\\n",
       "\t 1.2538429 & y &  0.14983288\\\\\n",
       "\t 1.6329420 & x &  1.73342732\\\\\n",
       "\t 1.6762645 & y &  0.32040259\\\\\n",
       "\t 1.7507978 & x &  0.48597538\\\\\n",
       "\t 1.9243740 & x &  0.73152104\\\\\n",
       "\t 2.0394985 & x & -0.03111166\\\\\n",
       "\t 2.0675252 & x & -0.13187288\\\\\n",
       "\t 2.1056214 & y &  1.55515608\\\\\n",
       "\t 2.1932754 & x &  0.06370741\\\\\n",
       "\t 2.2842442 & x &  0.11956978\\\\\n",
       "\t 2.4500066 & x &  1.50920204\\\\\n",
       "\\end{tabular}\n"
      ],
      "text/markdown": [
       "\n",
       "A data.table: 100 × 3\n",
       "\n",
       "| A &lt;dbl&gt; | B &lt;chr&gt; | C &lt;dbl&gt; |\n",
       "|---|---|---|\n",
       "| -2.4053759 | y |  0.54621076 |\n",
       "| -2.3039086 | x | -0.03895604 |\n",
       "| -1.9878491 | y | -1.50233258 |\n",
       "| -1.6540253 | y |  1.07501514 |\n",
       "| -1.4477854 | x | -0.27197648 |\n",
       "| -1.3786925 | x | -1.53728615 |\n",
       "| -1.3611824 | y | -0.03732001 |\n",
       "| -1.2806077 | y |  2.42170503 |\n",
       "| -1.2615126 | x |  0.82751712 |\n",
       "| -1.1839337 | y |  0.34047842 |\n",
       "| -1.1380698 | x | -0.83566064 |\n",
       "| -1.1359354 | x |  1.38417506 |\n",
       "| -1.1178561 | y |  1.09125292 |\n",
       "| -1.1169263 | x |  0.59243317 |\n",
       "| -1.0277295 | x | -0.39517567 |\n",
       "| -1.0254254 | x | -0.26478013 |\n",
       "| -0.9912822 | y | -0.84520748 |\n",
       "| -0.9112378 | y | -0.60380923 |\n",
       "| -0.8476721 | y |  0.61852376 |\n",
       "| -0.8228448 | x | -0.31183443 |\n",
       "| -0.7416862 | y |  0.79315785 |\n",
       "| -0.7327693 | x | -0.35802543 |\n",
       "| -0.7301275 | y | -0.21415374 |\n",
       "| -0.6882312 | y | -0.15560507 |\n",
       "| -0.6060637 | x | -0.04448276 |\n",
       "| -0.5941635 | x |  0.52749157 |\n",
       "| -0.5380442 | y | -0.68107802 |\n",
       "| -0.5093294 | x |  1.46505058 |\n",
       "| -0.4944605 | y |  0.02507556 |\n",
       "| -0.4209095 | x | -0.46721294 |\n",
       "| ⋮ | ⋮ | ⋮ |\n",
       "| 0.6244202 | y | -1.28533233 |\n",
       "| 0.6518875 | y | -0.66955919 |\n",
       "| 0.6837542 | y | -0.77452742 |\n",
       "| 0.7622507 | x |  0.92007833 |\n",
       "| 0.7676467 | x |  0.46841278 |\n",
       "| 0.7776540 | x | -1.06768519 |\n",
       "| 0.7921116 | x |  1.51513897 |\n",
       "| 0.8113148 | x | -0.54103716 |\n",
       "| 0.8147417 | y | -1.56562873 |\n",
       "| 0.8510834 | y |  1.57268211 |\n",
       "| 0.8786387 | y |  1.18335942 |\n",
       "| 0.9147662 | x | -0.05386885 |\n",
       "| 0.9284427 | x | -1.98211408 |\n",
       "| 0.9445683 | x |  0.19486298 |\n",
       "| 0.9469099 | x |  0.81389709 |\n",
       "| 0.9574578 | y |  1.37492322 |\n",
       "| 1.0500877 | x | -0.63422984 |\n",
       "| 1.2085833 | y | -1.51280066 |\n",
       "| 1.2378653 | x |  1.04521377 |\n",
       "| 1.2538429 | y |  0.14983288 |\n",
       "| 1.6329420 | x |  1.73342732 |\n",
       "| 1.6762645 | y |  0.32040259 |\n",
       "| 1.7507978 | x |  0.48597538 |\n",
       "| 1.9243740 | x |  0.73152104 |\n",
       "| 2.0394985 | x | -0.03111166 |\n",
       "| 2.0675252 | x | -0.13187288 |\n",
       "| 2.1056214 | y |  1.55515608 |\n",
       "| 2.1932754 | x |  0.06370741 |\n",
       "| 2.2842442 | x |  0.11956978 |\n",
       "| 2.4500066 | x |  1.50920204 |\n",
       "\n"
      ],
      "text/plain": [
       "    A          B C          \n",
       "1   -2.4053759 y  0.54621076\n",
       "2   -2.3039086 x -0.03895604\n",
       "3   -1.9878491 y -1.50233258\n",
       "4   -1.6540253 y  1.07501514\n",
       "5   -1.4477854 x -0.27197648\n",
       "6   -1.3786925 x -1.53728615\n",
       "7   -1.3611824 y -0.03732001\n",
       "8   -1.2806077 y  2.42170503\n",
       "9   -1.2615126 x  0.82751712\n",
       "10  -1.1839337 y  0.34047842\n",
       "11  -1.1380698 x -0.83566064\n",
       "12  -1.1359354 x  1.38417506\n",
       "13  -1.1178561 y  1.09125292\n",
       "14  -1.1169263 x  0.59243317\n",
       "15  -1.0277295 x -0.39517567\n",
       "16  -1.0254254 x -0.26478013\n",
       "17  -0.9912822 y -0.84520748\n",
       "18  -0.9112378 y -0.60380923\n",
       "19  -0.8476721 y  0.61852376\n",
       "20  -0.8228448 x -0.31183443\n",
       "21  -0.7416862 y  0.79315785\n",
       "22  -0.7327693 x -0.35802543\n",
       "23  -0.7301275 y -0.21415374\n",
       "24  -0.6882312 y -0.15560507\n",
       "25  -0.6060637 x -0.04448276\n",
       "26  -0.5941635 x  0.52749157\n",
       "27  -0.5380442 y -0.68107802\n",
       "28  -0.5093294 x  1.46505058\n",
       "29  -0.4944605 y  0.02507556\n",
       "30  -0.4209095 x -0.46721294\n",
       "⋮   ⋮          ⋮ ⋮          \n",
       "71  0.6244202  y -1.28533233\n",
       "72  0.6518875  y -0.66955919\n",
       "73  0.6837542  y -0.77452742\n",
       "74  0.7622507  x  0.92007833\n",
       "75  0.7676467  x  0.46841278\n",
       "76  0.7776540  x -1.06768519\n",
       "77  0.7921116  x  1.51513897\n",
       "78  0.8113148  x -0.54103716\n",
       "79  0.8147417  y -1.56562873\n",
       "80  0.8510834  y  1.57268211\n",
       "81  0.8786387  y  1.18335942\n",
       "82  0.9147662  x -0.05386885\n",
       "83  0.9284427  x -1.98211408\n",
       "84  0.9445683  x  0.19486298\n",
       "85  0.9469099  x  0.81389709\n",
       "86  0.9574578  y  1.37492322\n",
       "87  1.0500877  x -0.63422984\n",
       "88  1.2085833  y -1.51280066\n",
       "89  1.2378653  x  1.04521377\n",
       "90  1.2538429  y  0.14983288\n",
       "91  1.6329420  x  1.73342732\n",
       "92  1.6762645  y  0.32040259\n",
       "93  1.7507978  x  0.48597538\n",
       "94  1.9243740  x  0.73152104\n",
       "95  2.0394985  x -0.03111166\n",
       "96  2.0675252  x -0.13187288\n",
       "97  2.1056214  y  1.55515608\n",
       "98  2.1932754  x  0.06370741\n",
       "99  2.2842442  x  0.11956978\n",
       "100 2.4500066  x  1.50920204"
      ]
     },
     "metadata": {},
     "output_type": "display_data"
    },
    {
     "data": {
      "text/html": [
       "<table class=\"dataframe\">\n",
       "<caption>A data.table: 2 × 4</caption>\n",
       "<thead>\n",
       "\t<tr><th scope=col>B</th><th scope=col>A</th><th scope=col>B</th><th scope=col>C</th></tr>\n",
       "\t<tr><th scope=col>&lt;chr&gt;</th><th scope=col>&lt;dbl&gt;</th><th scope=col>&lt;chr&gt;</th><th scope=col>&lt;dbl&gt;</th></tr>\n",
       "</thead>\n",
       "<tbody>\n",
       "\t<tr><td>x</td><td> 0.21773588</td><td>x</td><td> 1.168033</td></tr>\n",
       "\t<tr><td>y</td><td>-0.02705735</td><td>y</td><td>-1.182635</td></tr>\n",
       "</tbody>\n",
       "</table>\n"
      ],
      "text/latex": [
       "A data.table: 2 × 4\n",
       "\\begin{tabular}{llll}\n",
       " B & A & B & C\\\\\n",
       " <chr> & <dbl> & <chr> & <dbl>\\\\\n",
       "\\hline\n",
       "\t x &  0.21773588 & x &  1.168033\\\\\n",
       "\t y & -0.02705735 & y & -1.182635\\\\\n",
       "\\end{tabular}\n"
      ],
      "text/markdown": [
       "\n",
       "A data.table: 2 × 4\n",
       "\n",
       "| B &lt;chr&gt; | A &lt;dbl&gt; | B &lt;chr&gt; | C &lt;dbl&gt; |\n",
       "|---|---|---|---|\n",
       "| x |  0.21773588 | x |  1.168033 |\n",
       "| y | -0.02705735 | y | -1.182635 |\n",
       "\n"
      ],
      "text/plain": [
       "  B A           B C        \n",
       "1 x  0.21773588 x  1.168033\n",
       "2 y -0.02705735 y -1.182635"
      ]
     },
     "metadata": {},
     "output_type": "display_data"
    }
   ],
   "source": [
    "# Create a data frame containing three variable A,B,C st. A is normally distributed. B has repetitions of x and y. Perform all data table manipulation operations.\n",
    "\n",
    "# create a data frame\n",
    "df <- data.frame(A = rnorm(100), B = sample(c(\"x\", \"y\"), 100, replace = TRUE), C = rnorm(100))\n",
    "\n",
    "# create a data.table\n",
    "dt <- as.data.table(df)\n",
    "\n",
    "# data manipulation Operations\n",
    "dt[, .(A = mean(A), B = unique(B), C = sum(C)), by = B]\n",
    "\n",
    "# ordering by ascending A\n",
    "dt[order(A)]\n",
    "dt[, .(A = mean(A), B = unique(B), C = sum(C)), by = B][order(-A)]\n"
   ]
  },
  {
   "cell_type": "code",
   "execution_count": 17,
   "metadata": {
    "vscode": {
     "languageId": "r"
    }
   },
   "outputs": [
    {
     "data": {
      "text/html": [
       "<table class=\"dataframe\">\n",
       "<caption>A data.table: 5 × 2</caption>\n",
       "<thead>\n",
       "\t<tr><th scope=col>x</th><th scope=col>y</th></tr>\n",
       "\t<tr><th scope=col>&lt;int&gt;</th><th scope=col>&lt;int&gt;</th></tr>\n",
       "</thead>\n",
       "<tbody>\n",
       "\t<tr><td> 6</td><td> 6</td></tr>\n",
       "\t<tr><td> 7</td><td> 7</td></tr>\n",
       "\t<tr><td> 8</td><td> 8</td></tr>\n",
       "\t<tr><td> 9</td><td> 9</td></tr>\n",
       "\t<tr><td>10</td><td>10</td></tr>\n",
       "</tbody>\n",
       "</table>\n"
      ],
      "text/latex": [
       "A data.table: 5 × 2\n",
       "\\begin{tabular}{ll}\n",
       " x & y\\\\\n",
       " <int> & <int>\\\\\n",
       "\\hline\n",
       "\t  6 &  6\\\\\n",
       "\t  7 &  7\\\\\n",
       "\t  8 &  8\\\\\n",
       "\t  9 &  9\\\\\n",
       "\t 10 & 10\\\\\n",
       "\\end{tabular}\n"
      ],
      "text/markdown": [
       "\n",
       "A data.table: 5 × 2\n",
       "\n",
       "| x &lt;int&gt; | y &lt;int&gt; |\n",
       "|---|---|\n",
       "|  6 |  6 |\n",
       "|  7 |  7 |\n",
       "|  8 |  8 |\n",
       "|  9 |  9 |\n",
       "| 10 | 10 |\n",
       "\n"
      ],
      "text/plain": [
       "  x  y \n",
       "1  6  6\n",
       "2  7  7\n",
       "3  8  8\n",
       "4  9  9\n",
       "5 10 10"
      ]
     },
     "metadata": {},
     "output_type": "display_data"
    },
    {
     "data": {
      "text/html": [
       "<table class=\"dataframe\">\n",
       "<caption>A data.table: 5 × 2</caption>\n",
       "<thead>\n",
       "\t<tr><th scope=col>x</th><th scope=col>y</th></tr>\n",
       "\t<tr><th scope=col>&lt;int&gt;</th><th scope=col>&lt;int&gt;</th></tr>\n",
       "</thead>\n",
       "<tbody>\n",
       "\t<tr><td> 6</td><td> 6</td></tr>\n",
       "\t<tr><td> 7</td><td> 7</td></tr>\n",
       "\t<tr><td> 8</td><td> 8</td></tr>\n",
       "\t<tr><td> 9</td><td> 9</td></tr>\n",
       "\t<tr><td>10</td><td>10</td></tr>\n",
       "</tbody>\n",
       "</table>\n"
      ],
      "text/latex": [
       "A data.table: 5 × 2\n",
       "\\begin{tabular}{ll}\n",
       " x & y\\\\\n",
       " <int> & <int>\\\\\n",
       "\\hline\n",
       "\t  6 &  6\\\\\n",
       "\t  7 &  7\\\\\n",
       "\t  8 &  8\\\\\n",
       "\t  9 &  9\\\\\n",
       "\t 10 & 10\\\\\n",
       "\\end{tabular}\n"
      ],
      "text/markdown": [
       "\n",
       "A data.table: 5 × 2\n",
       "\n",
       "| x &lt;int&gt; | y &lt;int&gt; |\n",
       "|---|---|\n",
       "|  6 |  6 |\n",
       "|  7 |  7 |\n",
       "|  8 |  8 |\n",
       "|  9 |  9 |\n",
       "| 10 | 10 |\n",
       "\n"
      ],
      "text/plain": [
       "  x  y \n",
       "1  6  6\n",
       "2  7  7\n",
       "3  8  8\n",
       "4  9  9\n",
       "5 10 10"
      ]
     },
     "metadata": {},
     "output_type": "display_data"
    },
    {
     "data": {
      "text/html": [
       "<table class=\"dataframe\">\n",
       "<caption>A data.table: 5 × 2</caption>\n",
       "<thead>\n",
       "\t<tr><th scope=col>x</th><th scope=col>y</th></tr>\n",
       "\t<tr><th scope=col>&lt;int&gt;</th><th scope=col>&lt;int&gt;</th></tr>\n",
       "</thead>\n",
       "<tbody>\n",
       "\t<tr><td> 6</td><td> 6</td></tr>\n",
       "\t<tr><td> 7</td><td> 7</td></tr>\n",
       "\t<tr><td> 8</td><td> 8</td></tr>\n",
       "\t<tr><td> 9</td><td> 9</td></tr>\n",
       "\t<tr><td>10</td><td>10</td></tr>\n",
       "</tbody>\n",
       "</table>\n"
      ],
      "text/latex": [
       "A data.table: 5 × 2\n",
       "\\begin{tabular}{ll}\n",
       " x & y\\\\\n",
       " <int> & <int>\\\\\n",
       "\\hline\n",
       "\t  6 &  6\\\\\n",
       "\t  7 &  7\\\\\n",
       "\t  8 &  8\\\\\n",
       "\t  9 &  9\\\\\n",
       "\t 10 & 10\\\\\n",
       "\\end{tabular}\n"
      ],
      "text/markdown": [
       "\n",
       "A data.table: 5 × 2\n",
       "\n",
       "| x &lt;int&gt; | y &lt;int&gt; |\n",
       "|---|---|\n",
       "|  6 |  6 |\n",
       "|  7 |  7 |\n",
       "|  8 |  8 |\n",
       "|  9 |  9 |\n",
       "| 10 | 10 |\n",
       "\n"
      ],
      "text/plain": [
       "  x  y \n",
       "1  6  6\n",
       "2  7  7\n",
       "3  8  8\n",
       "4  9  9\n",
       "5 10 10"
      ]
     },
     "metadata": {},
     "output_type": "display_data"
    },
    {
     "data": {
      "text/html": [
       "<table class=\"dataframe\">\n",
       "<caption>A data.table: 5 × 2</caption>\n",
       "<thead>\n",
       "\t<tr><th scope=col>x</th><th scope=col>y</th></tr>\n",
       "\t<tr><th scope=col>&lt;int&gt;</th><th scope=col>&lt;int&gt;</th></tr>\n",
       "</thead>\n",
       "<tbody>\n",
       "\t<tr><td> 6</td><td> 6</td></tr>\n",
       "\t<tr><td> 7</td><td> 7</td></tr>\n",
       "\t<tr><td> 8</td><td> 8</td></tr>\n",
       "\t<tr><td> 9</td><td> 9</td></tr>\n",
       "\t<tr><td>10</td><td>10</td></tr>\n",
       "</tbody>\n",
       "</table>\n"
      ],
      "text/latex": [
       "A data.table: 5 × 2\n",
       "\\begin{tabular}{ll}\n",
       " x & y\\\\\n",
       " <int> & <int>\\\\\n",
       "\\hline\n",
       "\t  6 &  6\\\\\n",
       "\t  7 &  7\\\\\n",
       "\t  8 &  8\\\\\n",
       "\t  9 &  9\\\\\n",
       "\t 10 & 10\\\\\n",
       "\\end{tabular}\n"
      ],
      "text/markdown": [
       "\n",
       "A data.table: 5 × 2\n",
       "\n",
       "| x &lt;int&gt; | y &lt;int&gt; |\n",
       "|---|---|\n",
       "|  6 |  6 |\n",
       "|  7 |  7 |\n",
       "|  8 |  8 |\n",
       "|  9 |  9 |\n",
       "| 10 | 10 |\n",
       "\n"
      ],
      "text/plain": [
       "  x  y \n",
       "1  6  6\n",
       "2  7  7\n",
       "3  8  8\n",
       "4  9  9\n",
       "5 10 10"
      ]
     },
     "metadata": {},
     "output_type": "display_data"
    },
    {
     "data": {
      "text/html": [
       "<table class=\"dataframe\">\n",
       "<caption>A data.table: 5 × 2</caption>\n",
       "<thead>\n",
       "\t<tr><th scope=col>x</th><th scope=col>y</th></tr>\n",
       "\t<tr><th scope=col>&lt;int&gt;</th><th scope=col>&lt;int&gt;</th></tr>\n",
       "</thead>\n",
       "<tbody>\n",
       "\t<tr><td> 6</td><td> 6</td></tr>\n",
       "\t<tr><td> 7</td><td> 7</td></tr>\n",
       "\t<tr><td> 8</td><td> 8</td></tr>\n",
       "\t<tr><td> 9</td><td> 9</td></tr>\n",
       "\t<tr><td>10</td><td>10</td></tr>\n",
       "</tbody>\n",
       "</table>\n"
      ],
      "text/latex": [
       "A data.table: 5 × 2\n",
       "\\begin{tabular}{ll}\n",
       " x & y\\\\\n",
       " <int> & <int>\\\\\n",
       "\\hline\n",
       "\t  6 &  6\\\\\n",
       "\t  7 &  7\\\\\n",
       "\t  8 &  8\\\\\n",
       "\t  9 &  9\\\\\n",
       "\t 10 & 10\\\\\n",
       "\\end{tabular}\n"
      ],
      "text/markdown": [
       "\n",
       "A data.table: 5 × 2\n",
       "\n",
       "| x &lt;int&gt; | y &lt;int&gt; |\n",
       "|---|---|\n",
       "|  6 |  6 |\n",
       "|  7 |  7 |\n",
       "|  8 |  8 |\n",
       "|  9 |  9 |\n",
       "| 10 | 10 |\n",
       "\n"
      ],
      "text/plain": [
       "  x  y \n",
       "1  6  6\n",
       "2  7  7\n",
       "3  8  8\n",
       "4  9  9\n",
       "5 10 10"
      ]
     },
     "metadata": {},
     "output_type": "display_data"
    },
    {
     "data": {
      "text/html": [],
      "text/latex": [],
      "text/markdown": [],
      "text/plain": [
       "<0 x 0 matrix>"
      ]
     },
     "metadata": {},
     "output_type": "display_data"
    },
    {
     "data": {
      "text/html": [],
      "text/latex": [],
      "text/markdown": [],
      "text/plain": [
       "<0 x 0 matrix>"
      ]
     },
     "metadata": {},
     "output_type": "display_data"
    },
    {
     "data": {
      "text/html": [
       "7"
      ],
      "text/latex": [
       "7"
      ],
      "text/markdown": [
       "7"
      ],
      "text/plain": [
       "[1] 7"
      ]
     },
     "metadata": {},
     "output_type": "display_data"
    },
    {
     "data": {
      "text/html": [
       "<table class=\"dataframe\">\n",
       "<caption>A data.table: 5 × 2</caption>\n",
       "<thead>\n",
       "\t<tr><th scope=col>x</th><th scope=col>y</th></tr>\n",
       "\t<tr><th scope=col>&lt;int&gt;</th><th scope=col>&lt;int&gt;</th></tr>\n",
       "</thead>\n",
       "<tbody>\n",
       "\t<tr><td> 6</td><td> 6</td></tr>\n",
       "\t<tr><td> 7</td><td> 7</td></tr>\n",
       "\t<tr><td> 8</td><td> 8</td></tr>\n",
       "\t<tr><td> 9</td><td> 9</td></tr>\n",
       "\t<tr><td>10</td><td>10</td></tr>\n",
       "</tbody>\n",
       "</table>\n"
      ],
      "text/latex": [
       "A data.table: 5 × 2\n",
       "\\begin{tabular}{ll}\n",
       " x & y\\\\\n",
       " <int> & <int>\\\\\n",
       "\\hline\n",
       "\t  6 &  6\\\\\n",
       "\t  7 &  7\\\\\n",
       "\t  8 &  8\\\\\n",
       "\t  9 &  9\\\\\n",
       "\t 10 & 10\\\\\n",
       "\\end{tabular}\n"
      ],
      "text/markdown": [
       "\n",
       "A data.table: 5 × 2\n",
       "\n",
       "| x &lt;int&gt; | y &lt;int&gt; |\n",
       "|---|---|\n",
       "|  6 |  6 |\n",
       "|  7 |  7 |\n",
       "|  8 |  8 |\n",
       "|  9 |  9 |\n",
       "| 10 | 10 |\n",
       "\n"
      ],
      "text/plain": [
       "  x  y \n",
       "1  6  6\n",
       "2  7  7\n",
       "3  8  8\n",
       "4  9  9\n",
       "5 10 10"
      ]
     },
     "metadata": {},
     "output_type": "display_data"
    },
    {
     "data": {
      "text/html": [
       "<table class=\"dataframe\">\n",
       "<caption>A data.table: 5 × 2</caption>\n",
       "<thead>\n",
       "\t<tr><th scope=col>x</th><th scope=col>y</th></tr>\n",
       "\t<tr><th scope=col>&lt;int&gt;</th><th scope=col>&lt;int&gt;</th></tr>\n",
       "</thead>\n",
       "<tbody>\n",
       "\t<tr><td> 6</td><td> 6</td></tr>\n",
       "\t<tr><td> 7</td><td> 7</td></tr>\n",
       "\t<tr><td> 8</td><td> 8</td></tr>\n",
       "\t<tr><td> 9</td><td> 9</td></tr>\n",
       "\t<tr><td>10</td><td>10</td></tr>\n",
       "</tbody>\n",
       "</table>\n"
      ],
      "text/latex": [
       "A data.table: 5 × 2\n",
       "\\begin{tabular}{ll}\n",
       " x & y\\\\\n",
       " <int> & <int>\\\\\n",
       "\\hline\n",
       "\t  6 &  6\\\\\n",
       "\t  7 &  7\\\\\n",
       "\t  8 &  8\\\\\n",
       "\t  9 &  9\\\\\n",
       "\t 10 & 10\\\\\n",
       "\\end{tabular}\n"
      ],
      "text/markdown": [
       "\n",
       "A data.table: 5 × 2\n",
       "\n",
       "| x &lt;int&gt; | y &lt;int&gt; |\n",
       "|---|---|\n",
       "|  6 |  6 |\n",
       "|  7 |  7 |\n",
       "|  8 |  8 |\n",
       "|  9 |  9 |\n",
       "| 10 | 10 |\n",
       "\n"
      ],
      "text/plain": [
       "  x  y \n",
       "1  6  6\n",
       "2  7  7\n",
       "3  8  8\n",
       "4  9  9\n",
       "5 10 10"
      ]
     },
     "metadata": {},
     "output_type": "display_data"
    }
   ],
   "source": [
    "\n",
    "# with\n",
    "dt <- data.table(x = 1:10, y = 1:10)\n",
    "dt[with(dt, x > 5)]\n",
    "\n",
    "# which\n",
    "dt <- data.table(x = 1:10, y = 1:10)\n",
    "dt[which(dt$x > 5)]\n",
    "\n",
    "# allow.cartesian\n",
    "dt <- data.table(x = 1:10, y = 1:10)\n",
    "dt[allow.cartesian = TRUE, x > 5]\n",
    "\n",
    "# roll\n",
    "dt <- data.table(x = 1:10, y = 1:10)\n",
    "dt[roll = TRUE, x > 5]\n",
    "\n",
    "# rollends\n",
    "dt <- data.table(x = 1:10, y = 1:10)\n",
    "dt[rollends = TRUE, x > 5]\n",
    "\n",
    "# .SD\n",
    "dt <- data.table(x = 1:10, y = 1:10)\n",
    "dt[.SD, x > 5]\n",
    "\n",
    "# .SDcols\n",
    "dt <- data.table(x = 1:10, y = 1:10)\n",
    "dt[.SD, x > 5, .SDcols = c(\"x\", \"y\")]\n",
    "\n",
    "# on\n",
    "dt <- data.table(x = 1:10, y = 1:10)\n",
    "dt[x > 5][x == 7, max(x), on = \"x\"]\n",
    "\n",
    "\n",
    "# mult\n",
    "dt <- data.table(x = 1:10, y = 1:10)\n",
    "dt[mult = \"first\", x > 5]\n",
    "\n",
    "# nomatch\n",
    "dt <- data.table(x = 1:10, y = 1:10)\n",
    "dt[nomatch = 0, x > 5]\n",
    "\n"
   ]
  },
  {
   "cell_type": "code",
   "execution_count": null,
   "metadata": {
    "vscode": {
     "languageId": "r"
    }
   },
   "outputs": [],
   "source": [
    "'''\n",
    "5. Perform the following using data.table with flights datasets.\n",
    "rename variables\n",
    "subsetting rows\n",
    "selecting multiple values for an attribute\n",
    "applying logical operation NOT\n",
    "'''\n",
    "\n",
    "# rename variables\n",
    "flights <- data.table(flights)\n",
    "setnames(flights, old = c(\"year\", \"month\", \"day\", \"dep_time\", \"sched_dep_time\", \"dep_delay\", \"arr_time\", \"sched_arr_time\", \"arr_delay\", \"carrier\", \"flight\", \"tailnum\", \"origin\", \"dest\", \"air_time\", \"distance\", \"hour\", \"minute\", \"time_hour\"), new = c(\"year\", \"month\", \"day\", \"dep_time\", \"sched_dep_time\", \"dep_delay\", \"arr_time\", \"sched_arr_time\", \"arr_delay\", \"carrier\", \"flight\", \"tailnum\", \"origin\", \"dest\", \"air_time\", \"distance\", \"hour\", \"minute\", \"time_hour\"))\n",
    "\n",
    "# subsetting rows\n",
    "flights[year == 2013 & month == 1 & day == 1]\n",
    "\n",
    "# selecting multiple values for an attribute\n",
    "flights[origin %in% c(\"EWR\", \"JFK\", \"LGA\")]\n",
    "\n",
    "# applying logical operation NOT\n",
    "flights[!is.na(dep_delay)]\n",
    "\n"
   ]
  },
  {
   "cell_type": "code",
   "execution_count": 1,
   "metadata": {
    "vscode": {
     "languageId": "r"
    }
   },
   "outputs": [
    {
     "data": {
      "text/html": [
       "<style>\n",
       ".list-inline {list-style: none; margin:0; padding: 0}\n",
       ".list-inline>li {display: inline-block}\n",
       ".list-inline>li:not(:last-child)::after {content: \"\\00b7\"; padding: 0 .5ex}\n",
       "</style>\n",
       "<ol class=list-inline><li>1</li><li>7</li><li>13</li><li>19</li><li>25</li></ol>\n"
      ],
      "text/latex": [
       "\\begin{enumerate*}\n",
       "\\item 1\n",
       "\\item 7\n",
       "\\item 13\n",
       "\\item 19\n",
       "\\item 25\n",
       "\\end{enumerate*}\n"
      ],
      "text/markdown": [
       "1. 1\n",
       "2. 7\n",
       "3. 13\n",
       "4. 19\n",
       "5. 25\n",
       "\n",
       "\n"
      ],
      "text/plain": [
       "[1]  1  7 13 19 25"
      ]
     },
     "metadata": {},
     "output_type": "display_data"
    },
    {
     "data": {
      "text/html": [
       "<style>\n",
       ".list-inline {list-style: none; margin:0; padding: 0}\n",
       ".list-inline>li {display: inline-block}\n",
       ".list-inline>li:not(:last-child)::after {content: \"\\00b7\"; padding: 0 .5ex}\n",
       "</style>\n",
       "<ol class=list-inline><li>1</li><li>7</li><li>13</li><li>19</li><li>25</li></ol>\n"
      ],
      "text/latex": [
       "\\begin{enumerate*}\n",
       "\\item 1\n",
       "\\item 7\n",
       "\\item 13\n",
       "\\item 19\n",
       "\\item 25\n",
       "\\end{enumerate*}\n"
      ],
      "text/markdown": [
       "1. 1\n",
       "2. 7\n",
       "3. 13\n",
       "4. 19\n",
       "5. 25\n",
       "\n",
       "\n"
      ],
      "text/plain": [
       "[1]  1  7 13 19 25"
      ]
     },
     "metadata": {},
     "output_type": "display_data"
    },
    {
     "data": {
      "text/html": [
       "325"
      ],
      "text/latex": [
       "325"
      ],
      "text/markdown": [
       "325"
      ],
      "text/plain": [
       "[1] 325"
      ]
     },
     "metadata": {},
     "output_type": "display_data"
    },
    {
     "data": {
      "text/html": [
       "<style>\n",
       ".list-inline {list-style: none; margin:0; padding: 0}\n",
       ".list-inline>li {display: inline-block}\n",
       ".list-inline>li:not(:last-child)::after {content: \"\\00b7\"; padding: 0 .5ex}\n",
       "</style>\n",
       "<ol class=list-inline><li>3</li><li>8</li><li>13</li><li>18</li><li>23</li></ol>\n"
      ],
      "text/latex": [
       "\\begin{enumerate*}\n",
       "\\item 3\n",
       "\\item 8\n",
       "\\item 13\n",
       "\\item 18\n",
       "\\item 23\n",
       "\\end{enumerate*}\n"
      ],
      "text/markdown": [
       "1. 3\n",
       "2. 8\n",
       "3. 13\n",
       "4. 18\n",
       "5. 23\n",
       "\n",
       "\n"
      ],
      "text/plain": [
       "[1]  3  8 13 18 23"
      ]
     },
     "metadata": {},
     "output_type": "display_data"
    },
    {
     "data": {
      "text/html": [
       "<style>\n",
       ".list-inline {list-style: none; margin:0; padding: 0}\n",
       ".list-inline>li {display: inline-block}\n",
       ".list-inline>li:not(:last-child)::after {content: \"\\00b7\"; padding: 0 .5ex}\n",
       "</style>\n",
       "<ol class=list-inline><li>16</li><li>17</li><li>18</li><li>19</li><li>20</li></ol>\n"
      ],
      "text/latex": [
       "\\begin{enumerate*}\n",
       "\\item 16\n",
       "\\item 17\n",
       "\\item 18\n",
       "\\item 19\n",
       "\\item 20\n",
       "\\end{enumerate*}\n"
      ],
      "text/markdown": [
       "1. 16\n",
       "2. 17\n",
       "3. 18\n",
       "4. 19\n",
       "5. 20\n",
       "\n",
       "\n"
      ],
      "text/plain": [
       "[1] 16 17 18 19 20"
      ]
     },
     "metadata": {},
     "output_type": "display_data"
    },
    {
     "data": {
      "text/html": [
       "1"
      ],
      "text/latex": [
       "1"
      ],
      "text/markdown": [
       "1"
      ],
      "text/plain": [
       "[1] 1"
      ]
     },
     "metadata": {},
     "output_type": "display_data"
    },
    {
     "data": {
      "text/html": [
       "10"
      ],
      "text/latex": [
       "10"
      ],
      "text/markdown": [
       "10"
      ],
      "text/plain": [
       "[1] 10"
      ]
     },
     "metadata": {},
     "output_type": "display_data"
    },
    {
     "data": {
      "text/html": [
       "12"
      ],
      "text/latex": [
       "12"
      ],
      "text/markdown": [
       "12"
      ],
      "text/plain": [
       "[1] 12"
      ]
     },
     "metadata": {},
     "output_type": "display_data"
    },
    {
     "data": {
      "text/html": [
       "70"
      ],
      "text/latex": [
       "70"
      ],
      "text/markdown": [
       "70"
      ],
      "text/plain": [
       "[1] 70"
      ]
     },
     "metadata": {},
     "output_type": "display_data"
    },
    {
     "data": {
      "text/html": [
       "40"
      ],
      "text/latex": [
       "40"
      ],
      "text/markdown": [
       "40"
      ],
      "text/plain": [
       "[1] 40"
      ]
     },
     "metadata": {},
     "output_type": "display_data"
    },
    {
     "data": {
      "text/html": [
       "<style>\n",
       ".list-inline {list-style: none; margin:0; padding: 0}\n",
       ".list-inline>li {display: inline-block}\n",
       ".list-inline>li:not(:last-child)::after {content: \"\\00b7\"; padding: 0 .5ex}\n",
       "</style>\n",
       "<ol class=list-inline><li>25</li><li>24</li><li>23</li><li>22</li><li>21</li><li>20</li><li>19</li><li>18</li><li>17</li><li>16</li><li>15</li><li>14</li><li>13</li><li>12</li><li>11</li><li>10</li><li>9</li><li>8</li><li>7</li><li>6</li><li>5</li><li>4</li><li>3</li><li>2</li><li>1</li></ol>\n"
      ],
      "text/latex": [
       "\\begin{enumerate*}\n",
       "\\item 25\n",
       "\\item 24\n",
       "\\item 23\n",
       "\\item 22\n",
       "\\item 21\n",
       "\\item 20\n",
       "\\item 19\n",
       "\\item 18\n",
       "\\item 17\n",
       "\\item 16\n",
       "\\item 15\n",
       "\\item 14\n",
       "\\item 13\n",
       "\\item 12\n",
       "\\item 11\n",
       "\\item 10\n",
       "\\item 9\n",
       "\\item 8\n",
       "\\item 7\n",
       "\\item 6\n",
       "\\item 5\n",
       "\\item 4\n",
       "\\item 3\n",
       "\\item 2\n",
       "\\item 1\n",
       "\\end{enumerate*}\n"
      ],
      "text/markdown": [
       "1. 25\n",
       "2. 24\n",
       "3. 23\n",
       "4. 22\n",
       "5. 21\n",
       "6. 20\n",
       "7. 19\n",
       "8. 18\n",
       "9. 17\n",
       "10. 16\n",
       "11. 15\n",
       "12. 14\n",
       "13. 13\n",
       "14. 12\n",
       "15. 11\n",
       "16. 10\n",
       "17. 9\n",
       "18. 8\n",
       "19. 7\n",
       "20. 6\n",
       "21. 5\n",
       "22. 4\n",
       "23. 3\n",
       "24. 2\n",
       "25. 1\n",
       "\n",
       "\n"
      ],
      "text/plain": [
       " [1] 25 24 23 22 21 20 19 18 17 16 15 14 13 12 11 10  9  8  7  6  5  4  3  2  1"
      ]
     },
     "metadata": {},
     "output_type": "display_data"
    },
    {
     "data": {
      "text/html": [
       "<style>\n",
       ".list-inline {list-style: none; margin:0; padding: 0}\n",
       ".list-inline>li {display: inline-block}\n",
       ".list-inline>li:not(:last-child)::after {content: \"\\00b7\"; padding: 0 .5ex}\n",
       "</style>\n",
       "<ol class=list-inline><li>25</li><li>24</li><li>23</li><li>22</li><li>21</li><li>20</li><li>19</li><li>18</li><li>17</li><li>16</li><li>15</li><li>14</li><li>13</li><li>12</li><li>11</li><li>10</li><li>9</li><li>8</li><li>7</li><li>6</li><li>5</li><li>4</li><li>3</li><li>2</li><li>1</li></ol>\n"
      ],
      "text/latex": [
       "\\begin{enumerate*}\n",
       "\\item 25\n",
       "\\item 24\n",
       "\\item 23\n",
       "\\item 22\n",
       "\\item 21\n",
       "\\item 20\n",
       "\\item 19\n",
       "\\item 18\n",
       "\\item 17\n",
       "\\item 16\n",
       "\\item 15\n",
       "\\item 14\n",
       "\\item 13\n",
       "\\item 12\n",
       "\\item 11\n",
       "\\item 10\n",
       "\\item 9\n",
       "\\item 8\n",
       "\\item 7\n",
       "\\item 6\n",
       "\\item 5\n",
       "\\item 4\n",
       "\\item 3\n",
       "\\item 2\n",
       "\\item 1\n",
       "\\end{enumerate*}\n"
      ],
      "text/markdown": [
       "1. 25\n",
       "2. 24\n",
       "3. 23\n",
       "4. 22\n",
       "5. 21\n",
       "6. 20\n",
       "7. 19\n",
       "8. 18\n",
       "9. 17\n",
       "10. 16\n",
       "11. 15\n",
       "12. 14\n",
       "13. 13\n",
       "14. 12\n",
       "15. 11\n",
       "16. 10\n",
       "17. 9\n",
       "18. 8\n",
       "19. 7\n",
       "20. 6\n",
       "21. 5\n",
       "22. 4\n",
       "23. 3\n",
       "24. 2\n",
       "25. 1\n",
       "\n",
       "\n"
      ],
      "text/plain": [
       " [1] 25 24 23 22 21 20 19 18 17 16 15 14 13 12 11 10  9  8  7  6  5  4  3  2  1"
      ]
     },
     "metadata": {},
     "output_type": "display_data"
    }
   ],
   "source": [
    "# Create two matrices of dimension 5x5\n",
    "\n",
    "# create a matrix\n",
    "mat1 <- matrix(1:25, nrow = 5, ncol = 5)\n",
    "mat2 <- matrix(1:25, nrow = 5, ncol = 5)\n",
    "\n",
    "# find the diagonal elements of matrix 1 and 2\n",
    "diag(mat1)\n",
    "diag(mat2)\n",
    "\n",
    "# find the sum of all the values in matrix 2\n",
    "sum(mat2)\n",
    "\n",
    "# display third row in matrix 1 and fourth column in matrix 2\n",
    "mat1[3, ]\n",
    "mat2[, 4]\n",
    "\n",
    "# find the smallest element in matrix two\n",
    "min(mat2)\n",
    "\n",
    "# display the 10th element in matrix 1 and 12th element in matrix 2\n",
    "mat1[10]\n",
    "mat2[12]\n",
    "\n",
    "# find the sum of all the values of fourth row in matrix one and second column in matrix two\n",
    "sum(mat1[4, ])\n",
    "sum(mat2[, 2])\n",
    "\n",
    "# display the reverse of all the elements\n",
    "rev(mat1)\n",
    "rev(mat2)\n",
    "\n",
    "\n",
    "\n"
   ]
  },
  {
   "cell_type": "code",
   "execution_count": null,
   "metadata": {
    "vscode": {
     "languageId": "r"
    }
   },
   "outputs": [],
   "source": [
    "#Read and write data for structured, semi structured and unstructured file formats\n",
    "#read excel\n",
    "library(xlsx)\n",
    "xlsx <- read.xlsx(\"/home/user/Desktop/data.xlsx\")\n",
    "#read xml\n",
    "library(xml)\n",
    "xml <- read.xml(\"/home/user/Desktop/data.xml\")\n",
    "#read json\n",
    "library(jsonlite)\n",
    "json <- read.json(\"/home/user/Desktop/data.json\")\n",
    "#read csv\n",
    "library(csv)\n",
    "csv <- read.csv(\"/home/user/Desktop/data.csv\")\n",
    "#read tsv\n",
    "library(tsv)\n",
    "tsv <- read.tsv(\"/home/user/Desktop/data.tsv\")\n",
    "#read text\n",
    "library(text)\n",
    "text <- read.text(\"/home/user/Desktop/data.txt\")\n",
    "\n"
   ]
  },
  {
   "cell_type": "code",
   "execution_count": null,
   "metadata": {
    "vscode": {
     "languageId": "r"
    }
   },
   "outputs": [],
   "source": [
    "'''\n",
    "Q.1 Import the package mass\n",
    "Q.2 List the rows of data that has missing values\n",
    "Q.3 Create a data frame that contains the seprate values after removing the NA values\n",
    "Q.4 How many male and female students participated in the survey?\n",
    "Q.5 How many left and right handers are there?\n",
    "Q.6 Find the relative frequency distibution of left and right handers and display them with the precision of two decimal places.\n",
    "Q.7 Display the male left handed and female left handed in the column format\n",
    "Q.8 What percentage of male left handed never smokes?\n",
    "'''"
   ]
  },
  {
   "cell_type": "code",
   "execution_count": 4,
   "metadata": {
    "vscode": {
     "languageId": "r"
    }
   },
   "outputs": [],
   "source": [
    "new <- na.exclude(survey)"
   ]
  },
  {
   "cell_type": "code",
   "execution_count": 5,
   "metadata": {
    "vscode": {
     "languageId": "r"
    }
   },
   "outputs": [
    {
     "data": {
      "text/html": [
       "<table class=\"dataframe\">\n",
       "<caption>A data.frame: 6 × 12</caption>\n",
       "<thead>\n",
       "\t<tr><th></th><th scope=col>Sex</th><th scope=col>Wr.Hnd</th><th scope=col>NW.Hnd</th><th scope=col>W.Hnd</th><th scope=col>Fold</th><th scope=col>Pulse</th><th scope=col>Clap</th><th scope=col>Exer</th><th scope=col>Smoke</th><th scope=col>Height</th><th scope=col>M.I</th><th scope=col>Age</th></tr>\n",
       "\t<tr><th></th><th scope=col>&lt;fct&gt;</th><th scope=col>&lt;dbl&gt;</th><th scope=col>&lt;dbl&gt;</th><th scope=col>&lt;fct&gt;</th><th scope=col>&lt;fct&gt;</th><th scope=col>&lt;int&gt;</th><th scope=col>&lt;fct&gt;</th><th scope=col>&lt;fct&gt;</th><th scope=col>&lt;fct&gt;</th><th scope=col>&lt;dbl&gt;</th><th scope=col>&lt;fct&gt;</th><th scope=col>&lt;dbl&gt;</th></tr>\n",
       "</thead>\n",
       "<tbody>\n",
       "\t<tr><th scope=row>1</th><td>Female</td><td>18.5</td><td>18.0</td><td>Right</td><td>R on L </td><td> 92</td><td>Left   </td><td>Some</td><td>Never</td><td>173.00</td><td>Metric  </td><td>18.250</td></tr>\n",
       "\t<tr><th scope=row>2</th><td>Male  </td><td>19.5</td><td>20.5</td><td>Left </td><td>R on L </td><td>104</td><td>Left   </td><td>None</td><td>Regul</td><td>177.80</td><td>Imperial</td><td>17.583</td></tr>\n",
       "\t<tr><th scope=row>3</th><td>Male  </td><td>18.0</td><td>13.3</td><td>Right</td><td>L on R </td><td> 87</td><td>Neither</td><td>None</td><td>Occas</td><td>    NA</td><td>NA      </td><td>16.917</td></tr>\n",
       "\t<tr><th scope=row>4</th><td>Male  </td><td>18.8</td><td>18.9</td><td>Right</td><td>R on L </td><td> NA</td><td>Neither</td><td>None</td><td>Never</td><td>160.00</td><td>Metric  </td><td>20.333</td></tr>\n",
       "\t<tr><th scope=row>5</th><td>Male  </td><td>20.0</td><td>20.0</td><td>Right</td><td>Neither</td><td> 35</td><td>Right  </td><td>Some</td><td>Never</td><td>165.00</td><td>Metric  </td><td>23.667</td></tr>\n",
       "\t<tr><th scope=row>6</th><td>Female</td><td>18.0</td><td>17.7</td><td>Right</td><td>L on R </td><td> 64</td><td>Right  </td><td>Some</td><td>Never</td><td>172.72</td><td>Imperial</td><td>21.000</td></tr>\n",
       "</tbody>\n",
       "</table>\n"
      ],
      "text/latex": [
       "A data.frame: 6 × 12\n",
       "\\begin{tabular}{r|llllllllllll}\n",
       "  & Sex & Wr.Hnd & NW.Hnd & W.Hnd & Fold & Pulse & Clap & Exer & Smoke & Height & M.I & Age\\\\\n",
       "  & <fct> & <dbl> & <dbl> & <fct> & <fct> & <int> & <fct> & <fct> & <fct> & <dbl> & <fct> & <dbl>\\\\\n",
       "\\hline\n",
       "\t1 & Female & 18.5 & 18.0 & Right & R on L  &  92 & Left    & Some & Never & 173.00 & Metric   & 18.250\\\\\n",
       "\t2 & Male   & 19.5 & 20.5 & Left  & R on L  & 104 & Left    & None & Regul & 177.80 & Imperial & 17.583\\\\\n",
       "\t3 & Male   & 18.0 & 13.3 & Right & L on R  &  87 & Neither & None & Occas &     NA & NA       & 16.917\\\\\n",
       "\t4 & Male   & 18.8 & 18.9 & Right & R on L  &  NA & Neither & None & Never & 160.00 & Metric   & 20.333\\\\\n",
       "\t5 & Male   & 20.0 & 20.0 & Right & Neither &  35 & Right   & Some & Never & 165.00 & Metric   & 23.667\\\\\n",
       "\t6 & Female & 18.0 & 17.7 & Right & L on R  &  64 & Right   & Some & Never & 172.72 & Imperial & 21.000\\\\\n",
       "\\end{tabular}\n"
      ],
      "text/markdown": [
       "\n",
       "A data.frame: 6 × 12\n",
       "\n",
       "| <!--/--> | Sex &lt;fct&gt; | Wr.Hnd &lt;dbl&gt; | NW.Hnd &lt;dbl&gt; | W.Hnd &lt;fct&gt; | Fold &lt;fct&gt; | Pulse &lt;int&gt; | Clap &lt;fct&gt; | Exer &lt;fct&gt; | Smoke &lt;fct&gt; | Height &lt;dbl&gt; | M.I &lt;fct&gt; | Age &lt;dbl&gt; |\n",
       "|---|---|---|---|---|---|---|---|---|---|---|---|---|\n",
       "| 1 | Female | 18.5 | 18.0 | Right | R on L  |  92 | Left    | Some | Never | 173.00 | Metric   | 18.250 |\n",
       "| 2 | Male   | 19.5 | 20.5 | Left  | R on L  | 104 | Left    | None | Regul | 177.80 | Imperial | 17.583 |\n",
       "| 3 | Male   | 18.0 | 13.3 | Right | L on R  |  87 | Neither | None | Occas |     NA | NA       | 16.917 |\n",
       "| 4 | Male   | 18.8 | 18.9 | Right | R on L  |  NA | Neither | None | Never | 160.00 | Metric   | 20.333 |\n",
       "| 5 | Male   | 20.0 | 20.0 | Right | Neither |  35 | Right   | Some | Never | 165.00 | Metric   | 23.667 |\n",
       "| 6 | Female | 18.0 | 17.7 | Right | L on R  |  64 | Right   | Some | Never | 172.72 | Imperial | 21.000 |\n",
       "\n"
      ],
      "text/plain": [
       "  Sex    Wr.Hnd NW.Hnd W.Hnd Fold    Pulse Clap    Exer Smoke Height M.I     \n",
       "1 Female 18.5   18.0   Right R on L   92   Left    Some Never 173.00 Metric  \n",
       "2 Male   19.5   20.5   Left  R on L  104   Left    None Regul 177.80 Imperial\n",
       "3 Male   18.0   13.3   Right L on R   87   Neither None Occas     NA NA      \n",
       "4 Male   18.8   18.9   Right R on L   NA   Neither None Never 160.00 Metric  \n",
       "5 Male   20.0   20.0   Right Neither  35   Right   Some Never 165.00 Metric  \n",
       "6 Female 18.0   17.7   Right L on R   64   Right   Some Never 172.72 Imperial\n",
       "  Age   \n",
       "1 18.250\n",
       "2 17.583\n",
       "3 16.917\n",
       "4 20.333\n",
       "5 23.667\n",
       "6 21.000"
      ]
     },
     "metadata": {},
     "output_type": "display_data"
    },
    {
     "ename": "ERROR",
     "evalue": "Error in data.frame(survey$Sex, survey$Handedness): arguments imply differing number of rows: 237, 0\n",
     "output_type": "error",
     "traceback": [
      "Error in data.frame(survey$Sex, survey$Handedness): arguments imply differing number of rows: 237, 0\nTraceback:\n",
      "1. data.frame(survey$Sex, survey$Handedness)",
      "2. stop(gettextf(\"arguments imply differing number of rows: %s\", \n .     paste(unique(nrows), collapse = \", \")), domain = NA)"
     ]
    }
   ],
   "source": [
    "library(MASS)\n",
    "head(survey)\n",
    "\n",
    "# Find the relative frequency distibution of left and right handers and display them with the precision of two decimal places.\n",
    "\n",
    "# create a data frame\n",
    "df <- data.frame(survey$Sex, survey$Handedness)\n",
    "\n",
    "# Display the male left handed and female left handed in the column format\n"
   ]
  },
  {
   "cell_type": "code",
   "execution_count": 2,
   "metadata": {
    "vscode": {
     "languageId": "r"
    }
   },
   "outputs": [
    {
     "name": "stdout",
     "output_type": "stream",
     "text": [
      "[1] 4\n",
      "[1] 5\n",
      "[1] 6\n",
      "[1] 7\n",
      "[1] 8\n",
      "[1] 9\n",
      "[1] 10\n"
     ]
    }
   ],
   "source": [
    "# Write a R script to check the greatest among three numbers\n",
    "\n",
    "x <- 4:10\n",
    "for (i in x){\n",
    " print(i)\n",
    "}\n"
   ]
  },
  {
   "cell_type": "code",
   "execution_count": 3,
   "metadata": {
    "vscode": {
     "languageId": "r"
    }
   },
   "outputs": [
    {
     "ename": "ERROR",
     "evalue": "Error in parse(text = x, srcfile = src): <text>:2:15: unexpected symbol\n1: m <- matrix(2:15, 2)\n2: for (r in seq nrow\n                 ^\n",
     "output_type": "error",
     "traceback": [
      "Error in parse(text = x, srcfile = src): <text>:2:15: unexpected symbol\n1: m <- matrix(2:15, 2)\n2: for (r in seq nrow\n                 ^\nTraceback:\n"
     ]
    }
   ],
   "source": [
    "m <- matrix(2:15, 2)\n",
    "for (r in seq nrow(m)){\n",
    "    for (c in seq ncol(m)){\n",
    "        print(m[r,c])\n",
    "    }\n",
    "}\n"
   ]
  },
  {
   "cell_type": "code",
   "execution_count": 5,
   "metadata": {
    "vscode": {
     "languageId": "r"
    }
   },
   "outputs": [
    {
     "name": "stdout",
     "output_type": "stream",
     "text": [
      "[1] 3\n",
      "[1] 5\n",
      "[1] 7\n",
      "[1] 11\n",
      "[1] 13\n",
      "[1] 17\n",
      "[1] 19\n",
      "[1] 23\n",
      "[1] 29\n",
      "[1] 31\n",
      "[1] 37\n",
      "[1] 41\n",
      "[1] 43\n",
      "[1] 47\n",
      "[1] 53\n",
      "[1] 59\n",
      "[1] 61\n",
      "[1] 67\n",
      "[1] 71\n",
      "[1] 73\n",
      "[1] 79\n",
      "[1] 83\n",
      "[1] 89\n",
      "[1] 97\n"
     ]
    }
   ],
   "source": [
    "\n",
    "x <- 1:100\n",
    "isprime <- function(x) {\n",
    "    for (i in 2:(x - 1)) {\n",
    "        if (x %% i == 0) {\n",
    "            return(FALSE)\n",
    "        }\n",
    "    }\n",
    "    return(TRUE)\n",
    "}\n",
    "for (i in x) {\n",
    "    if (isprime(i)) {\n",
    "        print(i)\n",
    "    }\n",
    "}\n"
   ]
  },
  {
   "cell_type": "code",
   "execution_count": 7,
   "metadata": {
    "vscode": {
     "languageId": "r"
    }
   },
   "outputs": [],
   "source": [
    "# get inputs\n",
    "x <- as.integer(readline(prompt = \"Enter first number: \"))\n",
    "y <- as.integer(readline(prompt = \"Enter second number: \"))\n",
    "z <- as.integer(readline(prompt = \"Enter third number: \"))\n",
    "\n",
    "# sum\n",
    "sum <- x + y + z\n",
    "print(sum)\n",
    "\n",
    "# mean\n",
    "mean <- (x + y + z) / 3\n",
    "print(mean)\n",
    "\n",
    "# multiplication\n",
    "mul <- x * y * z\n",
    "print(mul)\n",
    "\n",
    "# largest\n",
    "max <- max(x, y, z)\n",
    "print(max)\n",
    "\n",
    "# smallest\n",
    "min <- min(x, y, z)\n",
    "print(min)\n"
   ]
  },
  {
   "cell_type": "code",
   "execution_count": 6,
   "metadata": {
    "vscode": {
     "languageId": "r"
    }
   },
   "outputs": [
    {
     "name": "stdout",
     "output_type": "stream",
     "text": [
      "[1] 113.0973\n"
     ]
    }
   ],
   "source": [
    "# Write a function to find the area of a circle\n",
    "\n",
    "area <- function() {\n",
    "    r <- as.integer(readline(prompt = \"Enter radius: \"))\n",
    "    area <- pi * r^2\n",
    "    print(area)\n",
    "}\n",
    "\n",
    "area()"
   ]
  },
  {
   "cell_type": "code",
   "execution_count": 11,
   "metadata": {
    "vscode": {
     "languageId": "r"
    }
   },
   "outputs": [
    {
     "name": "stdout",
     "output_type": "stream",
     "text": [
      "[1] 30\n"
     ]
    }
   ],
   "source": [
    "# Write a function to find the area of a rectangle\n",
    "\n",
    "area <- function() {\n",
    "    l <- as.integer(readline(prompt = \"Enter Length\"))\n",
    "    b <- as.integer(readline(prompt = \"Enter Breadth\"))\n",
    "    area <- l * b\n",
    "    print(area)\n",
    "}\n",
    "\n",
    "area()\n"
   ]
  },
  {
   "cell_type": "code",
   "execution_count": 31,
   "metadata": {
    "vscode": {
     "languageId": "r"
    }
   },
   "outputs": [
    {
     "name": "stdout",
     "output_type": "stream",
     "text": [
      "[1] 1\n",
      "[1] 2\n",
      "[1] 3\n",
      "[1] 4\n",
      "[1] 5\n",
      "[1] 6\n",
      "[1] 7\n",
      "[1] 8\n",
      "[1] 9\n",
      "[1] 1\n",
      "[1] 11\n",
      "[1] 21\n",
      "[1] 31\n",
      "[1] 41\n",
      "[1] 51\n",
      "[1] 61\n",
      "[1] 71\n",
      "[1] 81\n",
      "[1] 91\n",
      "[1] 2\n"
     ]
    }
   ],
   "source": [
    "# Write a program to print the reverse of the individual numbers starting from 1 to 20\n",
    "\n",
    "reverse <- function(x) {\n",
    "    rev <- 0\n",
    "    while (x > 0) {\n",
    "        rem <- x %% 10\n",
    "        rev <- rev * 10 + rem\n",
    "        x <- x %/% 10\n",
    "    }\n",
    "    print(rev)\n",
    "}\n",
    "\n",
    "for (i in 1:20) {\n",
    "    reverse(i)\n",
    "}\n",
    "\n"
   ]
  },
  {
   "cell_type": "code",
   "execution_count": null,
   "metadata": {
    "vscode": {
     "languageId": "r"
    }
   },
   "outputs": [],
   "source": [
    "#Write a function to swap two numbers\n",
    "\n",
    "swap <- function() {\n",
    "    x <- as.integer(readline(prompt = \"Enter first number: \"))\n",
    "    y <- as.integer(readline(prompt = \"Enter second number: \"))\n",
    "    temp <- x\n",
    "    x <- y\n",
    "    y <- temp\n",
    "    print(x)\n",
    "    print(y)\n",
    "}"
   ]
  },
  {
   "cell_type": "code",
   "execution_count": null,
   "metadata": {
    "vscode": {
     "languageId": "r"
    }
   },
   "outputs": [],
   "source": [
    "# Write a program to print the squares of n numbers entered by the user\n",
    "\n",
    "square <- function() {\n",
    "    n <- as.integer(readline(prompt = \"Enter number of elements: \"))\n",
    "    for (i in 1:n) {\n",
    "        x <- as.integer(readline(prompt = \"Enter number: \"))\n",
    "        print(x^2)\n",
    "    }\n",
    "}"
   ]
  },
  {
   "cell_type": "code",
   "execution_count": null,
   "metadata": {
    "vscode": {
     "languageId": "r"
    }
   },
   "outputs": [],
   "source": [
    "# Write an R script using functions with argument values and without argument values for the following to perform like a calculator\n",
    "\n",
    "# without argument values\n",
    "add <- function() {\n",
    "    x <- as.integer(readline(prompt = \"Enter first number: \"))\n",
    "    y <- as.integer(readline(prompt = \"Enter second number: \"))\n",
    "    print(x + y)\n",
    "}\n",
    "\n",
    "sub <- function() {\n",
    "    x <- as.integer(readline(prompt = \"Enter first number: \"))\n",
    "    y <- as.integer(readline(prompt = \"Enter second number: \"))\n",
    "    print(x - y)\n",
    "}\n",
    "\n",
    "mul <- function() {\n",
    "    x <- as.integer(readline(prompt = \"Enter first number: \"))\n",
    "    y <- as.integer(readline(prompt = \"Enter second number: \"))\n",
    "    print(x * y)\n",
    "}\n",
    "\n",
    "div <- function() {\n",
    "    x <- as.integer(readline(prompt = \"Enter first number: \"))\n",
    "    y <- as.integer(readline(prompt = \"Enter second number: \"))\n",
    "    print(x / y)\n",
    "}\n",
    "\n",
    "# with argument values\n",
    "add <- function(x, y) {\n",
    "    print(x + y)\n",
    "}\n",
    "\n",
    "sub <- function(x, y) {\n",
    "    print(x - y)\n",
    "}\n",
    "\n",
    "mul <- function(x, y) {\n",
    "    print(x * y)\n",
    "}\n",
    "\n",
    "div <- function(x, y) {\n",
    "    print(x / y)\n",
    "}\n",
    "\n"
   ]
  },
  {
   "cell_type": "code",
   "execution_count": 6,
   "metadata": {
    "vscode": {
     "languageId": "r"
    }
   },
   "outputs": [
    {
     "name": "stdout",
     "output_type": "stream",
     "text": [
      "     [,1] [,2] [,3]\n",
      "[1,]   30   66  102\n",
      "[2,]   36   81  126\n",
      "[3,]   42   96  150\n"
     ]
    }
   ],
   "source": [
    "# Write a R Script to perform matrix multiplication in a 3x3 matrix\n",
    "\n",
    "matMul <- function(a, b){\n",
    "    c <- matrix(0, nrow = 3, ncol = 3)\n",
    "    for (i in 1:3){\n",
    "        for (j in 1:3){\n",
    "            for (k in 1:3){\n",
    "                c[i, j] <- c[i, j] + a[i, k] * b[k, j]\n",
    "            }\n",
    "        }\n",
    "    }\n",
    "    print(c)\n",
    "}\n",
    "\n",
    "a <- matrix(1:9, nrow = 3, ncol = 3)\n",
    "b <- matrix(1:9, nrow = 3, ncol = 3)\n",
    "matMul(a, b)"
   ]
  },
  {
   "cell_type": "code",
   "execution_count": 12,
   "metadata": {
    "vscode": {
     "languageId": "r"
    }
   },
   "outputs": [
    {
     "name": "stdout",
     "output_type": "stream",
     "text": [
      "[1] 34 10\n"
     ]
    }
   ],
   "source": [
    "# Write a R Script to print the elements of A that are not in B\n",
    "\n",
    "A <- c(1, 2, 34, 5, 6, 7, 8, 9, 10)\n",
    "B <- c(1, 2, 3, 4, 5, 6, 7, 8, 9)\n",
    "C <- A[!(A %in% B)]\n",
    "print(C)\n",
    "\n"
   ]
  },
  {
   "cell_type": "code",
   "execution_count": 15,
   "metadata": {
    "vscode": {
     "languageId": "r"
    }
   },
   "outputs": [
    {
     "data": {
      "text/html": [
       "<style>\n",
       ".list-inline {list-style: none; margin:0; padding: 0}\n",
       ".list-inline>li {display: inline-block}\n",
       ".list-inline>li:not(:last-child)::after {content: \"\\00b7\"; padding: 0 .5ex}\n",
       "</style>\n",
       "<ol class=list-inline><li>'2,3,4,6,8,9'</li><li>'2,3,5,7,3'</li></ol>\n"
      ],
      "text/latex": [
       "\\begin{enumerate*}\n",
       "\\item '2,3,4,6,8,9'\n",
       "\\item '2,3,5,7,3'\n",
       "\\end{enumerate*}\n"
      ],
      "text/markdown": [
       "1. '2,3,4,6,8,9'\n",
       "2. '2,3,5,7,3'\n",
       "\n",
       "\n"
      ],
      "text/plain": [
       "[1] \"2,3,4,6,8,9\" \"2,3,5,7,3\"  "
      ]
     },
     "metadata": {},
     "output_type": "display_data"
    },
    {
     "data": {
      "text/html": [],
      "text/latex": [],
      "text/markdown": [],
      "text/plain": [
       "character(0)"
      ]
     },
     "metadata": {},
     "output_type": "display_data"
    },
    {
     "data": {
      "text/html": [
       "'2,3,4,6,8,9'"
      ],
      "text/latex": [
       "'2,3,4,6,8,9'"
      ],
      "text/markdown": [
       "'2,3,4,6,8,9'"
      ],
      "text/plain": [
       "[1] \"2,3,4,6,8,9\""
      ]
     },
     "metadata": {},
     "output_type": "display_data"
    },
    {
     "data": {
      "text/html": [],
      "text/latex": [],
      "text/markdown": [],
      "text/plain": [
       "character(0)"
      ]
     },
     "metadata": {},
     "output_type": "display_data"
    },
    {
     "data": {
      "text/html": [
       "'2,3,4,6,8,9'"
      ],
      "text/latex": [
       "'2,3,4,6,8,9'"
      ],
      "text/markdown": [
       "'2,3,4,6,8,9'"
      ],
      "text/plain": [
       "[1] \"2,3,4,6,8,9\""
      ]
     },
     "metadata": {},
     "output_type": "display_data"
    }
   ],
   "source": [
    "#Get three vectors from the user and perform the following functions on them -\n",
    "\n",
    "\n",
    "a <- as.vector(readline(prompt = \"Enter vector A: \"))\n",
    "b <- as.vector(readline(prompt = \"Enter vector B: \"))\n",
    "c <- as.vector(readline(prompt = \"Enter vector C: \"))\n",
    "\n",
    "\n",
    "union(a, b)\n",
    "intersect(a, b)\n",
    "union(a, intersect(b, c))\n",
    "intersect(a, union(b, c))\n",
    "setdiff(a, b)"
   ]
  },
  {
   "cell_type": "code",
   "execution_count": null,
   "metadata": {
    "vscode": {
     "languageId": "r"
    }
   },
   "outputs": [],
   "source": [
    "# Read the content of ‘Events.csv’ in a data frame and view it.\n",
    "\n",
    "events <- read.csv(\"Events.csv\")\n",
    "head(events)\n",
    "\n",
    "# Access the scores of participants in event2 using the column name.\n",
    "\n",
    "events$event2\n",
    "\n",
    "# Use index number to retrieve the same data.\n",
    "\n",
    "events[, 2]\n",
    "\n",
    "# Extract the score of third participant in event3.\n",
    "\n",
    "events[3, 3]\n",
    "\n",
    "# Extract the scores of the first and second participant in all the events.\n",
    "\n",
    "events[1:2, ]\n",
    "\n",
    "\n",
    "# Display the names and their total sum value for all the events for each participants\n",
    "\n",
    "events[, 1:3]\n",
    "events[, 1:3] %>% rowSums()\n",
    "\n",
    "# Make the column “name” as the row index of the data frame.\n",
    "\n",
    "events[, 1:3] %>% rownames_to_column(\"name\")\n",
    "\n",
    "# Display the names of the students participated in event3.\n",
    "\n",
    "events[events$event3 > 0, 1]\n",
    "\n",
    "# Obtain the names whose total score is above its average.\n",
    "\n",
    "total_score <- events[, 2:9] %>% rowSums()\n",
    "mean <- mean(total_score)\n",
    "events[total_score > mean, 1]\n",
    "\n",
    "# Get the number of rows and columns of the survey data frame.\n",
    "\n",
    "dim(survey)\n",
    "\n",
    "# Provide the statistical summary of the data frame.\n",
    "\n",
    "summary(survey)\n",
    "\n",
    "# Display the column names of the survey data frame.\n",
    "\n",
    "colnames(survey)\n",
    "\n",
    "# Extract the bottom 2 rows from the data frame.\n",
    "\n",
    "tail(survey, 2)\n",
    "\n",
    "\n",
    "\n",
    "\n"
   ]
  },
  {
   "cell_type": "code",
   "execution_count": null,
   "metadata": {
    "vscode": {
     "languageId": "r"
    }
   },
   "outputs": [],
   "source": [
    "# load dataset women ☕️\n",
    "library(dataasets)\n",
    "women\n",
    "\n",
    "# select 2 valid attributes\n",
    "\n",
    "\n",
    "\n",
    "\n",
    "# sample randomly 20 tuples of records for those 2 attributes\n",
    "\n",
    "\n",
    "# perform 3 different types of correlation for the above\n",
    "\n",
    "\n",
    "# manual handwritten verification also\n",
    "\n",
    "\n",
    "# compare handwritten correlation with code output"
   ]
  },
  {
   "cell_type": "code",
   "execution_count": null,
   "metadata": {
    "vscode": {
     "languageId": "r"
    }
   },
   "outputs": [
    {
     "ename": "",
     "evalue": "",
     "output_type": "error",
     "traceback": [
      "\u001b[1;31mFailed to start the Kernel. \n",
      "\u001b[1;31mKernel R is not usable. Check the Jupyter output tab for more information. \n",
      "\u001b[1;31mView Jupyter <a href='command:jupyter.viewOutput'>log</a> for further details."
     ]
    }
   ],
   "source": []
  },
  {
   "cell_type": "code",
   "execution_count": null,
   "metadata": {
    "vscode": {
     "languageId": "r"
    }
   },
   "outputs": [],
   "source": [
    "library(MASS)\n",
    "load(datasets)\n",
    "\n",
    "library(ggplot2)\n",
    "load(survey)\n",
    "\n",
    "# using survey dataset from MASS library\n",
    "# column names -\n",
    "# Sex\n",
    "# Wr.Hnd\n",
    "# NW.Hnd\n",
    "# W.Hnd\n",
    "# Fold\n",
    "# Pulse\n",
    "# Clap\n",
    "# Exer\n",
    "# Smoke\n",
    "\n",
    "# 1.     Plot a bar graph for the number of male and female participants in the survey. Provide the title as “Male and Female participants”, y-axis label as “frequency” and specify the colours for the bars.\n",
    "attach(new)\n",
    "gender.count <- table(new)\n",
    "barplot(gender.count,\n",
    "    names.arg = c(\"Male\", \"Female\"),\n",
    "    main = \"Male and Female participants\", xlab = \"Gender\", ylab = \"Count\"\n",
    ")\n",
    "\n",
    "# 2.     Plot a bar graph for the number of left handers and right handers in the survey. Provide the title as “Left Handers and Right Handers”, y-axis label as “count” and specify the colours for the bars.\n",
    "\n",
    "hand.count <- table(new$W.Hnd)\n",
    "barplot(hand.count,\n",
    "    names.arg = c(\"Left\", \"Right\"),\n",
    "    main = \"Left Handers and Right Handers\", xlab = \"Hand\", ylab = \"Count\"\n",
    ")\n",
    "\n",
    "# 3.     Plot the a bar graph between male left handers and female left handers. Provide the title as “Female Left Handers and Male Left Handers , y-axis label as “count” and specify the colours for the bars.\n",
    "\n",
    "leftHand <- subset(new, W.Hnd == \"Left\")\n",
    "leftHand.count <- table(leftHand$Sex)\n",
    "barplot(leftHand.count,\n",
    "    names.arg = c(\"Male\", \"Female\"),\n",
    "    main = \"Female Left Handers and Male Left Handers\", xlab= \"Gender\", ylab = \"Count\"\n",
    ")\n",
    "\n",
    "\n",
    "# 4.     Draw the distribution of smoking habits of male left handers using pie chart.\n",
    "\n",
    "leftHand.smoke <- subset(leftHand, Smoke == \"Heavy\" || Smoke == \"Occasional\" || Smoke == \"Regularly\")\n",
    "leftHand.smoke.count <- table(leftHand.smoke$Smoke)\n",
    "pie(leftHand.smoke.count,\n",
    "    labels = c(\"Heavy\", \"Occasional\", \"Regularly\"),\n",
    "    main = \"Distribution of smoking habits of left handed males\", xlab = \"Smoke\", ylab = \"Count\"\n",
    ")\n",
    "\n",
    "# 5.     Draw the histogram of age distribution with the title as ‘Age distribution’ and xlabel as ‘Age range’ and ylabel as ‘frequency’.\n",
    "\n",
    "hist(new$Age,\n",
    "    main = \"Age distribution\", xlab = \"Age range\", ylab = \"Frequency\"\n",
    ")\n",
    "\n",
    "\n",
    "#6.     Reveal the relationship between the age and writing hand span using scatter plot.\n",
    "\n",
    "plot(new$Age, new$Wr.Hnd,\n",
    "    main = \"Age vs Writing Hand Span\", xlab = \"Age\", ylab = \"Writing Hand Span\"\n",
    ")\n",
    "#7.     Draw the boxplot for pulse rate to analyse the five summary statistics. Provide appropriate title and label.\n",
    "\n",
    "boxplot(new$Pulse,\n",
    "    main = \"Pulse Rate\", xlab = \"Pulse\", ylab = \"Rate\"\n",
    ")"
   ]
  },
  {
   "cell_type": "code",
   "execution_count": null,
   "metadata": {
    "vscode": {
     "languageId": "r"
    }
   },
   "outputs": [],
   "source": [
    "#PART B\n",
    "\n",
    "#Use the newsurvey data obtained by cleaning ‘na’ values in survey data of MASS package and ggplot2 package to do the following:\n",
    "\n",
    "#1.     Install the package ggplot2 and import it.\n",
    "\n",
    "#2.     Plot a bar graph for the number of male and female participants in the survey. Provide the title as “Male and Female participants” and specify the colours for the bars.\n",
    "\n",
    "#3.     Plot a bar graph for the number of left handers and right handers in the survey. Provide the title as “Left Handers and Right Handers” and specify the colours for the bars.\n",
    "\n",
    "#4.     Plot the distribution between male left handers and female left handers using bar chart. Provide the title as “Female Left Handers and Male Left Handers” and specify the colours for the bars.\n",
    "\n",
    "#5.     Draw the distribution of smoking habits of male left handers based on age using pie chart.\n",
    "\n",
    "#6.     Draw the histogram of age distribution with the title as ‘Age distribution’ and xlabel as ‘Age range’ and ylabel as ‘frequency’.\n",
    "\n",
    "#7.     Reveal the relationship between the age and writing hand span using scatter plot."
   ]
  },
  {
   "cell_type": "code",
   "execution_count": null,
   "metadata": {
    "vscode": {
     "languageId": "r"
    }
   },
   "outputs": [],
   "source": [
    "# 1    Install the package ggplot2 and import it.\n",
    "\n",
    "install.packages(\"ggplot2\")\n",
    "library(ggplot2)\n",
    "\n",
    "# 2.     Plot a bar graph for the number of male and female participants in the survey. Provide the title as “Male and Female participants” and specify the colours for the bars.\n",
    "\n",
    "ggplot(new, aes(x = as.factor(Sex))) +\n",
    "    geom_bar(color = \"blue\", fill = rgb(0.1, 0.4, 0.5, 0.7))\n",
    "\n",
    "# 3.     Plot a bar graph for the number of left handers and right handers in the survey. Provide the title as “Left Handers and Right Handers” and specify the colours for the bars.\n",
    "\n",
    "ggplot(new, aes(x = as.factor(W.Hnd))) +\n",
    "    geom_bar(color = \"blue\", fill = rgb(0.1, 0.4, 0.5, 0.7))\n",
    "\n",
    "# 4.     Plot the distribution between male left handers and female left handers using bar chart. Provide the title as “Female Left Handers and Male Left Handers” and specify the colours for the bars.\n",
    "leftHand <- subset(new, W.Hnd == \"Left\")\n",
    "leftHand.count <- table(leftHand$Sex)\n",
    "ggplot(leftHand, aes(x = as.factor(Sex))) +\n",
    "    geom_bar(color = \"blue\", fill = rgb(0.1, 0.4, 0.5, 0.7))\n",
    "\n",
    "# 5.     Draw the distribution of smoking habits of male left handers based on age using pie chart.\n",
    "\n",
    "ggplot(leftHand, aes(x = as.factor(Smoke))) +\n",
    "    geom_bar(color = \"blue\", fill = rgb(0.1, 0.4, 0.5, 0.7)) +\n",
    "    facet_wrap(~Age) +\n",
    "    theme(axis.text.x = element_text(angle = 90, hjust = 1)) +\n",
    "    labs(title = \"Distribution of smoking among male left handers\", x = \"Smoke\", y = \"Count\")\n",
    "\n",
    "\n",
    "# 6.     Draw the histogram of age distribution with the title as ‘Age distribution’ and xlabel as ‘Age range’ and ylabel as ‘frequency’.\n",
    "\n",
    "ggplot(new, aes(x = Age)) +\n",
    "    geom_histogram(color = \"blue\", fill = rgb(0.1, 0.4, 0.5, 0.7)) +\n",
    "    labs(title = \"Age distribution\", x = \"Age range\", y = \"Frequency\") +\n",
    "    theme(axis.text.x = element_text(angle = 90, hjust = 1)) +\n",
    "    scale_x_continuous(breaks = seq(0, 100, 10)) +\n",
    "    scale_y_continuous(breaks = seq(0, 100, 10)) +\n",
    "    geom_vline(xintercept = mean(new$Age), color = \"red\", linetype = \"dashed\", size = 1) +\n",
    "    geom_vline(xintercept = median(new$Age), color = \"green\", linetype = \"dashed\", size = 1) +\n",
    "    geom_vline(xintercept = quantile(new$Age, 0.25), color = \"yellow\", linetype = \"dashed\", size = 1) +\n",
    "    geom_vline(xintercept = quantile(new$Age, 0.75), color = \"yellow\", linetype = \"dashed\", size = 1) +\n",
    "    annotate(\"text\", x = mean(new$Age), y = 10, label = \"Mean\", color = \"red\") +\n",
    "    annotate(\"text\", x = median(new$Age), y = 10, label = \"Median\", color = \"green\") +\n",
    "    annotate(\"text\", x = quantile(new$Age, 0.25), y = 10, label = \"Q1\", color = \"yellow\") +\n",
    "    annotate(\"text\", x = quantile(new$Age, 0.75), y = 10, label = \"Q3\", color = \"yellow\")\n",
    "\n",
    "\n",
    "# 7.     Reveal the relationship between the age and writing hand span using scatter plot.\n",
    "\n",
    "ggplot(new, aes(x = Age, y = Wr.Hnd)) +\n",
    "    geom_point(color = \"blue\", fill = rgb(0.1, 0.4, 0.5, 0.7)) +\n",
    "    labs(title = \"Age vs Writing Hand Span\", x = \"Age\", y = \"Writing Hand Span\") +\n",
    "    theme(axis.text.x = element_text(angle = 90, hjust = 1)) +\n",
    "    scale_x_continuous(breaks = seq(0, 100, 10)) +\n",
    "    scale_y_continuous(breaks = seq(0, 100, 10)) +\n",
    "    geom_smooth(method = \"lm\", color = \"red\", linetype = \"dashed\", size = 1) +\n",
    "    annotate(\"text\", x = 50, y = 20, label = \"Regression Line\", color = \"red\")\n"
   ]
  },
  {
   "cell_type": "code",
   "execution_count": null,
   "metadata": {
    "vscode": {
     "languageId": "r"
    }
   },
   "outputs": [],
   "source": [
    "# Data Manipulation using dplyr package\n",
    "# Use the newsurvey data obtained by cleaning ‘na’ values in survey data of MASS package to do the following:\n",
    "\n",
    "load(survey)\n",
    "new <- na.omit(survey)\n",
    "library(dplyr)\n",
    "\n",
    "#1.     Install the package dplyr and import it.\n",
    "instal.packages(\"dplyr\")\n",
    "# 2.     Filter all male left handers.\n",
    "leftHand <- subset(new, W.Hnd == \"Left\", Sex == \"Male\")\n",
    "leftHand.count <- table(leftHand$Sex)\n",
    "# 3.     Display all female right handers who keep right on top while clapping.\n",
    "rightHand <- subset(new, W.Hnd == \"Right\" || Clap == \"Right\")\n",
    "rightHand.count <- table(rightHand$Sex)\n",
    "# 4.     Display all students who never exercise.\n",
    "noExercise <- subset(new, Exer == \"Never\")\n",
    "noExercise\n",
    "# 5.     Display only the gender, age and writing hand of the students.\n",
    "newTable <- dplyr::select(new, Sex, Age, Wr.Hnd)\n",
    "newTable\n",
    "# 6.     Display the age, pulse rate and writing hand span of female left handers.\n",
    "leftHand <- filter(new, W.Hnd == \"Left\", Sex == \"Female\")\n",
    "leftHand\n",
    "newTable <- dplyr::select(leftHand, Age, Pulse, W.Hnd)\n",
    "newTable"
   ]
  },
  {
   "cell_type": "code",
   "execution_count": null,
   "metadata": {
    "vscode": {
     "languageId": "r"
    }
   },
   "outputs": [],
   "source": [
    "# More functions in dplyr package\n",
    "\n",
    "# Use the newsurvey data obtained by cleaning ‘na’ values in survey data of MASS package to do the following:\n",
    "\n",
    "# 1.     Install the dplyr package and import it.\n",
    "\n",
    "# 2.     Arrange all male left handers according to descending order of their heights.\n",
    "male <- filter(new, Sex == \"Male\", Height)\n",
    "descHeight <- arrange(male, desc(Height))\n",
    "descHeight\n",
    "# 3.     Introduce a new column hand_span which contains the value as difference between the span of writing hand and non-writing hand and display it along with gender, writing hand and non-writing hand span.\n",
    "new$hand_span <- new$Wr.Hnd - new$NW.Hnd\n",
    "new\n",
    "\n",
    "# 4.     Display the average writing span of male and female left handers.\n",
    "leftHand <- filter(new, W.Hnd == \"Left\")\n",
    "leftHand\n",
    "leftHand.count <- table(leftHand$Sex)\n",
    "avg <- summarise(leftHand, avg = mean(Wr.Hnd))\n",
    "avg\n",
    "\n",
    "\n",
    "# 5.     Find the maximum pulse rate of male left and right handers.\n",
    "leftHand <- filter(new, W.Hnd == \"Left\")\n",
    "max <- summarise(leftHand, avg = max(Wr.Hnd))\n",
    "max\n"
   ]
  },
  {
   "cell_type": "code",
   "execution_count": null,
   "metadata": {
    "vscode": {
     "languageId": "r"
    }
   },
   "outputs": [
    {
     "ename": "",
     "evalue": "",
     "output_type": "error",
     "traceback": [
      "\u001b[1;31mFailed to start the Kernel. \n",
      "\u001b[1;31mKernel R is not usable. Check the Jupyter output tab for more information. \n",
      "\u001b[1;31mView Jupyter <a href='command:jupyter.viewOutput'>log</a> for further details."
     ]
    }
   ],
   "source": [
    "# Use the newsurvey data obtained by cleaning ‘na’ values in survey data of MASS package, dplyr package  and ggplot2 package to do the following:\n",
    "library(MASS)\n",
    "library(datasets)\n",
    "new <- na.omit(survey)\n",
    "new\n",
    "\n",
    "# 1. Plot the distribution of writing hand span vs. pulse rate of left handers. Provide colour based on gender and vary the size of the point based on height of the student.\n",
    "leftHand <- filter(new, W.Hnd == \"Left\")\n",
    "leftHand\n",
    "\n",
    "ggplot(new, aes(x = leftHand, y = Pulse)) +\n",
    "    geom_point(aes(color = \"red\", size = Height)) +\n",
    "    labs(title = \"Distribution of writing hand span vs. pulse rate of left handers\", x = \"Writing Hand Span\", y = \"Pulse Rate\") +\n",
    "    theme(axis.text.x = element_text(angle = 90, hjust = 1)) +\n",
    "    scale_x_continuous(breaks = seq(0, 100, 10)) +\n",
    "    scale_y_continuous(breaks = seq(0, 100, 10)) +\n",
    "    geom_smooth(method = \"lm\", color = \"red\", linetype = \"dashed\", size = 1) +\n",
    "    annotate(\"text\", x = 50, y = 20, label = \"Regression Line\", color = \"red\")\n",
    "\n",
    "# 2. Plot the distribution of height of the students withfilled colour based on gender with facet based on left and write handers.\n",
    "\n",
    "ggplot(new, aes(x = Height)) +\n",
    "    geom_histogram(color = \"blue\", fill = rgb(0.1, 0.4, 0.5, 0.7)) +\n",
    "    labs(title = \"Height distribution\", x = \"Height range\", y = \"Frequency\") +\n",
    "    theme(axis.text.x = element_text(angle = 90, hjust = 1)) +\n",
    "    scale_x_continuous(breaks = seq(0, 100, 10)) +\n",
    "    scale_y_continuous(breaks = seq(0, 100, 10)) +\n",
    "    facet_wrap(~Sex, ncol = 2)\n",
    "\n",
    "# 3. Plot the trend of span of writing hand vs. non-writing hand coloured and grouped based on left and right handers with facet label based on clap.\n",
    "\n",
    "ggplot(new, aes(x = Wr.Hnd, y = NW.Hnd)) +\n",
    "    geom_point(color = \"blue\", fill = rgb(0.1, 0.4, 0.5, 0.7)) +\n",
    "    labs(title = \"Writing Hand Span vs Non-Writing Hand Span\", x = \"Writing Hand Span\", y = \"Non-Writing Hand Span\") +\n",
    "    theme(axis.text.x = element_text(angle = 90, hjust = 1)) +\n",
    "    scale_x_continuous(breaks = seq(0, 100, 10)) +\n",
    "    scale_y_continuous(breaks = seq(0, 100, 10)) +\n",
    "    facet_wrap(~Clap, ncol = 2)\n",
    "\n",
    "# 4. Plot the distribution of age of students based on categories under exercise with facet wrap based on gender.\n",
    "\n",
    "ggplot(new, aes(x = Age)) +\n",
    "    geom_histogram(color = \"blue\", fill = rgb(0.1, 0.4, 0.5, 0.7)) +\n",
    "    labs(title = \"Age distribution\", x = \"Age range\", y = \"Frequency\") +\n",
    "    theme(axis.text.x = element_text(angle = 90, hjust = 1)) +\n",
    "    scale_x_continuous(breaks = seq(0, 100, 10)) +\n",
    "    scale_y_continuous(breaks = seq(0, 100, 10)) +\n",
    "    facet_wrap(~Exer, ncol = 2)\n",
    "\n",
    "# 5. Plot the box plot of writing hand span with respect to smoking habits of students.\n",
    "\n",
    "ggplot(new, aes(x = Smoke, y = Wr.Hnd)) +\n",
    "    geom_boxplot(color = \"blue\", fill = rgb(0.1, 0.4, 0.5, 0.7)) +\n",
    "    labs(title = \"Box plot of writing hand span with respect to smoking habits of students\", x = \"Smoking habits\", y = \"Writing Hand Span\") +\n",
    "    theme(axis.text.x = element_text(angle = 90, hjust = 1)) +\n",
    "    scale_x_continuous(breaks = seq(0, 100, 10)) +\n",
    "    scale_y_continuous(breaks = seq(0, 100, 10))\n"
   ]
  },
  {
   "cell_type": "code",
   "execution_count": null,
   "metadata": {
    "vscode": {
     "languageId": "r"
    }
   },
   "outputs": [],
   "source": []
  }
 ],
 "metadata": {
  "kernelspec": {
   "display_name": "R",
   "language": "R",
   "name": "ir"
  },
  "language_info": {
   "codemirror_mode": "r",
   "file_extension": ".r",
   "mimetype": "text/x-r-source",
   "name": "R",
   "pygments_lexer": "r",
   "version": "3.10.2"
  },
  "orig_nbformat": 4,
  "vscode": {
   "interpreter": {
    "hash": "949777d72b0d2535278d3dc13498b2535136f6dfe0678499012e853ee9abcab1"
   }
  }
 },
 "nbformat": 4,
 "nbformat_minor": 2
}
