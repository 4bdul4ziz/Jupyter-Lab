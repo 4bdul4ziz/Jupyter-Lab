{
 "cells": [
  {
   "cell_type": "code",
   "execution_count": 2,
   "metadata": {
    "vscode": {
     "languageId": "r"
    }
   },
   "outputs": [
    {
     "data": {
      "text/html": [
       "<ol>\n",
       "\t<li><table class=\"dataframe\">\n",
       "<caption>A data.table: 10 × 2</caption>\n",
       "<thead>\n",
       "\t<tr><th scope=col>x</th><th scope=col>y</th></tr>\n",
       "\t<tr><th scope=col>&lt;int&gt;</th><th scope=col>&lt;int&gt;</th></tr>\n",
       "</thead>\n",
       "<tbody>\n",
       "\t<tr><td> 1</td><td> 1</td></tr>\n",
       "\t<tr><td> 2</td><td> 2</td></tr>\n",
       "\t<tr><td> 3</td><td> 3</td></tr>\n",
       "\t<tr><td> 4</td><td> 4</td></tr>\n",
       "\t<tr><td> 5</td><td> 5</td></tr>\n",
       "\t<tr><td> 6</td><td> 6</td></tr>\n",
       "\t<tr><td> 7</td><td> 7</td></tr>\n",
       "\t<tr><td> 8</td><td> 8</td></tr>\n",
       "\t<tr><td> 9</td><td> 9</td></tr>\n",
       "\t<tr><td>10</td><td>10</td></tr>\n",
       "</tbody>\n",
       "</table>\n",
       "</li>\n",
       "</ol>\n"
      ],
      "text/latex": [
       "\\begin{enumerate}\n",
       "\\item A data.table: 10 × 2\n",
       "\\begin{tabular}{ll}\n",
       " x & y\\\\\n",
       " <int> & <int>\\\\\n",
       "\\hline\n",
       "\t  1 &  1\\\\\n",
       "\t  2 &  2\\\\\n",
       "\t  3 &  3\\\\\n",
       "\t  4 &  4\\\\\n",
       "\t  5 &  5\\\\\n",
       "\t  6 &  6\\\\\n",
       "\t  7 &  7\\\\\n",
       "\t  8 &  8\\\\\n",
       "\t  9 &  9\\\\\n",
       "\t 10 & 10\\\\\n",
       "\\end{tabular}\n",
       "\n",
       "\\end{enumerate}\n"
      ],
      "text/markdown": [
       "1. \n",
       "A data.table: 10 × 2\n",
       "\n",
       "| x &lt;int&gt; | y &lt;int&gt; |\n",
       "|---|---|\n",
       "|  1 |  1 |\n",
       "|  2 |  2 |\n",
       "|  3 |  3 |\n",
       "|  4 |  4 |\n",
       "|  5 |  5 |\n",
       "|  6 |  6 |\n",
       "|  7 |  7 |\n",
       "|  8 |  8 |\n",
       "|  9 |  9 |\n",
       "| 10 | 10 |\n",
       "\n",
       "\n",
       "\n",
       "\n"
      ],
      "text/plain": [
       "[[1]]\n",
       "     x  y\n",
       " 1:  1  1\n",
       " 2:  2  2\n",
       " 3:  3  3\n",
       " 4:  4  4\n",
       " 5:  5  5\n",
       " 6:  6  6\n",
       " 7:  7  7\n",
       " 8:  8  8\n",
       " 9:  9  9\n",
       "10: 10 10\n"
      ]
     },
     "metadata": {},
     "output_type": "display_data"
    }
   ],
   "source": [
    "# use list() function on an example with data.table()\n",
    "\n",
    "library(data.table)\n",
    "library(dplyr)\n",
    "\n",
    "# create a data.table\n",
    "dt <- data.table(x = 1:10, y = 1:10)\n",
    "\n",
    "# create a list\n",
    "list(dt)\n"
   ]
  },
  {
   "cell_type": "code",
   "execution_count": 14,
   "metadata": {
    "vscode": {
     "languageId": "r"
    }
   },
   "outputs": [
    {
     "data": {
      "text/html": [
       "<table class=\"dataframe\">\n",
       "<caption>A data.table: 2 × 4</caption>\n",
       "<thead>\n",
       "\t<tr><th scope=col>B</th><th scope=col>A</th><th scope=col>B</th><th scope=col>C</th></tr>\n",
       "\t<tr><th scope=col>&lt;chr&gt;</th><th scope=col>&lt;dbl&gt;</th><th scope=col>&lt;chr&gt;</th><th scope=col>&lt;dbl&gt;</th></tr>\n",
       "</thead>\n",
       "<tbody>\n",
       "\t<tr><td>x</td><td> 0.21773588</td><td>x</td><td> 1.168033</td></tr>\n",
       "\t<tr><td>y</td><td>-0.02705735</td><td>y</td><td>-1.182635</td></tr>\n",
       "</tbody>\n",
       "</table>\n"
      ],
      "text/latex": [
       "A data.table: 2 × 4\n",
       "\\begin{tabular}{llll}\n",
       " B & A & B & C\\\\\n",
       " <chr> & <dbl> & <chr> & <dbl>\\\\\n",
       "\\hline\n",
       "\t x &  0.21773588 & x &  1.168033\\\\\n",
       "\t y & -0.02705735 & y & -1.182635\\\\\n",
       "\\end{tabular}\n"
      ],
      "text/markdown": [
       "\n",
       "A data.table: 2 × 4\n",
       "\n",
       "| B &lt;chr&gt; | A &lt;dbl&gt; | B &lt;chr&gt; | C &lt;dbl&gt; |\n",
       "|---|---|---|---|\n",
       "| x |  0.21773588 | x |  1.168033 |\n",
       "| y | -0.02705735 | y | -1.182635 |\n",
       "\n"
      ],
      "text/plain": [
       "  B A           B C        \n",
       "1 x  0.21773588 x  1.168033\n",
       "2 y -0.02705735 y -1.182635"
      ]
     },
     "metadata": {},
     "output_type": "display_data"
    },
    {
     "data": {
      "text/html": [
       "<table class=\"dataframe\">\n",
       "<caption>A data.table: 100 × 3</caption>\n",
       "<thead>\n",
       "\t<tr><th scope=col>A</th><th scope=col>B</th><th scope=col>C</th></tr>\n",
       "\t<tr><th scope=col>&lt;dbl&gt;</th><th scope=col>&lt;chr&gt;</th><th scope=col>&lt;dbl&gt;</th></tr>\n",
       "</thead>\n",
       "<tbody>\n",
       "\t<tr><td>-2.4053759</td><td>y</td><td> 0.54621076</td></tr>\n",
       "\t<tr><td>-2.3039086</td><td>x</td><td>-0.03895604</td></tr>\n",
       "\t<tr><td>-1.9878491</td><td>y</td><td>-1.50233258</td></tr>\n",
       "\t<tr><td>-1.6540253</td><td>y</td><td> 1.07501514</td></tr>\n",
       "\t<tr><td>-1.4477854</td><td>x</td><td>-0.27197648</td></tr>\n",
       "\t<tr><td>-1.3786925</td><td>x</td><td>-1.53728615</td></tr>\n",
       "\t<tr><td>-1.3611824</td><td>y</td><td>-0.03732001</td></tr>\n",
       "\t<tr><td>-1.2806077</td><td>y</td><td> 2.42170503</td></tr>\n",
       "\t<tr><td>-1.2615126</td><td>x</td><td> 0.82751712</td></tr>\n",
       "\t<tr><td>-1.1839337</td><td>y</td><td> 0.34047842</td></tr>\n",
       "\t<tr><td>-1.1380698</td><td>x</td><td>-0.83566064</td></tr>\n",
       "\t<tr><td>-1.1359354</td><td>x</td><td> 1.38417506</td></tr>\n",
       "\t<tr><td>-1.1178561</td><td>y</td><td> 1.09125292</td></tr>\n",
       "\t<tr><td>-1.1169263</td><td>x</td><td> 0.59243317</td></tr>\n",
       "\t<tr><td>-1.0277295</td><td>x</td><td>-0.39517567</td></tr>\n",
       "\t<tr><td>-1.0254254</td><td>x</td><td>-0.26478013</td></tr>\n",
       "\t<tr><td>-0.9912822</td><td>y</td><td>-0.84520748</td></tr>\n",
       "\t<tr><td>-0.9112378</td><td>y</td><td>-0.60380923</td></tr>\n",
       "\t<tr><td>-0.8476721</td><td>y</td><td> 0.61852376</td></tr>\n",
       "\t<tr><td>-0.8228448</td><td>x</td><td>-0.31183443</td></tr>\n",
       "\t<tr><td>-0.7416862</td><td>y</td><td> 0.79315785</td></tr>\n",
       "\t<tr><td>-0.7327693</td><td>x</td><td>-0.35802543</td></tr>\n",
       "\t<tr><td>-0.7301275</td><td>y</td><td>-0.21415374</td></tr>\n",
       "\t<tr><td>-0.6882312</td><td>y</td><td>-0.15560507</td></tr>\n",
       "\t<tr><td>-0.6060637</td><td>x</td><td>-0.04448276</td></tr>\n",
       "\t<tr><td>-0.5941635</td><td>x</td><td> 0.52749157</td></tr>\n",
       "\t<tr><td>-0.5380442</td><td>y</td><td>-0.68107802</td></tr>\n",
       "\t<tr><td>-0.5093294</td><td>x</td><td> 1.46505058</td></tr>\n",
       "\t<tr><td>-0.4944605</td><td>y</td><td> 0.02507556</td></tr>\n",
       "\t<tr><td>-0.4209095</td><td>x</td><td>-0.46721294</td></tr>\n",
       "\t<tr><td>⋮</td><td>⋮</td><td>⋮</td></tr>\n",
       "\t<tr><td>0.6244202</td><td>y</td><td>-1.28533233</td></tr>\n",
       "\t<tr><td>0.6518875</td><td>y</td><td>-0.66955919</td></tr>\n",
       "\t<tr><td>0.6837542</td><td>y</td><td>-0.77452742</td></tr>\n",
       "\t<tr><td>0.7622507</td><td>x</td><td> 0.92007833</td></tr>\n",
       "\t<tr><td>0.7676467</td><td>x</td><td> 0.46841278</td></tr>\n",
       "\t<tr><td>0.7776540</td><td>x</td><td>-1.06768519</td></tr>\n",
       "\t<tr><td>0.7921116</td><td>x</td><td> 1.51513897</td></tr>\n",
       "\t<tr><td>0.8113148</td><td>x</td><td>-0.54103716</td></tr>\n",
       "\t<tr><td>0.8147417</td><td>y</td><td>-1.56562873</td></tr>\n",
       "\t<tr><td>0.8510834</td><td>y</td><td> 1.57268211</td></tr>\n",
       "\t<tr><td>0.8786387</td><td>y</td><td> 1.18335942</td></tr>\n",
       "\t<tr><td>0.9147662</td><td>x</td><td>-0.05386885</td></tr>\n",
       "\t<tr><td>0.9284427</td><td>x</td><td>-1.98211408</td></tr>\n",
       "\t<tr><td>0.9445683</td><td>x</td><td> 0.19486298</td></tr>\n",
       "\t<tr><td>0.9469099</td><td>x</td><td> 0.81389709</td></tr>\n",
       "\t<tr><td>0.9574578</td><td>y</td><td> 1.37492322</td></tr>\n",
       "\t<tr><td>1.0500877</td><td>x</td><td>-0.63422984</td></tr>\n",
       "\t<tr><td>1.2085833</td><td>y</td><td>-1.51280066</td></tr>\n",
       "\t<tr><td>1.2378653</td><td>x</td><td> 1.04521377</td></tr>\n",
       "\t<tr><td>1.2538429</td><td>y</td><td> 0.14983288</td></tr>\n",
       "\t<tr><td>1.6329420</td><td>x</td><td> 1.73342732</td></tr>\n",
       "\t<tr><td>1.6762645</td><td>y</td><td> 0.32040259</td></tr>\n",
       "\t<tr><td>1.7507978</td><td>x</td><td> 0.48597538</td></tr>\n",
       "\t<tr><td>1.9243740</td><td>x</td><td> 0.73152104</td></tr>\n",
       "\t<tr><td>2.0394985</td><td>x</td><td>-0.03111166</td></tr>\n",
       "\t<tr><td>2.0675252</td><td>x</td><td>-0.13187288</td></tr>\n",
       "\t<tr><td>2.1056214</td><td>y</td><td> 1.55515608</td></tr>\n",
       "\t<tr><td>2.1932754</td><td>x</td><td> 0.06370741</td></tr>\n",
       "\t<tr><td>2.2842442</td><td>x</td><td> 0.11956978</td></tr>\n",
       "\t<tr><td>2.4500066</td><td>x</td><td> 1.50920204</td></tr>\n",
       "</tbody>\n",
       "</table>\n"
      ],
      "text/latex": [
       "A data.table: 100 × 3\n",
       "\\begin{tabular}{lll}\n",
       " A & B & C\\\\\n",
       " <dbl> & <chr> & <dbl>\\\\\n",
       "\\hline\n",
       "\t -2.4053759 & y &  0.54621076\\\\\n",
       "\t -2.3039086 & x & -0.03895604\\\\\n",
       "\t -1.9878491 & y & -1.50233258\\\\\n",
       "\t -1.6540253 & y &  1.07501514\\\\\n",
       "\t -1.4477854 & x & -0.27197648\\\\\n",
       "\t -1.3786925 & x & -1.53728615\\\\\n",
       "\t -1.3611824 & y & -0.03732001\\\\\n",
       "\t -1.2806077 & y &  2.42170503\\\\\n",
       "\t -1.2615126 & x &  0.82751712\\\\\n",
       "\t -1.1839337 & y &  0.34047842\\\\\n",
       "\t -1.1380698 & x & -0.83566064\\\\\n",
       "\t -1.1359354 & x &  1.38417506\\\\\n",
       "\t -1.1178561 & y &  1.09125292\\\\\n",
       "\t -1.1169263 & x &  0.59243317\\\\\n",
       "\t -1.0277295 & x & -0.39517567\\\\\n",
       "\t -1.0254254 & x & -0.26478013\\\\\n",
       "\t -0.9912822 & y & -0.84520748\\\\\n",
       "\t -0.9112378 & y & -0.60380923\\\\\n",
       "\t -0.8476721 & y &  0.61852376\\\\\n",
       "\t -0.8228448 & x & -0.31183443\\\\\n",
       "\t -0.7416862 & y &  0.79315785\\\\\n",
       "\t -0.7327693 & x & -0.35802543\\\\\n",
       "\t -0.7301275 & y & -0.21415374\\\\\n",
       "\t -0.6882312 & y & -0.15560507\\\\\n",
       "\t -0.6060637 & x & -0.04448276\\\\\n",
       "\t -0.5941635 & x &  0.52749157\\\\\n",
       "\t -0.5380442 & y & -0.68107802\\\\\n",
       "\t -0.5093294 & x &  1.46505058\\\\\n",
       "\t -0.4944605 & y &  0.02507556\\\\\n",
       "\t -0.4209095 & x & -0.46721294\\\\\n",
       "\t ⋮ & ⋮ & ⋮\\\\\n",
       "\t 0.6244202 & y & -1.28533233\\\\\n",
       "\t 0.6518875 & y & -0.66955919\\\\\n",
       "\t 0.6837542 & y & -0.77452742\\\\\n",
       "\t 0.7622507 & x &  0.92007833\\\\\n",
       "\t 0.7676467 & x &  0.46841278\\\\\n",
       "\t 0.7776540 & x & -1.06768519\\\\\n",
       "\t 0.7921116 & x &  1.51513897\\\\\n",
       "\t 0.8113148 & x & -0.54103716\\\\\n",
       "\t 0.8147417 & y & -1.56562873\\\\\n",
       "\t 0.8510834 & y &  1.57268211\\\\\n",
       "\t 0.8786387 & y &  1.18335942\\\\\n",
       "\t 0.9147662 & x & -0.05386885\\\\\n",
       "\t 0.9284427 & x & -1.98211408\\\\\n",
       "\t 0.9445683 & x &  0.19486298\\\\\n",
       "\t 0.9469099 & x &  0.81389709\\\\\n",
       "\t 0.9574578 & y &  1.37492322\\\\\n",
       "\t 1.0500877 & x & -0.63422984\\\\\n",
       "\t 1.2085833 & y & -1.51280066\\\\\n",
       "\t 1.2378653 & x &  1.04521377\\\\\n",
       "\t 1.2538429 & y &  0.14983288\\\\\n",
       "\t 1.6329420 & x &  1.73342732\\\\\n",
       "\t 1.6762645 & y &  0.32040259\\\\\n",
       "\t 1.7507978 & x &  0.48597538\\\\\n",
       "\t 1.9243740 & x &  0.73152104\\\\\n",
       "\t 2.0394985 & x & -0.03111166\\\\\n",
       "\t 2.0675252 & x & -0.13187288\\\\\n",
       "\t 2.1056214 & y &  1.55515608\\\\\n",
       "\t 2.1932754 & x &  0.06370741\\\\\n",
       "\t 2.2842442 & x &  0.11956978\\\\\n",
       "\t 2.4500066 & x &  1.50920204\\\\\n",
       "\\end{tabular}\n"
      ],
      "text/markdown": [
       "\n",
       "A data.table: 100 × 3\n",
       "\n",
       "| A &lt;dbl&gt; | B &lt;chr&gt; | C &lt;dbl&gt; |\n",
       "|---|---|---|\n",
       "| -2.4053759 | y |  0.54621076 |\n",
       "| -2.3039086 | x | -0.03895604 |\n",
       "| -1.9878491 | y | -1.50233258 |\n",
       "| -1.6540253 | y |  1.07501514 |\n",
       "| -1.4477854 | x | -0.27197648 |\n",
       "| -1.3786925 | x | -1.53728615 |\n",
       "| -1.3611824 | y | -0.03732001 |\n",
       "| -1.2806077 | y |  2.42170503 |\n",
       "| -1.2615126 | x |  0.82751712 |\n",
       "| -1.1839337 | y |  0.34047842 |\n",
       "| -1.1380698 | x | -0.83566064 |\n",
       "| -1.1359354 | x |  1.38417506 |\n",
       "| -1.1178561 | y |  1.09125292 |\n",
       "| -1.1169263 | x |  0.59243317 |\n",
       "| -1.0277295 | x | -0.39517567 |\n",
       "| -1.0254254 | x | -0.26478013 |\n",
       "| -0.9912822 | y | -0.84520748 |\n",
       "| -0.9112378 | y | -0.60380923 |\n",
       "| -0.8476721 | y |  0.61852376 |\n",
       "| -0.8228448 | x | -0.31183443 |\n",
       "| -0.7416862 | y |  0.79315785 |\n",
       "| -0.7327693 | x | -0.35802543 |\n",
       "| -0.7301275 | y | -0.21415374 |\n",
       "| -0.6882312 | y | -0.15560507 |\n",
       "| -0.6060637 | x | -0.04448276 |\n",
       "| -0.5941635 | x |  0.52749157 |\n",
       "| -0.5380442 | y | -0.68107802 |\n",
       "| -0.5093294 | x |  1.46505058 |\n",
       "| -0.4944605 | y |  0.02507556 |\n",
       "| -0.4209095 | x | -0.46721294 |\n",
       "| ⋮ | ⋮ | ⋮ |\n",
       "| 0.6244202 | y | -1.28533233 |\n",
       "| 0.6518875 | y | -0.66955919 |\n",
       "| 0.6837542 | y | -0.77452742 |\n",
       "| 0.7622507 | x |  0.92007833 |\n",
       "| 0.7676467 | x |  0.46841278 |\n",
       "| 0.7776540 | x | -1.06768519 |\n",
       "| 0.7921116 | x |  1.51513897 |\n",
       "| 0.8113148 | x | -0.54103716 |\n",
       "| 0.8147417 | y | -1.56562873 |\n",
       "| 0.8510834 | y |  1.57268211 |\n",
       "| 0.8786387 | y |  1.18335942 |\n",
       "| 0.9147662 | x | -0.05386885 |\n",
       "| 0.9284427 | x | -1.98211408 |\n",
       "| 0.9445683 | x |  0.19486298 |\n",
       "| 0.9469099 | x |  0.81389709 |\n",
       "| 0.9574578 | y |  1.37492322 |\n",
       "| 1.0500877 | x | -0.63422984 |\n",
       "| 1.2085833 | y | -1.51280066 |\n",
       "| 1.2378653 | x |  1.04521377 |\n",
       "| 1.2538429 | y |  0.14983288 |\n",
       "| 1.6329420 | x |  1.73342732 |\n",
       "| 1.6762645 | y |  0.32040259 |\n",
       "| 1.7507978 | x |  0.48597538 |\n",
       "| 1.9243740 | x |  0.73152104 |\n",
       "| 2.0394985 | x | -0.03111166 |\n",
       "| 2.0675252 | x | -0.13187288 |\n",
       "| 2.1056214 | y |  1.55515608 |\n",
       "| 2.1932754 | x |  0.06370741 |\n",
       "| 2.2842442 | x |  0.11956978 |\n",
       "| 2.4500066 | x |  1.50920204 |\n",
       "\n"
      ],
      "text/plain": [
       "    A          B C          \n",
       "1   -2.4053759 y  0.54621076\n",
       "2   -2.3039086 x -0.03895604\n",
       "3   -1.9878491 y -1.50233258\n",
       "4   -1.6540253 y  1.07501514\n",
       "5   -1.4477854 x -0.27197648\n",
       "6   -1.3786925 x -1.53728615\n",
       "7   -1.3611824 y -0.03732001\n",
       "8   -1.2806077 y  2.42170503\n",
       "9   -1.2615126 x  0.82751712\n",
       "10  -1.1839337 y  0.34047842\n",
       "11  -1.1380698 x -0.83566064\n",
       "12  -1.1359354 x  1.38417506\n",
       "13  -1.1178561 y  1.09125292\n",
       "14  -1.1169263 x  0.59243317\n",
       "15  -1.0277295 x -0.39517567\n",
       "16  -1.0254254 x -0.26478013\n",
       "17  -0.9912822 y -0.84520748\n",
       "18  -0.9112378 y -0.60380923\n",
       "19  -0.8476721 y  0.61852376\n",
       "20  -0.8228448 x -0.31183443\n",
       "21  -0.7416862 y  0.79315785\n",
       "22  -0.7327693 x -0.35802543\n",
       "23  -0.7301275 y -0.21415374\n",
       "24  -0.6882312 y -0.15560507\n",
       "25  -0.6060637 x -0.04448276\n",
       "26  -0.5941635 x  0.52749157\n",
       "27  -0.5380442 y -0.68107802\n",
       "28  -0.5093294 x  1.46505058\n",
       "29  -0.4944605 y  0.02507556\n",
       "30  -0.4209095 x -0.46721294\n",
       "⋮   ⋮          ⋮ ⋮          \n",
       "71  0.6244202  y -1.28533233\n",
       "72  0.6518875  y -0.66955919\n",
       "73  0.6837542  y -0.77452742\n",
       "74  0.7622507  x  0.92007833\n",
       "75  0.7676467  x  0.46841278\n",
       "76  0.7776540  x -1.06768519\n",
       "77  0.7921116  x  1.51513897\n",
       "78  0.8113148  x -0.54103716\n",
       "79  0.8147417  y -1.56562873\n",
       "80  0.8510834  y  1.57268211\n",
       "81  0.8786387  y  1.18335942\n",
       "82  0.9147662  x -0.05386885\n",
       "83  0.9284427  x -1.98211408\n",
       "84  0.9445683  x  0.19486298\n",
       "85  0.9469099  x  0.81389709\n",
       "86  0.9574578  y  1.37492322\n",
       "87  1.0500877  x -0.63422984\n",
       "88  1.2085833  y -1.51280066\n",
       "89  1.2378653  x  1.04521377\n",
       "90  1.2538429  y  0.14983288\n",
       "91  1.6329420  x  1.73342732\n",
       "92  1.6762645  y  0.32040259\n",
       "93  1.7507978  x  0.48597538\n",
       "94  1.9243740  x  0.73152104\n",
       "95  2.0394985  x -0.03111166\n",
       "96  2.0675252  x -0.13187288\n",
       "97  2.1056214  y  1.55515608\n",
       "98  2.1932754  x  0.06370741\n",
       "99  2.2842442  x  0.11956978\n",
       "100 2.4500066  x  1.50920204"
      ]
     },
     "metadata": {},
     "output_type": "display_data"
    },
    {
     "data": {
      "text/html": [
       "<table class=\"dataframe\">\n",
       "<caption>A data.table: 2 × 4</caption>\n",
       "<thead>\n",
       "\t<tr><th scope=col>B</th><th scope=col>A</th><th scope=col>B</th><th scope=col>C</th></tr>\n",
       "\t<tr><th scope=col>&lt;chr&gt;</th><th scope=col>&lt;dbl&gt;</th><th scope=col>&lt;chr&gt;</th><th scope=col>&lt;dbl&gt;</th></tr>\n",
       "</thead>\n",
       "<tbody>\n",
       "\t<tr><td>x</td><td> 0.21773588</td><td>x</td><td> 1.168033</td></tr>\n",
       "\t<tr><td>y</td><td>-0.02705735</td><td>y</td><td>-1.182635</td></tr>\n",
       "</tbody>\n",
       "</table>\n"
      ],
      "text/latex": [
       "A data.table: 2 × 4\n",
       "\\begin{tabular}{llll}\n",
       " B & A & B & C\\\\\n",
       " <chr> & <dbl> & <chr> & <dbl>\\\\\n",
       "\\hline\n",
       "\t x &  0.21773588 & x &  1.168033\\\\\n",
       "\t y & -0.02705735 & y & -1.182635\\\\\n",
       "\\end{tabular}\n"
      ],
      "text/markdown": [
       "\n",
       "A data.table: 2 × 4\n",
       "\n",
       "| B &lt;chr&gt; | A &lt;dbl&gt; | B &lt;chr&gt; | C &lt;dbl&gt; |\n",
       "|---|---|---|---|\n",
       "| x |  0.21773588 | x |  1.168033 |\n",
       "| y | -0.02705735 | y | -1.182635 |\n",
       "\n"
      ],
      "text/plain": [
       "  B A           B C        \n",
       "1 x  0.21773588 x  1.168033\n",
       "2 y -0.02705735 y -1.182635"
      ]
     },
     "metadata": {},
     "output_type": "display_data"
    }
   ],
   "source": [
    "# Create a data frame containing three variable A,B,C st. A is normally distributed. B has repetitions of x and y. Perform all data table manipulation operations.\n",
    "\n",
    "# create a data frame\n",
    "df <- data.frame(A = rnorm(100), B = sample(c(\"x\", \"y\"), 100, replace = TRUE), C = rnorm(100))\n",
    "\n",
    "# create a data.table\n",
    "dt <- as.data.table(df)\n",
    "\n",
    "# data manipulation Operations\n",
    "dt[, .(A = mean(A), B = unique(B), C = sum(C)), by = B]\n",
    "\n",
    "# ordering by ascending A\n",
    "dt[order(A)]\n",
    "dt[, .(A = mean(A), B = unique(B), C = sum(C)), by = B][order(-A)]\n"
   ]
  },
  {
   "cell_type": "code",
   "execution_count": 17,
   "metadata": {
    "vscode": {
     "languageId": "r"
    }
   },
   "outputs": [
    {
     "data": {
      "text/html": [
       "<table class=\"dataframe\">\n",
       "<caption>A data.table: 5 × 2</caption>\n",
       "<thead>\n",
       "\t<tr><th scope=col>x</th><th scope=col>y</th></tr>\n",
       "\t<tr><th scope=col>&lt;int&gt;</th><th scope=col>&lt;int&gt;</th></tr>\n",
       "</thead>\n",
       "<tbody>\n",
       "\t<tr><td> 6</td><td> 6</td></tr>\n",
       "\t<tr><td> 7</td><td> 7</td></tr>\n",
       "\t<tr><td> 8</td><td> 8</td></tr>\n",
       "\t<tr><td> 9</td><td> 9</td></tr>\n",
       "\t<tr><td>10</td><td>10</td></tr>\n",
       "</tbody>\n",
       "</table>\n"
      ],
      "text/latex": [
       "A data.table: 5 × 2\n",
       "\\begin{tabular}{ll}\n",
       " x & y\\\\\n",
       " <int> & <int>\\\\\n",
       "\\hline\n",
       "\t  6 &  6\\\\\n",
       "\t  7 &  7\\\\\n",
       "\t  8 &  8\\\\\n",
       "\t  9 &  9\\\\\n",
       "\t 10 & 10\\\\\n",
       "\\end{tabular}\n"
      ],
      "text/markdown": [
       "\n",
       "A data.table: 5 × 2\n",
       "\n",
       "| x &lt;int&gt; | y &lt;int&gt; |\n",
       "|---|---|\n",
       "|  6 |  6 |\n",
       "|  7 |  7 |\n",
       "|  8 |  8 |\n",
       "|  9 |  9 |\n",
       "| 10 | 10 |\n",
       "\n"
      ],
      "text/plain": [
       "  x  y \n",
       "1  6  6\n",
       "2  7  7\n",
       "3  8  8\n",
       "4  9  9\n",
       "5 10 10"
      ]
     },
     "metadata": {},
     "output_type": "display_data"
    },
    {
     "data": {
      "text/html": [
       "<table class=\"dataframe\">\n",
       "<caption>A data.table: 5 × 2</caption>\n",
       "<thead>\n",
       "\t<tr><th scope=col>x</th><th scope=col>y</th></tr>\n",
       "\t<tr><th scope=col>&lt;int&gt;</th><th scope=col>&lt;int&gt;</th></tr>\n",
       "</thead>\n",
       "<tbody>\n",
       "\t<tr><td> 6</td><td> 6</td></tr>\n",
       "\t<tr><td> 7</td><td> 7</td></tr>\n",
       "\t<tr><td> 8</td><td> 8</td></tr>\n",
       "\t<tr><td> 9</td><td> 9</td></tr>\n",
       "\t<tr><td>10</td><td>10</td></tr>\n",
       "</tbody>\n",
       "</table>\n"
      ],
      "text/latex": [
       "A data.table: 5 × 2\n",
       "\\begin{tabular}{ll}\n",
       " x & y\\\\\n",
       " <int> & <int>\\\\\n",
       "\\hline\n",
       "\t  6 &  6\\\\\n",
       "\t  7 &  7\\\\\n",
       "\t  8 &  8\\\\\n",
       "\t  9 &  9\\\\\n",
       "\t 10 & 10\\\\\n",
       "\\end{tabular}\n"
      ],
      "text/markdown": [
       "\n",
       "A data.table: 5 × 2\n",
       "\n",
       "| x &lt;int&gt; | y &lt;int&gt; |\n",
       "|---|---|\n",
       "|  6 |  6 |\n",
       "|  7 |  7 |\n",
       "|  8 |  8 |\n",
       "|  9 |  9 |\n",
       "| 10 | 10 |\n",
       "\n"
      ],
      "text/plain": [
       "  x  y \n",
       "1  6  6\n",
       "2  7  7\n",
       "3  8  8\n",
       "4  9  9\n",
       "5 10 10"
      ]
     },
     "metadata": {},
     "output_type": "display_data"
    },
    {
     "data": {
      "text/html": [
       "<table class=\"dataframe\">\n",
       "<caption>A data.table: 5 × 2</caption>\n",
       "<thead>\n",
       "\t<tr><th scope=col>x</th><th scope=col>y</th></tr>\n",
       "\t<tr><th scope=col>&lt;int&gt;</th><th scope=col>&lt;int&gt;</th></tr>\n",
       "</thead>\n",
       "<tbody>\n",
       "\t<tr><td> 6</td><td> 6</td></tr>\n",
       "\t<tr><td> 7</td><td> 7</td></tr>\n",
       "\t<tr><td> 8</td><td> 8</td></tr>\n",
       "\t<tr><td> 9</td><td> 9</td></tr>\n",
       "\t<tr><td>10</td><td>10</td></tr>\n",
       "</tbody>\n",
       "</table>\n"
      ],
      "text/latex": [
       "A data.table: 5 × 2\n",
       "\\begin{tabular}{ll}\n",
       " x & y\\\\\n",
       " <int> & <int>\\\\\n",
       "\\hline\n",
       "\t  6 &  6\\\\\n",
       "\t  7 &  7\\\\\n",
       "\t  8 &  8\\\\\n",
       "\t  9 &  9\\\\\n",
       "\t 10 & 10\\\\\n",
       "\\end{tabular}\n"
      ],
      "text/markdown": [
       "\n",
       "A data.table: 5 × 2\n",
       "\n",
       "| x &lt;int&gt; | y &lt;int&gt; |\n",
       "|---|---|\n",
       "|  6 |  6 |\n",
       "|  7 |  7 |\n",
       "|  8 |  8 |\n",
       "|  9 |  9 |\n",
       "| 10 | 10 |\n",
       "\n"
      ],
      "text/plain": [
       "  x  y \n",
       "1  6  6\n",
       "2  7  7\n",
       "3  8  8\n",
       "4  9  9\n",
       "5 10 10"
      ]
     },
     "metadata": {},
     "output_type": "display_data"
    },
    {
     "data": {
      "text/html": [
       "<table class=\"dataframe\">\n",
       "<caption>A data.table: 5 × 2</caption>\n",
       "<thead>\n",
       "\t<tr><th scope=col>x</th><th scope=col>y</th></tr>\n",
       "\t<tr><th scope=col>&lt;int&gt;</th><th scope=col>&lt;int&gt;</th></tr>\n",
       "</thead>\n",
       "<tbody>\n",
       "\t<tr><td> 6</td><td> 6</td></tr>\n",
       "\t<tr><td> 7</td><td> 7</td></tr>\n",
       "\t<tr><td> 8</td><td> 8</td></tr>\n",
       "\t<tr><td> 9</td><td> 9</td></tr>\n",
       "\t<tr><td>10</td><td>10</td></tr>\n",
       "</tbody>\n",
       "</table>\n"
      ],
      "text/latex": [
       "A data.table: 5 × 2\n",
       "\\begin{tabular}{ll}\n",
       " x & y\\\\\n",
       " <int> & <int>\\\\\n",
       "\\hline\n",
       "\t  6 &  6\\\\\n",
       "\t  7 &  7\\\\\n",
       "\t  8 &  8\\\\\n",
       "\t  9 &  9\\\\\n",
       "\t 10 & 10\\\\\n",
       "\\end{tabular}\n"
      ],
      "text/markdown": [
       "\n",
       "A data.table: 5 × 2\n",
       "\n",
       "| x &lt;int&gt; | y &lt;int&gt; |\n",
       "|---|---|\n",
       "|  6 |  6 |\n",
       "|  7 |  7 |\n",
       "|  8 |  8 |\n",
       "|  9 |  9 |\n",
       "| 10 | 10 |\n",
       "\n"
      ],
      "text/plain": [
       "  x  y \n",
       "1  6  6\n",
       "2  7  7\n",
       "3  8  8\n",
       "4  9  9\n",
       "5 10 10"
      ]
     },
     "metadata": {},
     "output_type": "display_data"
    },
    {
     "data": {
      "text/html": [
       "<table class=\"dataframe\">\n",
       "<caption>A data.table: 5 × 2</caption>\n",
       "<thead>\n",
       "\t<tr><th scope=col>x</th><th scope=col>y</th></tr>\n",
       "\t<tr><th scope=col>&lt;int&gt;</th><th scope=col>&lt;int&gt;</th></tr>\n",
       "</thead>\n",
       "<tbody>\n",
       "\t<tr><td> 6</td><td> 6</td></tr>\n",
       "\t<tr><td> 7</td><td> 7</td></tr>\n",
       "\t<tr><td> 8</td><td> 8</td></tr>\n",
       "\t<tr><td> 9</td><td> 9</td></tr>\n",
       "\t<tr><td>10</td><td>10</td></tr>\n",
       "</tbody>\n",
       "</table>\n"
      ],
      "text/latex": [
       "A data.table: 5 × 2\n",
       "\\begin{tabular}{ll}\n",
       " x & y\\\\\n",
       " <int> & <int>\\\\\n",
       "\\hline\n",
       "\t  6 &  6\\\\\n",
       "\t  7 &  7\\\\\n",
       "\t  8 &  8\\\\\n",
       "\t  9 &  9\\\\\n",
       "\t 10 & 10\\\\\n",
       "\\end{tabular}\n"
      ],
      "text/markdown": [
       "\n",
       "A data.table: 5 × 2\n",
       "\n",
       "| x &lt;int&gt; | y &lt;int&gt; |\n",
       "|---|---|\n",
       "|  6 |  6 |\n",
       "|  7 |  7 |\n",
       "|  8 |  8 |\n",
       "|  9 |  9 |\n",
       "| 10 | 10 |\n",
       "\n"
      ],
      "text/plain": [
       "  x  y \n",
       "1  6  6\n",
       "2  7  7\n",
       "3  8  8\n",
       "4  9  9\n",
       "5 10 10"
      ]
     },
     "metadata": {},
     "output_type": "display_data"
    },
    {
     "data": {
      "text/html": [],
      "text/latex": [],
      "text/markdown": [],
      "text/plain": [
       "<0 x 0 matrix>"
      ]
     },
     "metadata": {},
     "output_type": "display_data"
    },
    {
     "data": {
      "text/html": [],
      "text/latex": [],
      "text/markdown": [],
      "text/plain": [
       "<0 x 0 matrix>"
      ]
     },
     "metadata": {},
     "output_type": "display_data"
    },
    {
     "data": {
      "text/html": [
       "7"
      ],
      "text/latex": [
       "7"
      ],
      "text/markdown": [
       "7"
      ],
      "text/plain": [
       "[1] 7"
      ]
     },
     "metadata": {},
     "output_type": "display_data"
    },
    {
     "data": {
      "text/html": [
       "<table class=\"dataframe\">\n",
       "<caption>A data.table: 5 × 2</caption>\n",
       "<thead>\n",
       "\t<tr><th scope=col>x</th><th scope=col>y</th></tr>\n",
       "\t<tr><th scope=col>&lt;int&gt;</th><th scope=col>&lt;int&gt;</th></tr>\n",
       "</thead>\n",
       "<tbody>\n",
       "\t<tr><td> 6</td><td> 6</td></tr>\n",
       "\t<tr><td> 7</td><td> 7</td></tr>\n",
       "\t<tr><td> 8</td><td> 8</td></tr>\n",
       "\t<tr><td> 9</td><td> 9</td></tr>\n",
       "\t<tr><td>10</td><td>10</td></tr>\n",
       "</tbody>\n",
       "</table>\n"
      ],
      "text/latex": [
       "A data.table: 5 × 2\n",
       "\\begin{tabular}{ll}\n",
       " x & y\\\\\n",
       " <int> & <int>\\\\\n",
       "\\hline\n",
       "\t  6 &  6\\\\\n",
       "\t  7 &  7\\\\\n",
       "\t  8 &  8\\\\\n",
       "\t  9 &  9\\\\\n",
       "\t 10 & 10\\\\\n",
       "\\end{tabular}\n"
      ],
      "text/markdown": [
       "\n",
       "A data.table: 5 × 2\n",
       "\n",
       "| x &lt;int&gt; | y &lt;int&gt; |\n",
       "|---|---|\n",
       "|  6 |  6 |\n",
       "|  7 |  7 |\n",
       "|  8 |  8 |\n",
       "|  9 |  9 |\n",
       "| 10 | 10 |\n",
       "\n"
      ],
      "text/plain": [
       "  x  y \n",
       "1  6  6\n",
       "2  7  7\n",
       "3  8  8\n",
       "4  9  9\n",
       "5 10 10"
      ]
     },
     "metadata": {},
     "output_type": "display_data"
    },
    {
     "data": {
      "text/html": [
       "<table class=\"dataframe\">\n",
       "<caption>A data.table: 5 × 2</caption>\n",
       "<thead>\n",
       "\t<tr><th scope=col>x</th><th scope=col>y</th></tr>\n",
       "\t<tr><th scope=col>&lt;int&gt;</th><th scope=col>&lt;int&gt;</th></tr>\n",
       "</thead>\n",
       "<tbody>\n",
       "\t<tr><td> 6</td><td> 6</td></tr>\n",
       "\t<tr><td> 7</td><td> 7</td></tr>\n",
       "\t<tr><td> 8</td><td> 8</td></tr>\n",
       "\t<tr><td> 9</td><td> 9</td></tr>\n",
       "\t<tr><td>10</td><td>10</td></tr>\n",
       "</tbody>\n",
       "</table>\n"
      ],
      "text/latex": [
       "A data.table: 5 × 2\n",
       "\\begin{tabular}{ll}\n",
       " x & y\\\\\n",
       " <int> & <int>\\\\\n",
       "\\hline\n",
       "\t  6 &  6\\\\\n",
       "\t  7 &  7\\\\\n",
       "\t  8 &  8\\\\\n",
       "\t  9 &  9\\\\\n",
       "\t 10 & 10\\\\\n",
       "\\end{tabular}\n"
      ],
      "text/markdown": [
       "\n",
       "A data.table: 5 × 2\n",
       "\n",
       "| x &lt;int&gt; | y &lt;int&gt; |\n",
       "|---|---|\n",
       "|  6 |  6 |\n",
       "|  7 |  7 |\n",
       "|  8 |  8 |\n",
       "|  9 |  9 |\n",
       "| 10 | 10 |\n",
       "\n"
      ],
      "text/plain": [
       "  x  y \n",
       "1  6  6\n",
       "2  7  7\n",
       "3  8  8\n",
       "4  9  9\n",
       "5 10 10"
      ]
     },
     "metadata": {},
     "output_type": "display_data"
    }
   ],
   "source": [
    "\n",
    "# with\n",
    "dt <- data.table(x = 1:10, y = 1:10)\n",
    "dt[with(dt, x > 5)]\n",
    "\n",
    "# which\n",
    "dt <- data.table(x = 1:10, y = 1:10)\n",
    "dt[which(dt$x > 5)]\n",
    "\n",
    "# allow.cartesian\n",
    "dt <- data.table(x = 1:10, y = 1:10)\n",
    "dt[allow.cartesian = TRUE, x > 5]\n",
    "\n",
    "# roll\n",
    "dt <- data.table(x = 1:10, y = 1:10)\n",
    "dt[roll = TRUE, x > 5]\n",
    "\n",
    "# rollends\n",
    "dt <- data.table(x = 1:10, y = 1:10)\n",
    "dt[rollends = TRUE, x > 5]\n",
    "\n",
    "# .SD\n",
    "dt <- data.table(x = 1:10, y = 1:10)\n",
    "dt[.SD, x > 5]\n",
    "\n",
    "# .SDcols\n",
    "dt <- data.table(x = 1:10, y = 1:10)\n",
    "dt[.SD, x > 5, .SDcols = c(\"x\", \"y\")]\n",
    "\n",
    "# on\n",
    "dt <- data.table(x = 1:10, y = 1:10)\n",
    "dt[x > 5][x == 7, max(x), on = \"x\"]\n",
    "\n",
    "\n",
    "# mult\n",
    "dt <- data.table(x = 1:10, y = 1:10)\n",
    "dt[mult = \"first\", x > 5]\n",
    "\n",
    "# nomatch\n",
    "dt <- data.table(x = 1:10, y = 1:10)\n",
    "dt[nomatch = 0, x > 5]\n",
    "\n"
   ]
  },
  {
   "cell_type": "code",
   "execution_count": null,
   "metadata": {
    "vscode": {
     "languageId": "r"
    }
   },
   "outputs": [],
   "source": [
    "'''\n",
    "5. Perform the following using data.table with flights datasets.\n",
    "rename variables\n",
    "subsetting rows\n",
    "selecting multiple values for an attribute\n",
    "applying logical operation NOT\n",
    "'''\n",
    "\n",
    "# rename variables\n",
    "flights <- data.table(flights)\n",
    "setnames(flights, old = c(\"year\", \"month\", \"day\", \"dep_time\", \"sched_dep_time\", \"dep_delay\", \"arr_time\", \"sched_arr_time\", \"arr_delay\", \"carrier\", \"flight\", \"tailnum\", \"origin\", \"dest\", \"air_time\", \"distance\", \"hour\", \"minute\", \"time_hour\"), new = c(\"year\", \"month\", \"day\", \"dep_time\", \"sched_dep_time\", \"dep_delay\", \"arr_time\", \"sched_arr_time\", \"arr_delay\", \"carrier\", \"flight\", \"tailnum\", \"origin\", \"dest\", \"air_time\", \"distance\", \"hour\", \"minute\", \"time_hour\"))\n",
    "\n",
    "# subsetting rows\n",
    "flights[year == 2013 & month == 1 & day == 1]\n",
    "\n",
    "# selecting multiple values for an attribute\n",
    "flights[origin %in% c(\"EWR\", \"JFK\", \"LGA\")]\n",
    "\n",
    "# applying logical operation NOT\n",
    "flights[!is.na(dep_delay)]\n",
    "\n"
   ]
  },
  {
   "cell_type": "code",
   "execution_count": 1,
   "metadata": {
    "vscode": {
     "languageId": "r"
    }
   },
   "outputs": [
    {
     "data": {
      "text/html": [
       "<style>\n",
       ".list-inline {list-style: none; margin:0; padding: 0}\n",
       ".list-inline>li {display: inline-block}\n",
       ".list-inline>li:not(:last-child)::after {content: \"\\00b7\"; padding: 0 .5ex}\n",
       "</style>\n",
       "<ol class=list-inline><li>1</li><li>7</li><li>13</li><li>19</li><li>25</li></ol>\n"
      ],
      "text/latex": [
       "\\begin{enumerate*}\n",
       "\\item 1\n",
       "\\item 7\n",
       "\\item 13\n",
       "\\item 19\n",
       "\\item 25\n",
       "\\end{enumerate*}\n"
      ],
      "text/markdown": [
       "1. 1\n",
       "2. 7\n",
       "3. 13\n",
       "4. 19\n",
       "5. 25\n",
       "\n",
       "\n"
      ],
      "text/plain": [
       "[1]  1  7 13 19 25"
      ]
     },
     "metadata": {},
     "output_type": "display_data"
    },
    {
     "data": {
      "text/html": [
       "<style>\n",
       ".list-inline {list-style: none; margin:0; padding: 0}\n",
       ".list-inline>li {display: inline-block}\n",
       ".list-inline>li:not(:last-child)::after {content: \"\\00b7\"; padding: 0 .5ex}\n",
       "</style>\n",
       "<ol class=list-inline><li>1</li><li>7</li><li>13</li><li>19</li><li>25</li></ol>\n"
      ],
      "text/latex": [
       "\\begin{enumerate*}\n",
       "\\item 1\n",
       "\\item 7\n",
       "\\item 13\n",
       "\\item 19\n",
       "\\item 25\n",
       "\\end{enumerate*}\n"
      ],
      "text/markdown": [
       "1. 1\n",
       "2. 7\n",
       "3. 13\n",
       "4. 19\n",
       "5. 25\n",
       "\n",
       "\n"
      ],
      "text/plain": [
       "[1]  1  7 13 19 25"
      ]
     },
     "metadata": {},
     "output_type": "display_data"
    },
    {
     "data": {
      "text/html": [
       "325"
      ],
      "text/latex": [
       "325"
      ],
      "text/markdown": [
       "325"
      ],
      "text/plain": [
       "[1] 325"
      ]
     },
     "metadata": {},
     "output_type": "display_data"
    },
    {
     "data": {
      "text/html": [
       "<style>\n",
       ".list-inline {list-style: none; margin:0; padding: 0}\n",
       ".list-inline>li {display: inline-block}\n",
       ".list-inline>li:not(:last-child)::after {content: \"\\00b7\"; padding: 0 .5ex}\n",
       "</style>\n",
       "<ol class=list-inline><li>3</li><li>8</li><li>13</li><li>18</li><li>23</li></ol>\n"
      ],
      "text/latex": [
       "\\begin{enumerate*}\n",
       "\\item 3\n",
       "\\item 8\n",
       "\\item 13\n",
       "\\item 18\n",
       "\\item 23\n",
       "\\end{enumerate*}\n"
      ],
      "text/markdown": [
       "1. 3\n",
       "2. 8\n",
       "3. 13\n",
       "4. 18\n",
       "5. 23\n",
       "\n",
       "\n"
      ],
      "text/plain": [
       "[1]  3  8 13 18 23"
      ]
     },
     "metadata": {},
     "output_type": "display_data"
    },
    {
     "data": {
      "text/html": [
       "<style>\n",
       ".list-inline {list-style: none; margin:0; padding: 0}\n",
       ".list-inline>li {display: inline-block}\n",
       ".list-inline>li:not(:last-child)::after {content: \"\\00b7\"; padding: 0 .5ex}\n",
       "</style>\n",
       "<ol class=list-inline><li>16</li><li>17</li><li>18</li><li>19</li><li>20</li></ol>\n"
      ],
      "text/latex": [
       "\\begin{enumerate*}\n",
       "\\item 16\n",
       "\\item 17\n",
       "\\item 18\n",
       "\\item 19\n",
       "\\item 20\n",
       "\\end{enumerate*}\n"
      ],
      "text/markdown": [
       "1. 16\n",
       "2. 17\n",
       "3. 18\n",
       "4. 19\n",
       "5. 20\n",
       "\n",
       "\n"
      ],
      "text/plain": [
       "[1] 16 17 18 19 20"
      ]
     },
     "metadata": {},
     "output_type": "display_data"
    },
    {
     "data": {
      "text/html": [
       "1"
      ],
      "text/latex": [
       "1"
      ],
      "text/markdown": [
       "1"
      ],
      "text/plain": [
       "[1] 1"
      ]
     },
     "metadata": {},
     "output_type": "display_data"
    },
    {
     "data": {
      "text/html": [
       "10"
      ],
      "text/latex": [
       "10"
      ],
      "text/markdown": [
       "10"
      ],
      "text/plain": [
       "[1] 10"
      ]
     },
     "metadata": {},
     "output_type": "display_data"
    },
    {
     "data": {
      "text/html": [
       "12"
      ],
      "text/latex": [
       "12"
      ],
      "text/markdown": [
       "12"
      ],
      "text/plain": [
       "[1] 12"
      ]
     },
     "metadata": {},
     "output_type": "display_data"
    },
    {
     "data": {
      "text/html": [
       "70"
      ],
      "text/latex": [
       "70"
      ],
      "text/markdown": [
       "70"
      ],
      "text/plain": [
       "[1] 70"
      ]
     },
     "metadata": {},
     "output_type": "display_data"
    },
    {
     "data": {
      "text/html": [
       "40"
      ],
      "text/latex": [
       "40"
      ],
      "text/markdown": [
       "40"
      ],
      "text/plain": [
       "[1] 40"
      ]
     },
     "metadata": {},
     "output_type": "display_data"
    },
    {
     "data": {
      "text/html": [
       "<style>\n",
       ".list-inline {list-style: none; margin:0; padding: 0}\n",
       ".list-inline>li {display: inline-block}\n",
       ".list-inline>li:not(:last-child)::after {content: \"\\00b7\"; padding: 0 .5ex}\n",
       "</style>\n",
       "<ol class=list-inline><li>25</li><li>24</li><li>23</li><li>22</li><li>21</li><li>20</li><li>19</li><li>18</li><li>17</li><li>16</li><li>15</li><li>14</li><li>13</li><li>12</li><li>11</li><li>10</li><li>9</li><li>8</li><li>7</li><li>6</li><li>5</li><li>4</li><li>3</li><li>2</li><li>1</li></ol>\n"
      ],
      "text/latex": [
       "\\begin{enumerate*}\n",
       "\\item 25\n",
       "\\item 24\n",
       "\\item 23\n",
       "\\item 22\n",
       "\\item 21\n",
       "\\item 20\n",
       "\\item 19\n",
       "\\item 18\n",
       "\\item 17\n",
       "\\item 16\n",
       "\\item 15\n",
       "\\item 14\n",
       "\\item 13\n",
       "\\item 12\n",
       "\\item 11\n",
       "\\item 10\n",
       "\\item 9\n",
       "\\item 8\n",
       "\\item 7\n",
       "\\item 6\n",
       "\\item 5\n",
       "\\item 4\n",
       "\\item 3\n",
       "\\item 2\n",
       "\\item 1\n",
       "\\end{enumerate*}\n"
      ],
      "text/markdown": [
       "1. 25\n",
       "2. 24\n",
       "3. 23\n",
       "4. 22\n",
       "5. 21\n",
       "6. 20\n",
       "7. 19\n",
       "8. 18\n",
       "9. 17\n",
       "10. 16\n",
       "11. 15\n",
       "12. 14\n",
       "13. 13\n",
       "14. 12\n",
       "15. 11\n",
       "16. 10\n",
       "17. 9\n",
       "18. 8\n",
       "19. 7\n",
       "20. 6\n",
       "21. 5\n",
       "22. 4\n",
       "23. 3\n",
       "24. 2\n",
       "25. 1\n",
       "\n",
       "\n"
      ],
      "text/plain": [
       " [1] 25 24 23 22 21 20 19 18 17 16 15 14 13 12 11 10  9  8  7  6  5  4  3  2  1"
      ]
     },
     "metadata": {},
     "output_type": "display_data"
    },
    {
     "data": {
      "text/html": [
       "<style>\n",
       ".list-inline {list-style: none; margin:0; padding: 0}\n",
       ".list-inline>li {display: inline-block}\n",
       ".list-inline>li:not(:last-child)::after {content: \"\\00b7\"; padding: 0 .5ex}\n",
       "</style>\n",
       "<ol class=list-inline><li>25</li><li>24</li><li>23</li><li>22</li><li>21</li><li>20</li><li>19</li><li>18</li><li>17</li><li>16</li><li>15</li><li>14</li><li>13</li><li>12</li><li>11</li><li>10</li><li>9</li><li>8</li><li>7</li><li>6</li><li>5</li><li>4</li><li>3</li><li>2</li><li>1</li></ol>\n"
      ],
      "text/latex": [
       "\\begin{enumerate*}\n",
       "\\item 25\n",
       "\\item 24\n",
       "\\item 23\n",
       "\\item 22\n",
       "\\item 21\n",
       "\\item 20\n",
       "\\item 19\n",
       "\\item 18\n",
       "\\item 17\n",
       "\\item 16\n",
       "\\item 15\n",
       "\\item 14\n",
       "\\item 13\n",
       "\\item 12\n",
       "\\item 11\n",
       "\\item 10\n",
       "\\item 9\n",
       "\\item 8\n",
       "\\item 7\n",
       "\\item 6\n",
       "\\item 5\n",
       "\\item 4\n",
       "\\item 3\n",
       "\\item 2\n",
       "\\item 1\n",
       "\\end{enumerate*}\n"
      ],
      "text/markdown": [
       "1. 25\n",
       "2. 24\n",
       "3. 23\n",
       "4. 22\n",
       "5. 21\n",
       "6. 20\n",
       "7. 19\n",
       "8. 18\n",
       "9. 17\n",
       "10. 16\n",
       "11. 15\n",
       "12. 14\n",
       "13. 13\n",
       "14. 12\n",
       "15. 11\n",
       "16. 10\n",
       "17. 9\n",
       "18. 8\n",
       "19. 7\n",
       "20. 6\n",
       "21. 5\n",
       "22. 4\n",
       "23. 3\n",
       "24. 2\n",
       "25. 1\n",
       "\n",
       "\n"
      ],
      "text/plain": [
       " [1] 25 24 23 22 21 20 19 18 17 16 15 14 13 12 11 10  9  8  7  6  5  4  3  2  1"
      ]
     },
     "metadata": {},
     "output_type": "display_data"
    }
   ],
   "source": [
    "# Create two matrices of dimension 5x5\n",
    "\n",
    "# create a matrix\n",
    "mat1 <- matrix(1:25, nrow = 5, ncol = 5)\n",
    "mat2 <- matrix(1:25, nrow = 5, ncol = 5)\n",
    "\n",
    "# find the diagonal elements of matrix 1 and 2\n",
    "diag(mat1)\n",
    "diag(mat2)\n",
    "\n",
    "# find the sum of all the values in matrix 2\n",
    "sum(mat2)\n",
    "\n",
    "# display third row in matrix 1 and fourth column in matrix 2\n",
    "mat1[3, ]\n",
    "mat2[, 4]\n",
    "\n",
    "# find the smallest element in matrix two\n",
    "min(mat2)\n",
    "\n",
    "# display the 10th element in matrix 1 and 12th element in matrix 2\n",
    "mat1[10]\n",
    "mat2[12]\n",
    "\n",
    "# find the sum of all the values of fourth row in matrix one and second column in matrix two\n",
    "sum(mat1[4, ])\n",
    "sum(mat2[, 2])\n",
    "\n",
    "# display the reverse of all the elements\n",
    "rev(mat1)\n",
    "rev(mat2)\n",
    "\n",
    "\n",
    "\n"
   ]
  }
 ],
 "metadata": {
  "kernelspec": {
   "display_name": "R",
   "language": "R",
   "name": "ir"
  },
  "language_info": {
   "codemirror_mode": "r",
   "file_extension": ".r",
   "mimetype": "text/x-r-source",
   "name": "R",
   "pygments_lexer": "r",
   "version": "4.2.1"
  },
  "orig_nbformat": 4
 },
 "nbformat": 4,
 "nbformat_minor": 2
}
