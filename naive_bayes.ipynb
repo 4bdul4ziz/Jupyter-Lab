{
 "cells": [
  {
   "cell_type": "code",
   "execution_count": 49,
   "metadata": {},
   "outputs": [],
   "source": [
    "from sklearn.model_selection import train_test_split\n",
    "from sklearn.naive_bayes import CategoricalNB\n",
    "from sklearn.metrics import accuracy_score\n",
    "from sklearn.metrics import confusion_matrix"
   ]
  },
  {
   "cell_type": "code",
   "execution_count": 50,
   "metadata": {},
   "outputs": [
    {
     "name": "stdout",
     "output_type": "stream",
     "text": [
      "<class 'pandas.core.frame.DataFrame'>\n",
      "RangeIndex: 14 entries, 0 to 13\n",
      "Data columns (total 6 columns):\n",
      " #   Column            Non-Null Count  Dtype \n",
      "---  ------            --------------  ----- \n",
      " 0   Day               14 non-null     object\n",
      " 1   Outlook           14 non-null     object\n",
      " 2   Temperature       14 non-null     object\n",
      " 3   Humidity          14 non-null     object\n",
      " 4   Wind              14 non-null     bool  \n",
      " 5   Class: Play ball  14 non-null     object\n",
      "dtypes: bool(1), object(5)\n",
      "memory usage: 702.0+ bytes\n"
     ]
    }
   ],
   "source": [
    "#import dataset\n",
    "import math\n",
    "import pandas as pd\n",
    "import numpy as np\n",
    "import matplotlib.pyplot as plt\n",
    "import math\n",
    "\n",
    "df = pd.read_csv('datasets/naivebayes.csv')\n",
    "df.head()\n",
    "df.describe()\n",
    "df.info()\n"
   ]
  },
  {
   "cell_type": "code",
   "execution_count": 51,
   "metadata": {},
   "outputs": [],
   "source": [
    "#do naive bayes classification\n",
    "labels = df['Class: Play ball'].unique()\n",
    "\n",
    "def entropy(data):\n",
    "    entropy_val=0\n",
    "    try:\n",
    "        for i in labels:\n",
    "            p_label = len(data[data['Class: Play ball'] == i])/len(data)\n",
    "            entropy_val=entropy_val - p_label*math.log2(p_label)\n",
    "        return entropy_val\n",
    "    except:\n",
    "        #retuning 0 because math error occured because log of 0 was to be found, but that means it is also multiplied by 0 so result is 0\n",
    "        return 0\n",
    "\n",
    "\n"
   ]
  },
  {
   "cell_type": "code",
   "execution_count": 52,
   "metadata": {},
   "outputs": [
    {
     "name": "stdout",
     "output_type": "stream",
     "text": [
      "information gain on outlook column= 0.7084922088251645\n"
     ]
    }
   ],
   "source": [
    "entropy_parent=entropy(df)\n",
    "groups=df.groupby('Outlook')\n",
    "categories=df['Outlook'].unique()\n",
    "\n",
    "\n",
    "info_gain=0\n",
    "for i in categories:\n",
    "    data=groups.get_group(i)\n",
    "    entropy_child=entropy(data)\n",
    "    probability_child=len(data)/len(df)\n",
    "    info_gain=info_gain-probability_child*entropy_child\n",
    "print('information gain on outlook column=',entropy_parent+info_gain)"
   ]
  },
  {
   "cell_type": "code",
   "execution_count": 53,
   "metadata": {},
   "outputs": [
    {
     "name": "stdout",
     "output_type": "stream",
     "text": [
      "information gain on temp column= 0.6617049208213365\n"
     ]
    }
   ],
   "source": [
    "groups=df.groupby('Temperature')\n",
    "categories=df['Temperature'].unique()\n",
    "\n",
    "info_gain=0\n",
    "for i in categories:\n",
    "    data=groups.get_group(i)\n",
    "    entropy_child=entropy(data)\n",
    "    probability_child=len(data)/len(df)\n",
    "    info_gain=info_gain-probability_child*entropy_child\n",
    "print('information gain on temp column=',entropy_parent+info_gain)"
   ]
  },
  {
   "cell_type": "code",
   "execution_count": 54,
   "metadata": {},
   "outputs": [
    {
     "name": "stdout",
     "output_type": "stream",
     "text": [
      "information gain on humidity column= 0.473709603267811\n"
     ]
    }
   ],
   "source": [
    "groups=df.groupby('Humidity')\n",
    "categories=df['Humidity'].unique()\n",
    "\n",
    "info_gain=0\n",
    "for i in categories:\n",
    "    data=groups.get_group(i)\n",
    "    entropy_child=entropy(data)\n",
    "    probability_child=len(data)/len(df)\n",
    "    info_gain=info_gain-probability_child*entropy_child\n",
    "print('information gain on humidity column=',entropy_parent+info_gain)"
   ]
  },
  {
   "cell_type": "code",
   "execution_count": 55,
   "metadata": {},
   "outputs": [
    {
     "name": "stdout",
     "output_type": "stream",
     "text": [
      "information gain on wind column= 0.5727683138330127\n"
     ]
    }
   ],
   "source": [
    "groups=df.groupby('Wind')\n",
    "categories=df['Wind'].unique()\n",
    "info_gain=0\n",
    "for i in categories:\n",
    "    data=groups.get_group(i)\n",
    "    entropy_child=entropy(data)\n",
    "    probability_child=len(data)/len(df)\n",
    "    info_gain=info_gain-probability_child*entropy_child\n",
    "print('information gain on wind column=',entropy_parent+info_gain)"
   ]
  },
  {
   "cell_type": "code",
   "execution_count": 61,
   "metadata": {},
   "outputs": [
    {
     "name": "stdout",
     "output_type": "stream",
     "text": [
      "accuracy= 0.6666666666666666\n",
      "confusion matrix= [[0 1]\n",
      " [0 2]]\n",
      "prediction for new day= [2] \n",
      "2 means no, 1 means yes\n"
     ]
    },
    {
     "name": "stderr",
     "output_type": "stream",
     "text": [
      "/Library/Frameworks/Python.framework/Versions/3.10/lib/python3.10/site-packages/sklearn/base.py:450: UserWarning: X does not have valid feature names, but CategoricalNB was fitted with feature names\n",
      "  warnings.warn(\n"
     ]
    }
   ],
   "source": [
    "#naive bayes classification\n",
    "from array import array\n",
    "\n",
    "\n",
    "df['Outlook']=df['Outlook'].astype('category')\n",
    "df['Temperature']=df['Temperature'].astype('category')\n",
    "df['Humidity']=df['Humidity'].astype('category')\n",
    "df['Wind']=df['Wind'].astype('category')\n",
    "df['Class: Play ball']=df['Class: Play ball'].astype('category')\n",
    "\n",
    "df['Outlook']=df['Outlook'].cat.codes\n",
    "df['Temperature']=df['Temperature'].cat.codes\n",
    "df['Humidity']=df['Humidity'].cat.codes\n",
    "df['Wind']=df['Wind'].cat.codes\n",
    "df['Class: Play ball']=df['Class: Play ball'].cat.codes\n",
    "\n",
    "X=df[['Outlook','Temperature','Humidity','Wind']]\n",
    "y=df['Class: Play ball']\n",
    "\n",
    "X_train, X_test, y_train, y_test = train_test_split(X, y, test_size=0.2, random_state=42)\n",
    "\n",
    "clf = CategoricalNB()\n",
    "clf.fit(X_train, y_train)\n",
    "y_pred = clf.predict(X_test)\n",
    "print('accuracy=',accuracy_score(y_test, y_pred))\n",
    "print('confusion matrix=',confusion_matrix(y_test, y_pred))\n",
    "\n",
    "#new day - sunny, cool, high, true\n",
    "new_day=np.array([2,1,0,0]) \n",
    "array_new_day=new_day.reshape(1,-1)\n",
    "\n",
    "print('prediction for new day=',clf.predict(array_new_day), '\\n2 means no, 1 means yes')\n",
    "\n"
   ]
  }
 ],
 "metadata": {
  "kernelspec": {
   "display_name": "Python 3.10.2 64-bit",
   "language": "python",
   "name": "python3"
  },
  "language_info": {
   "codemirror_mode": {
    "name": "ipython",
    "version": 3
   },
   "file_extension": ".py",
   "mimetype": "text/x-python",
   "name": "python",
   "nbconvert_exporter": "python",
   "pygments_lexer": "ipython3",
   "version": "3.10.2"
  },
  "vscode": {
   "interpreter": {
    "hash": "949777d72b0d2535278d3dc13498b2535136f6dfe0678499012e853ee9abcab1"
   }
  }
 },
 "nbformat": 4,
 "nbformat_minor": 4
}
