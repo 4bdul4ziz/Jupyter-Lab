{
 "cells": [
  {
   "cell_type": "code",
   "execution_count": 2,
   "metadata": {},
   "outputs": [],
   "source": [
    "def bfs(graph, start):\n",
    "    queue = [start]\n",
    "    queued = list()\n",
    "    path = list()\n",
    "    count = 0\n",
    "    while queue:\n",
    "        print ('Queue is: %s' % queue)\n",
    "        vertex = queue.pop(0)\n",
    "        print ('Processing %s' % vertex)\n",
    "        for candidate in graph[vertex]:\n",
    "            if candidate not in queued: \n",
    "                queued.append(candidate) \n",
    "                queue.append(candidate) \n",
    "                path.append(vertex+'>'+candidate) \n",
    "                print ('Adding %s to the queue' % candidate)\n",
    "        count += 1\n",
    "    print(\"Total iterations over the graph: \", count)\n",
    "    return path\n"
   ]
  },
  {
   "cell_type": "code",
   "execution_count": 3,
   "metadata": {},
   "outputs": [],
   "source": [
    "def dfs(graph, start):\n",
    "    stack = [start]\n",
    "    parents = {start: start}\n",
    "    path = list()\n",
    "    count = 0\n",
    "    while stack:\n",
    "        print ('Stack is: %s' % stack)\n",
    "        vertex = stack.pop(-1)\n",
    "        print ('Processing %s' % vertex)\n",
    "        for candidate in graph[vertex]:\n",
    "            if candidate not in parents:\n",
    "                parents[candidate] = vertex\n",
    "                stack.append(candidate)\n",
    "                print ('Adding %s to the stack' % candidate)\n",
    "        count += 1\n",
    "        path.append(parents[vertex]+'>'+vertex)\n",
    "        print(\"Total iterations over the graph: \", count)\n",
    "    return path[1:]"
   ]
  },
  {
   "cell_type": "code",
   "execution_count": 7,
   "metadata": {},
   "outputs": [],
   "source": [
    "graph = {\n",
    "    'Riyadh': ['Mecca', 'Jeddah'],\n",
    "    'Mecca': ['Riyadh', 'Jeddah', 'Abaha'],\n",
    "    'Jeddah': ['Riyadh', 'Mecca', 'Abaha', 'Qassim'],\n",
    "    'Abaha': ['Mecca', 'Jeddah', 'Qassim', 'Jubail'],\n",
    "    'Qassim': ['Jeddah', 'Abaha', 'Jubail'],\n",
    "    'Jubail': ['Abaha', 'Qassim']\n",
    "}\n",
    "# name of the cities\n",
    "# A - Riyadh, B - Mecca, C - Jeddah, D - Abaha, E - Qassim, F - Jubail\n"
   ]
  },
  {
   "cell_type": "code",
   "execution_count": 5,
   "metadata": {},
   "outputs": [
    {
     "ename": "NetworkXError",
     "evalue": "Node 'R' has no position.",
     "output_type": "error",
     "traceback": [
      "\u001b[0;31m---------------------------------------------------------------------------\u001b[0m",
      "\u001b[0;31mKeyError\u001b[0m                                  Traceback (most recent call last)",
      "File \u001b[0;32m/Library/Frameworks/Python.framework/Versions/3.10/lib/python3.10/site-packages/networkx/drawing/nx_pylab.py:454\u001b[0m, in \u001b[0;36mdraw_networkx_nodes\u001b[0;34m(G, pos, nodelist, node_size, node_color, node_shape, alpha, cmap, vmin, vmax, ax, linewidths, edgecolors, label, margins)\u001b[0m\n\u001b[1;32m    <a href='file:///Library/Frameworks/Python.framework/Versions/3.10/lib/python3.10/site-packages/networkx/drawing/nx_pylab.py?line=452'>453</a>\u001b[0m \u001b[39mtry\u001b[39;00m:\n\u001b[0;32m--> <a href='file:///Library/Frameworks/Python.framework/Versions/3.10/lib/python3.10/site-packages/networkx/drawing/nx_pylab.py?line=453'>454</a>\u001b[0m     xy \u001b[39m=\u001b[39m np\u001b[39m.\u001b[39masarray([pos[v] \u001b[39mfor\u001b[39;00m v \u001b[39min\u001b[39;00m nodelist])\n\u001b[1;32m    <a href='file:///Library/Frameworks/Python.framework/Versions/3.10/lib/python3.10/site-packages/networkx/drawing/nx_pylab.py?line=454'>455</a>\u001b[0m \u001b[39mexcept\u001b[39;00m \u001b[39mKeyError\u001b[39;00m \u001b[39mas\u001b[39;00m e:\n",
      "File \u001b[0;32m/Library/Frameworks/Python.framework/Versions/3.10/lib/python3.10/site-packages/networkx/drawing/nx_pylab.py:454\u001b[0m, in \u001b[0;36m<listcomp>\u001b[0;34m(.0)\u001b[0m\n\u001b[1;32m    <a href='file:///Library/Frameworks/Python.framework/Versions/3.10/lib/python3.10/site-packages/networkx/drawing/nx_pylab.py?line=452'>453</a>\u001b[0m \u001b[39mtry\u001b[39;00m:\n\u001b[0;32m--> <a href='file:///Library/Frameworks/Python.framework/Versions/3.10/lib/python3.10/site-packages/networkx/drawing/nx_pylab.py?line=453'>454</a>\u001b[0m     xy \u001b[39m=\u001b[39m np\u001b[39m.\u001b[39masarray([pos[v] \u001b[39mfor\u001b[39;00m v \u001b[39min\u001b[39;00m nodelist])\n\u001b[1;32m    <a href='file:///Library/Frameworks/Python.framework/Versions/3.10/lib/python3.10/site-packages/networkx/drawing/nx_pylab.py?line=454'>455</a>\u001b[0m \u001b[39mexcept\u001b[39;00m \u001b[39mKeyError\u001b[39;00m \u001b[39mas\u001b[39;00m e:\n",
      "\u001b[0;31mKeyError\u001b[0m: 'R'",
      "\nThe above exception was the direct cause of the following exception:\n",
      "\u001b[0;31mNetworkXError\u001b[0m                             Traceback (most recent call last)",
      "\u001b[1;32m/Users/abdul/Desktop/Programming/Jupyter Lab/BFS-DFS-AI.ipynb Cell 4'\u001b[0m in \u001b[0;36m<module>\u001b[0;34m\u001b[0m\n\u001b[1;32m      <a href='vscode-notebook-cell:/Users/abdul/Desktop/Programming/Jupyter%20Lab/BFS-DFS-AI.ipynb#ch0000003?line=8'>9</a>\u001b[0m         Graph\u001b[39m.\u001b[39madd_edge(node,edge)\n\u001b[1;32m     <a href='vscode-notebook-cell:/Users/abdul/Desktop/Programming/Jupyter%20Lab/BFS-DFS-AI.ipynb#ch0000003?line=9'>10</a>\u001b[0m pos \u001b[39m=\u001b[39m { \u001b[39m'\u001b[39m\u001b[39mA\u001b[39m\u001b[39m'\u001b[39m: [\u001b[39m500.00\u001b[39m, \u001b[39m320.50\u001b[39m], \u001b[39m'\u001b[39m\u001b[39mB\u001b[39m\u001b[39m'\u001b[39m: [\u001b[39m120.25\u001b[39m, \u001b[39m640.75\u001b[39m],\n\u001b[1;32m     <a href='vscode-notebook-cell:/Users/abdul/Desktop/Programming/Jupyter%20Lab/BFS-DFS-AI.ipynb#ch0000003?line=10'>11</a>\u001b[0m         \u001b[39m'\u001b[39m\u001b[39mC\u001b[39m\u001b[39m'\u001b[39m: [\u001b[39m220.25\u001b[39m, \u001b[39m120.25\u001b[39m], \u001b[39m'\u001b[39m\u001b[39mD\u001b[39m\u001b[39m'\u001b[39m: [\u001b[39m150.75\u001b[39m, \u001b[39m230.75\u001b[39m],\n\u001b[1;32m     <a href='vscode-notebook-cell:/Users/abdul/Desktop/Programming/Jupyter%20Lab/BFS-DFS-AI.ipynb#ch0000003?line=11'>12</a>\u001b[0m         \u001b[39m'\u001b[39m\u001b[39mE\u001b[39m\u001b[39m'\u001b[39m: [\u001b[39m400.75\u001b[39m, \u001b[39m560.25\u001b[39m], \u001b[39m'\u001b[39m\u001b[39mF\u001b[39m\u001b[39m'\u001b[39m: [\u001b[39m231.00\u001b[39m, \u001b[39m650.50\u001b[39m]}    \u001b[39m#distance between the cities\u001b[39;00m\n\u001b[0;32m---> <a href='vscode-notebook-cell:/Users/abdul/Desktop/Programming/Jupyter%20Lab/BFS-DFS-AI.ipynb#ch0000003?line=12'>13</a>\u001b[0m nx\u001b[39m.\u001b[39;49mdraw(Graph, pos, with_labels\u001b[39m=\u001b[39;49m\u001b[39mTrue\u001b[39;49;00m)\n\u001b[1;32m     <a href='vscode-notebook-cell:/Users/abdul/Desktop/Programming/Jupyter%20Lab/BFS-DFS-AI.ipynb#ch0000003?line=13'>14</a>\u001b[0m nx\u001b[39m.\u001b[39mdraw_networkx(Graph, pos)\n\u001b[1;32m     <a href='vscode-notebook-cell:/Users/abdul/Desktop/Programming/Jupyter%20Lab/BFS-DFS-AI.ipynb#ch0000003?line=14'>15</a>\u001b[0m plt\u001b[39m.\u001b[39mshow()\n",
      "File \u001b[0;32m/Library/Frameworks/Python.framework/Versions/3.10/lib/python3.10/site-packages/networkx/drawing/nx_pylab.py:121\u001b[0m, in \u001b[0;36mdraw\u001b[0;34m(G, pos, ax, **kwds)\u001b[0m\n\u001b[1;32m    <a href='file:///Library/Frameworks/Python.framework/Versions/3.10/lib/python3.10/site-packages/networkx/drawing/nx_pylab.py?line=117'>118</a>\u001b[0m \u001b[39mif\u001b[39;00m \u001b[39m\"\u001b[39m\u001b[39mwith_labels\u001b[39m\u001b[39m\"\u001b[39m \u001b[39mnot\u001b[39;00m \u001b[39min\u001b[39;00m kwds:\n\u001b[1;32m    <a href='file:///Library/Frameworks/Python.framework/Versions/3.10/lib/python3.10/site-packages/networkx/drawing/nx_pylab.py?line=118'>119</a>\u001b[0m     kwds[\u001b[39m\"\u001b[39m\u001b[39mwith_labels\u001b[39m\u001b[39m\"\u001b[39m] \u001b[39m=\u001b[39m \u001b[39m\"\u001b[39m\u001b[39mlabels\u001b[39m\u001b[39m\"\u001b[39m \u001b[39min\u001b[39;00m kwds\n\u001b[0;32m--> <a href='file:///Library/Frameworks/Python.framework/Versions/3.10/lib/python3.10/site-packages/networkx/drawing/nx_pylab.py?line=120'>121</a>\u001b[0m draw_networkx(G, pos\u001b[39m=\u001b[39;49mpos, ax\u001b[39m=\u001b[39;49max, \u001b[39m*\u001b[39;49m\u001b[39m*\u001b[39;49mkwds)\n\u001b[1;32m    <a href='file:///Library/Frameworks/Python.framework/Versions/3.10/lib/python3.10/site-packages/networkx/drawing/nx_pylab.py?line=121'>122</a>\u001b[0m ax\u001b[39m.\u001b[39mset_axis_off()\n\u001b[1;32m    <a href='file:///Library/Frameworks/Python.framework/Versions/3.10/lib/python3.10/site-packages/networkx/drawing/nx_pylab.py?line=122'>123</a>\u001b[0m plt\u001b[39m.\u001b[39mdraw_if_interactive()\n",
      "File \u001b[0;32m/Library/Frameworks/Python.framework/Versions/3.10/lib/python3.10/site-packages/networkx/drawing/nx_pylab.py:333\u001b[0m, in \u001b[0;36mdraw_networkx\u001b[0;34m(G, pos, arrows, with_labels, **kwds)\u001b[0m\n\u001b[1;32m    <a href='file:///Library/Frameworks/Python.framework/Versions/3.10/lib/python3.10/site-packages/networkx/drawing/nx_pylab.py?line=329'>330</a>\u001b[0m \u001b[39mif\u001b[39;00m pos \u001b[39mis\u001b[39;00m \u001b[39mNone\u001b[39;00m:\n\u001b[1;32m    <a href='file:///Library/Frameworks/Python.framework/Versions/3.10/lib/python3.10/site-packages/networkx/drawing/nx_pylab.py?line=330'>331</a>\u001b[0m     pos \u001b[39m=\u001b[39m nx\u001b[39m.\u001b[39mdrawing\u001b[39m.\u001b[39mspring_layout(G)  \u001b[39m# default to spring layout\u001b[39;00m\n\u001b[0;32m--> <a href='file:///Library/Frameworks/Python.framework/Versions/3.10/lib/python3.10/site-packages/networkx/drawing/nx_pylab.py?line=332'>333</a>\u001b[0m draw_networkx_nodes(G, pos, \u001b[39m*\u001b[39;49m\u001b[39m*\u001b[39;49mnode_kwds)\n\u001b[1;32m    <a href='file:///Library/Frameworks/Python.framework/Versions/3.10/lib/python3.10/site-packages/networkx/drawing/nx_pylab.py?line=333'>334</a>\u001b[0m draw_networkx_edges(G, pos, arrows\u001b[39m=\u001b[39marrows, \u001b[39m*\u001b[39m\u001b[39m*\u001b[39medge_kwds)\n\u001b[1;32m    <a href='file:///Library/Frameworks/Python.framework/Versions/3.10/lib/python3.10/site-packages/networkx/drawing/nx_pylab.py?line=334'>335</a>\u001b[0m \u001b[39mif\u001b[39;00m with_labels:\n",
      "File \u001b[0;32m/Library/Frameworks/Python.framework/Versions/3.10/lib/python3.10/site-packages/networkx/drawing/nx_pylab.py:456\u001b[0m, in \u001b[0;36mdraw_networkx_nodes\u001b[0;34m(G, pos, nodelist, node_size, node_color, node_shape, alpha, cmap, vmin, vmax, ax, linewidths, edgecolors, label, margins)\u001b[0m\n\u001b[1;32m    <a href='file:///Library/Frameworks/Python.framework/Versions/3.10/lib/python3.10/site-packages/networkx/drawing/nx_pylab.py?line=453'>454</a>\u001b[0m     xy \u001b[39m=\u001b[39m np\u001b[39m.\u001b[39masarray([pos[v] \u001b[39mfor\u001b[39;00m v \u001b[39min\u001b[39;00m nodelist])\n\u001b[1;32m    <a href='file:///Library/Frameworks/Python.framework/Versions/3.10/lib/python3.10/site-packages/networkx/drawing/nx_pylab.py?line=454'>455</a>\u001b[0m \u001b[39mexcept\u001b[39;00m \u001b[39mKeyError\u001b[39;00m \u001b[39mas\u001b[39;00m e:\n\u001b[0;32m--> <a href='file:///Library/Frameworks/Python.framework/Versions/3.10/lib/python3.10/site-packages/networkx/drawing/nx_pylab.py?line=455'>456</a>\u001b[0m     \u001b[39mraise\u001b[39;00m nx\u001b[39m.\u001b[39mNetworkXError(\u001b[39mf\u001b[39m\u001b[39m\"\u001b[39m\u001b[39mNode \u001b[39m\u001b[39m{\u001b[39;00me\u001b[39m}\u001b[39;00m\u001b[39m has no position.\u001b[39m\u001b[39m\"\u001b[39m) \u001b[39mfrom\u001b[39;00m \u001b[39me\u001b[39;00m\n\u001b[1;32m    <a href='file:///Library/Frameworks/Python.framework/Versions/3.10/lib/python3.10/site-packages/networkx/drawing/nx_pylab.py?line=457'>458</a>\u001b[0m \u001b[39mif\u001b[39;00m \u001b[39misinstance\u001b[39m(alpha, Iterable):\n\u001b[1;32m    <a href='file:///Library/Frameworks/Python.framework/Versions/3.10/lib/python3.10/site-packages/networkx/drawing/nx_pylab.py?line=458'>459</a>\u001b[0m     node_color \u001b[39m=\u001b[39m apply_alpha(node_color, alpha, nodelist, cmap, vmin, vmax)\n",
      "\u001b[0;31mNetworkXError\u001b[0m: Node 'R' has no position."
     ]
    },
    {
     "data": {
      "image/png": "[encoded data removed]",
      "text/plain": [
       "<Figure size 432x288 with 1 Axes>"
      ]
     },
     "metadata": {},
     "output_type": "display_data"
    }
   ],
   "source": [
    "import numpy as np\n",
    "import networkx as nx\n",
    "import matplotlib.pyplot as plt\n",
    "%matplotlib inline\n",
    "Graph = nx.Graph()\n",
    "for node in graph:\n",
    "    Graph.add_nodes_from(node)\n",
    "    for edge in graph[node]:\n",
    "        Graph.add_edge(node,edge)\n",
    "pos = { 'A': [500.00, 320.50], 'B': [120.25, 640.75],\n",
    "        'C': [220.25, 120.25], 'D': [150.75, 230.75],\n",
    "        'E': [400.75, 560.25], 'F': [231.00, 650.50]}    #distance between the cities\n",
    "nx.draw(Graph, pos, with_labels=True)\n",
    "nx.draw_networkx(Graph, pos)\n",
    "plt.show()"
   ]
  },
  {
   "cell_type": "code",
   "execution_count": null,
   "metadata": {},
   "outputs": [
    {
     "name": "stdout",
     "output_type": "stream",
     "text": [
      "Queue is: ['Riyadh']\n",
      "Processing Riyadh\n",
      "Adding Mecca to the queue\n",
      "Adding Jeddah to the queue\n",
      "Queue is: ['Mecca', 'Jeddah']\n",
      "Processing Mecca\n",
      "Adding Riyadh to the queue\n",
      "Adding Abaha to the queue\n",
      "Queue is: ['Jeddah', 'Riyadh', 'Abaha']\n",
      "Processing Jeddah\n",
      "Adding Qassim to the queue\n",
      "Queue is: ['Riyadh', 'Abaha', 'Qassim']\n",
      "Processing Riyadh\n",
      "Queue is: ['Abaha', 'Qassim']\n",
      "Processing Abaha\n",
      "Adding Jubail to the queue\n",
      "Queue is: ['Qassim', 'Jubail']\n",
      "Processing Qassim\n",
      "Queue is: ['Jubail']\n",
      "Processing Jubail\n",
      "Total iterations over the graph:  7\n",
      "\n",
      "BFS: ['Riyadh>Mecca', 'Riyadh>Jeddah', 'Mecca>Riyadh', 'Mecca>Abaha', 'Jeddah>Qassim', 'Abaha>Jubail']\n",
      "Number of steps taken to complete the journey-  6\n",
      "{'Riyadh': ['Mecca', 'Jeddah'], 'Mecca': ['Riyadh', 'Jeddah', 'Abaha'], 'Jeddah': ['Riyadh', 'Mecca', 'Abaha', 'Qassim'], 'Abaha': ['Mecca', 'Jeddah', 'Qassim', 'Jubail'], 'Qassim': ['Jeddah', 'Abaha', 'Jubail'], 'Jubail': ['Abaha', 'Qassim']}\n"
     ]
    }
   ],
   "source": [
    "steps = bfs(graph, 'Riyadh')\n",
    "print('\\nBFS:', steps)\n",
    "print(\"Number of steps taken to complete the journey- \", len(steps))\n",
    "print(graph)"
   ]
  },
  {
   "cell_type": "code",
   "execution_count": null,
   "metadata": {},
   "outputs": [
    {
     "name": "stdout",
     "output_type": "stream",
     "text": [
      "Stack is: ['Riyadh']\n",
      "Processing Riyadh\n",
      "Adding Mecca to the stack\n",
      "Adding Jeddah to the stack\n",
      "Total iterations over the graph:  1\n",
      "Stack is: ['Mecca', 'Jeddah']\n",
      "Processing Jeddah\n",
      "Adding Abaha to the stack\n",
      "Adding Qassim to the stack\n",
      "Total iterations over the graph:  2\n",
      "Stack is: ['Mecca', 'Abaha', 'Qassim']\n",
      "Processing Qassim\n",
      "Adding Jubail to the stack\n",
      "Total iterations over the graph:  3\n",
      "Stack is: ['Mecca', 'Abaha', 'Jubail']\n",
      "Processing Jubail\n",
      "Total iterations over the graph:  4\n",
      "Stack is: ['Mecca', 'Abaha']\n",
      "Processing Abaha\n",
      "Total iterations over the graph:  5\n",
      "Stack is: ['Mecca']\n",
      "Processing Mecca\n",
      "Total iterations over the graph:  6\n",
      "\n",
      "The direction path of DFS: ['Riyadh>Jeddah', 'Jeddah>Qassim', 'Qassim>Jubail', 'Jeddah>Abaha', 'Riyadh>Mecca']\n",
      "Number of steps taken to complete the journey-  5\n",
      "{'Riyadh': ['Mecca', 'Jeddah'], 'Mecca': ['Riyadh', 'Jeddah', 'Abaha'], 'Jeddah': ['Riyadh', 'Mecca', 'Abaha', 'Qassim'], 'Abaha': ['Mecca', 'Jeddah', 'Qassim', 'Jubail'], 'Qassim': ['Jeddah', 'Abaha', 'Jubail'], 'Jubail': ['Abaha', 'Qassim']}\n"
     ]
    }
   ],
   "source": [
    "\n",
    "steps = dfs(graph, 'Riyadh')\n",
    "print ('\\nThe direction path of DFS:', steps)\n",
    "print(\"Number of steps taken to complete the journey- \", len(steps))\n",
    "print(graph)"
   ]
  },
  {
   "cell_type": "code",
   "execution_count": 9,
   "metadata": {},
   "outputs": [
    {
     "ename": "NetworkXError",
     "evalue": "Node 'R' has no position.",
     "output_type": "error",
     "traceback": [
      "\u001b[0;31m---------------------------------------------------------------------------\u001b[0m",
      "\u001b[0;31mKeyError\u001b[0m                                  Traceback (most recent call last)",
      "File \u001b[0;32m/Library/Frameworks/Python.framework/Versions/3.10/lib/python3.10/site-packages/networkx/drawing/nx_pylab.py:454\u001b[0m, in \u001b[0;36mdraw_networkx_nodes\u001b[0;34m(G, pos, nodelist, node_size, node_color, node_shape, alpha, cmap, vmin, vmax, ax, linewidths, edgecolors, label, margins)\u001b[0m\n\u001b[1;32m    <a href='file:///Library/Frameworks/Python.framework/Versions/3.10/lib/python3.10/site-packages/networkx/drawing/nx_pylab.py?line=452'>453</a>\u001b[0m \u001b[39mtry\u001b[39;00m:\n\u001b[0;32m--> <a href='file:///Library/Frameworks/Python.framework/Versions/3.10/lib/python3.10/site-packages/networkx/drawing/nx_pylab.py?line=453'>454</a>\u001b[0m     xy \u001b[39m=\u001b[39m np\u001b[39m.\u001b[39masarray([pos[v] \u001b[39mfor\u001b[39;00m v \u001b[39min\u001b[39;00m nodelist])\n\u001b[1;32m    <a href='file:///Library/Frameworks/Python.framework/Versions/3.10/lib/python3.10/site-packages/networkx/drawing/nx_pylab.py?line=454'>455</a>\u001b[0m \u001b[39mexcept\u001b[39;00m \u001b[39mKeyError\u001b[39;00m \u001b[39mas\u001b[39;00m e:\n",
      "File \u001b[0;32m/Library/Frameworks/Python.framework/Versions/3.10/lib/python3.10/site-packages/networkx/drawing/nx_pylab.py:454\u001b[0m, in \u001b[0;36m<listcomp>\u001b[0;34m(.0)\u001b[0m\n\u001b[1;32m    <a href='file:///Library/Frameworks/Python.framework/Versions/3.10/lib/python3.10/site-packages/networkx/drawing/nx_pylab.py?line=452'>453</a>\u001b[0m \u001b[39mtry\u001b[39;00m:\n\u001b[0;32m--> <a href='file:///Library/Frameworks/Python.framework/Versions/3.10/lib/python3.10/site-packages/networkx/drawing/nx_pylab.py?line=453'>454</a>\u001b[0m     xy \u001b[39m=\u001b[39m np\u001b[39m.\u001b[39masarray([pos[v] \u001b[39mfor\u001b[39;00m v \u001b[39min\u001b[39;00m nodelist])\n\u001b[1;32m    <a href='file:///Library/Frameworks/Python.framework/Versions/3.10/lib/python3.10/site-packages/networkx/drawing/nx_pylab.py?line=454'>455</a>\u001b[0m \u001b[39mexcept\u001b[39;00m \u001b[39mKeyError\u001b[39;00m \u001b[39mas\u001b[39;00m e:\n",
      "\u001b[0;31mKeyError\u001b[0m: 'R'",
      "\nThe above exception was the direct cause of the following exception:\n",
      "\u001b[0;31mNetworkXError\u001b[0m                             Traceback (most recent call last)",
      "\u001b[1;32m/Users/abdul/Desktop/Programming/Jupyter Lab/BFS-DFS-AI.ipynb Cell 7'\u001b[0m in \u001b[0;36m<module>\u001b[0;34m\u001b[0m\n\u001b[1;32m      <a href='vscode-notebook-cell:/Users/abdul/Desktop/Programming/Jupyter%20Lab/BFS-DFS-AI.ipynb#ch0000006?line=8'>9</a>\u001b[0m         Graph\u001b[39m.\u001b[39madd_edge(node, edge)\n\u001b[1;32m     <a href='vscode-notebook-cell:/Users/abdul/Desktop/Programming/Jupyter%20Lab/BFS-DFS-AI.ipynb#ch0000006?line=9'>10</a>\u001b[0m pos \u001b[39m=\u001b[39m {\u001b[39m'\u001b[39m\u001b[39mA\u001b[39m\u001b[39m'\u001b[39m: [\u001b[39m444.00\u001b[39m, \u001b[39m111.00\u001b[39m], \u001b[39m'\u001b[39m\u001b[39mB\u001b[39m\u001b[39m'\u001b[39m: [\u001b[39m666.00\u001b[39m, \u001b[39m999.00\u001b[39m],\n\u001b[1;32m     <a href='vscode-notebook-cell:/Users/abdul/Desktop/Programming/Jupyter%20Lab/BFS-DFS-AI.ipynb#ch0000006?line=10'>11</a>\u001b[0m        \u001b[39m'\u001b[39m\u001b[39mC\u001b[39m\u001b[39m'\u001b[39m: [\u001b[39m111.00\u001b[39m, \u001b[39m444.00\u001b[39m], \u001b[39m'\u001b[39m\u001b[39mD\u001b[39m\u001b[39m'\u001b[39m: [\u001b[39m999.00\u001b[39m, \u001b[39m666.00\u001b[39m],\n\u001b[1;32m     <a href='vscode-notebook-cell:/Users/abdul/Desktop/Programming/Jupyter%20Lab/BFS-DFS-AI.ipynb#ch0000006?line=11'>12</a>\u001b[0m        \u001b[39m'\u001b[39m\u001b[39mE\u001b[39m\u001b[39m'\u001b[39m: [\u001b[39m999.00\u001b[39m, \u001b[39m999.00\u001b[39m], \u001b[39m'\u001b[39m\u001b[39mF\u001b[39m\u001b[39m'\u001b[39m: [\u001b[39m111.00\u001b[39m, \u001b[39m444.00\u001b[39m]}  \u001b[39m# distance between the cities\u001b[39;00m\n\u001b[0;32m---> <a href='vscode-notebook-cell:/Users/abdul/Desktop/Programming/Jupyter%20Lab/BFS-DFS-AI.ipynb#ch0000006?line=12'>13</a>\u001b[0m nx\u001b[39m.\u001b[39;49mdraw(Graph, pos, with_labels\u001b[39m=\u001b[39;49m\u001b[39mFalse\u001b[39;49;00m)\n\u001b[1;32m     <a href='vscode-notebook-cell:/Users/abdul/Desktop/Programming/Jupyter%20Lab/BFS-DFS-AI.ipynb#ch0000006?line=13'>14</a>\u001b[0m nx\u001b[39m.\u001b[39mdraw_networkx(Graph, pos)\n\u001b[1;32m     <a href='vscode-notebook-cell:/Users/abdul/Desktop/Programming/Jupyter%20Lab/BFS-DFS-AI.ipynb#ch0000006?line=14'>15</a>\u001b[0m plt\u001b[39m.\u001b[39mshow()\n",
      "File \u001b[0;32m/Library/Frameworks/Python.framework/Versions/3.10/lib/python3.10/site-packages/networkx/drawing/nx_pylab.py:121\u001b[0m, in \u001b[0;36mdraw\u001b[0;34m(G, pos, ax, **kwds)\u001b[0m\n\u001b[1;32m    <a href='file:///Library/Frameworks/Python.framework/Versions/3.10/lib/python3.10/site-packages/networkx/drawing/nx_pylab.py?line=117'>118</a>\u001b[0m \u001b[39mif\u001b[39;00m \u001b[39m\"\u001b[39m\u001b[39mwith_labels\u001b[39m\u001b[39m\"\u001b[39m \u001b[39mnot\u001b[39;00m \u001b[39min\u001b[39;00m kwds:\n\u001b[1;32m    <a href='file:///Library/Frameworks/Python.framework/Versions/3.10/lib/python3.10/site-packages/networkx/drawing/nx_pylab.py?line=118'>119</a>\u001b[0m     kwds[\u001b[39m\"\u001b[39m\u001b[39mwith_labels\u001b[39m\u001b[39m\"\u001b[39m] \u001b[39m=\u001b[39m \u001b[39m\"\u001b[39m\u001b[39mlabels\u001b[39m\u001b[39m\"\u001b[39m \u001b[39min\u001b[39;00m kwds\n\u001b[0;32m--> <a href='file:///Library/Frameworks/Python.framework/Versions/3.10/lib/python3.10/site-packages/networkx/drawing/nx_pylab.py?line=120'>121</a>\u001b[0m draw_networkx(G, pos\u001b[39m=\u001b[39;49mpos, ax\u001b[39m=\u001b[39;49max, \u001b[39m*\u001b[39;49m\u001b[39m*\u001b[39;49mkwds)\n\u001b[1;32m    <a href='file:///Library/Frameworks/Python.framework/Versions/3.10/lib/python3.10/site-packages/networkx/drawing/nx_pylab.py?line=121'>122</a>\u001b[0m ax\u001b[39m.\u001b[39mset_axis_off()\n\u001b[1;32m    <a href='file:///Library/Frameworks/Python.framework/Versions/3.10/lib/python3.10/site-packages/networkx/drawing/nx_pylab.py?line=122'>123</a>\u001b[0m plt\u001b[39m.\u001b[39mdraw_if_interactive()\n",
      "File \u001b[0;32m/Library/Frameworks/Python.framework/Versions/3.10/lib/python3.10/site-packages/networkx/drawing/nx_pylab.py:333\u001b[0m, in \u001b[0;36mdraw_networkx\u001b[0;34m(G, pos, arrows, with_labels, **kwds)\u001b[0m\n\u001b[1;32m    <a href='file:///Library/Frameworks/Python.framework/Versions/3.10/lib/python3.10/site-packages/networkx/drawing/nx_pylab.py?line=329'>330</a>\u001b[0m \u001b[39mif\u001b[39;00m pos \u001b[39mis\u001b[39;00m \u001b[39mNone\u001b[39;00m:\n\u001b[1;32m    <a href='file:///Library/Frameworks/Python.framework/Versions/3.10/lib/python3.10/site-packages/networkx/drawing/nx_pylab.py?line=330'>331</a>\u001b[0m     pos \u001b[39m=\u001b[39m nx\u001b[39m.\u001b[39mdrawing\u001b[39m.\u001b[39mspring_layout(G)  \u001b[39m# default to spring layout\u001b[39;00m\n\u001b[0;32m--> <a href='file:///Library/Frameworks/Python.framework/Versions/3.10/lib/python3.10/site-packages/networkx/drawing/nx_pylab.py?line=332'>333</a>\u001b[0m draw_networkx_nodes(G, pos, \u001b[39m*\u001b[39;49m\u001b[39m*\u001b[39;49mnode_kwds)\n\u001b[1;32m    <a href='file:///Library/Frameworks/Python.framework/Versions/3.10/lib/python3.10/site-packages/networkx/drawing/nx_pylab.py?line=333'>334</a>\u001b[0m draw_networkx_edges(G, pos, arrows\u001b[39m=\u001b[39marrows, \u001b[39m*\u001b[39m\u001b[39m*\u001b[39medge_kwds)\n\u001b[1;32m    <a href='file:///Library/Frameworks/Python.framework/Versions/3.10/lib/python3.10/site-packages/networkx/drawing/nx_pylab.py?line=334'>335</a>\u001b[0m \u001b[39mif\u001b[39;00m with_labels:\n",
      "File \u001b[0;32m/Library/Frameworks/Python.framework/Versions/3.10/lib/python3.10/site-packages/networkx/drawing/nx_pylab.py:456\u001b[0m, in \u001b[0;36mdraw_networkx_nodes\u001b[0;34m(G, pos, nodelist, node_size, node_color, node_shape, alpha, cmap, vmin, vmax, ax, linewidths, edgecolors, label, margins)\u001b[0m\n\u001b[1;32m    <a href='file:///Library/Frameworks/Python.framework/Versions/3.10/lib/python3.10/site-packages/networkx/drawing/nx_pylab.py?line=453'>454</a>\u001b[0m     xy \u001b[39m=\u001b[39m np\u001b[39m.\u001b[39masarray([pos[v] \u001b[39mfor\u001b[39;00m v \u001b[39min\u001b[39;00m nodelist])\n\u001b[1;32m    <a href='file:///Library/Frameworks/Python.framework/Versions/3.10/lib/python3.10/site-packages/networkx/drawing/nx_pylab.py?line=454'>455</a>\u001b[0m \u001b[39mexcept\u001b[39;00m \u001b[39mKeyError\u001b[39;00m \u001b[39mas\u001b[39;00m e:\n\u001b[0;32m--> <a href='file:///Library/Frameworks/Python.framework/Versions/3.10/lib/python3.10/site-packages/networkx/drawing/nx_pylab.py?line=455'>456</a>\u001b[0m     \u001b[39mraise\u001b[39;00m nx\u001b[39m.\u001b[39mNetworkXError(\u001b[39mf\u001b[39m\u001b[39m\"\u001b[39m\u001b[39mNode \u001b[39m\u001b[39m{\u001b[39;00me\u001b[39m}\u001b[39;00m\u001b[39m has no position.\u001b[39m\u001b[39m\"\u001b[39m) \u001b[39mfrom\u001b[39;00m \u001b[39me\u001b[39;00m\n\u001b[1;32m    <a href='file:///Library/Frameworks/Python.framework/Versions/3.10/lib/python3.10/site-packages/networkx/drawing/nx_pylab.py?line=457'>458</a>\u001b[0m \u001b[39mif\u001b[39;00m \u001b[39misinstance\u001b[39m(alpha, Iterable):\n\u001b[1;32m    <a href='file:///Library/Frameworks/Python.framework/Versions/3.10/lib/python3.10/site-packages/networkx/drawing/nx_pylab.py?line=458'>459</a>\u001b[0m     node_color \u001b[39m=\u001b[39m apply_alpha(node_color, alpha, nodelist, cmap, vmin, vmax)\n",
      "\u001b[0;31mNetworkXError\u001b[0m: Node 'R' has no position."
     ]
    },
    {
     "data": {
      "image/png": "[encoded data removed]",
      "text/plain": [
       "<Figure size 432x288 with 1 Axes>"
      ]
     },
     "metadata": {},
     "output_type": "display_data"
    }
   ],
   "source": [
    "import numpy as np\n",
    "import networkx as nx\n",
    "import matplotlib.pyplot as plt\n",
    "%matplotlib inline\n",
    "Graph = nx.Graph()\n",
    "for node in graph:\n",
    "    Graph.add_nodes_from(node)\n",
    "    for edge in graph[node]:\n",
    "        Graph.add_edge(node, edge)\n",
    "pos = {'A': [444.00, 111.00], 'B': [666.00, 999.00],\n",
    "       'C': [111.00, 444.00], 'D': [999.00, 666.00],\n",
    "       'E': [999.00, 999.00], 'F': [111.00, 444.00]}  # distance between the cities\n",
    "nx.draw(Graph, pos, with_labels=False)\n",
    "nx.draw_networkx(Graph, pos)\n",
    "plt.show()\n"
   ]
  }
 ],
 "metadata": {
  "interpreter": {
   "hash": "3c0f98a3f965ddaebbd07f2ebeca4b5b8971f5e1d306b46ad8cb49eedb734028"
  },
  "kernelspec": {
   "display_name": "Python 3.9.7 64-bit ('base': conda)",
   "language": "python",
   "name": "python3"
  },
  "language_info": {
   "codemirror_mode": {
    "name": "ipython",
    "version": 3
   },
   "file_extension": ".py",
   "mimetype": "text/x-python",
   "name": "python",
   "nbconvert_exporter": "python",
   "pygments_lexer": "ipython3",
   "version": "3.10.2"
  },
  "orig_nbformat": 4
 },
 "nbformat": 4,
 "nbformat_minor": 2
}
