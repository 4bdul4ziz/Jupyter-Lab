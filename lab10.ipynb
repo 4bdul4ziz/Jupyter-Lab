{
 "cells": [
  {
   "cell_type": "code",
   "execution_count": 46,
   "metadata": {},
   "outputs": [
    {
     "data": {
      "text/plain": [
       "'\\nWrite a program to implement the following program;\\nCreate a tree with a depth of 5 and a branching factor of 3. Assign an evaluation value for each terminal.\\nApply the min-max algorithm to find an optimal move of Max Player.\\nFind the space and time complexity of the algorithm. \\n'"
      ]
     },
     "execution_count": 46,
     "metadata": {},
     "output_type": "execute_result"
    }
   ],
   "source": [
    "'''\n",
    "Write a program to implement the following program;\n",
    "Create a tree with a depth of 5 and a branching factor of 3. Assign an evaluation value for each terminal.\n",
    "Apply the min-max algorithm to find an optimal move of Max Player.\n",
    "Find the space and time complexity of the algorithm. \n",
    "'''"
   ]
  },
  {
   "cell_type": "code",
   "execution_count": 47,
   "metadata": {},
   "outputs": [
    {
     "name": "stdout",
     "output_type": "stream",
     "text": [
      "1\n",
      "├── 2\n",
      "│   ├── 6\n",
      "│   │   ├── 12\n",
      "│   │   │   ├── 20\n",
      "│   │   │   └── 21\n",
      "│   │   └── 13\n",
      "│   └── 7\n",
      "│       ├── 14\n",
      "│       └── 15\n",
      "└── 3\n",
      "    ├── 4\n",
      "    │   ├── 8\n",
      "    │   │   ├── 16\n",
      "    │   │   └── 17\n",
      "    │   └── 9\n",
      "    │       ├── 18\n",
      "    │       └── 19\n",
      "    └── 5\n",
      "        ├── 10\n",
      "        └── 11\n",
      "            └── 22\n",
      "\n",
      "[1, 2, 7, 14, 15, 6, 12, 20, 21, 13, 3, 5, 10, 11, 22, 4, 8, 16, 17, 9, 18, 19]\n",
      "[1, 2, 3, 7, 6, 5, 4, 14, 15, 12, 13, 10, 11, 8, 9, 20, 21, 22, 16, 17, 18, 19]\n",
      "[1, 3, 2, 7, 6, 5, 4, 9, 8, 11, 10, 13, 12, 15, 14, 20, 21, 22, 16, 17, 18, 19]\n"
     ]
    }
   ],
   "source": [
    "from treelib import Tree\n",
    "tree = Tree()\n",
    "tree.create_node(1, 1)  # The root node\n",
    "tree.create_node(2, 2, parent=1)\n",
    "tree.create_node(3, 3, parent=1)\n",
    "tree.create_node(7, 7, parent=2)\n",
    "tree.create_node(6, 6, parent=2)\n",
    "tree.create_node(5, 5, parent=3)\n",
    "tree.create_node(4, 4, parent=3)\n",
    "tree.create_node(8, 8, parent=4)\n",
    "tree.create_node(9, 9, parent=4)\n",
    "tree.create_node(10, 10, parent=5)\n",
    "tree.create_node(11, 11, parent=5)\n",
    "tree.create_node(12, 12, parent=6)\n",
    "tree.create_node(13, 13, parent=6)\n",
    "tree.create_node(14, 14, parent=7)\n",
    "tree.create_node(15, 15, parent=7)\n",
    "tree.create_node(16, 16, parent=8)\n",
    "tree.create_node(17, 17, parent=8)\n",
    "tree.create_node(18, 18, parent=9)\n",
    "tree.create_node(19, 19, parent=9)\n",
    "tree.create_node(20, 20, parent=12)\n",
    "tree.create_node(21, 21, parent=12)\n",
    "tree.create_node(22, 22, parent=11)\n",
    "tree.show() \n",
    "print([tree[node].tag for node in tree.expand_tree(mode=Tree.DEPTH, sorting=False)])\n",
    "print([tree[node].tag for node in tree.expand_tree(mode=Tree.WIDTH, sorting=False)])\n",
    "print([tree[node].tag for node in tree.expand_tree(mode=Tree.ZIGZAG, sorting=False)])\n"
   ]
  },
  {
   "cell_type": "code",
   "execution_count": 60,
   "metadata": {},
   "outputs": [],
   "source": [
    "def min_max_algorithm(depth, branch)\n"
   ]
  },
  {
   "cell_type": "code",
   "execution_count": 62,
   "metadata": {},
   "outputs": [],
   "source": [
    "branching_factor = 3\n",
    "depth = 5\n",
    "alpha = -1\n",
    "beta = 1\n",
    "node = 1"
   ]
  },
  {
   "cell_type": "code",
   "execution_count": 61,
   "metadata": {},
   "outputs": [
    {
     "ename": "TypeError",
     "evalue": "min_max_algorithm() takes 2 positional arguments but 5 were given",
     "output_type": "error",
     "traceback": [
      "\u001b[0;31m---------------------------------------------------------------------------\u001b[0m",
      "\u001b[0;31mTypeError\u001b[0m                                 Traceback (most recent call last)",
      "\u001b[1;32m/Users/abdul/Desktop/Programming/Jupyter Lab/lab10.ipynb Cell 5'\u001b[0m in \u001b[0;36m<module>\u001b[0;34m\u001b[0m\n\u001b[0;32m----> <a href='vscode-notebook-cell:/Users/abdul/Desktop/Programming/Jupyter%20Lab/lab10.ipynb#ch0000002?line=0'>1</a>\u001b[0m min_max_algorithm(\u001b[39m1\u001b[39;49m, node, depth, alpha, beta)\n",
      "\u001b[0;31mTypeError\u001b[0m: min_max_algorithm() takes 2 positional arguments but 5 were given"
     ]
    }
   ],
   "source": [
    "min_max_algorithm(depth, alpha, beta)"
   ]
  },
  {
   "cell_type": "code",
   "execution_count": null,
   "metadata": {},
   "outputs": [],
   "source": [
    "    "
   ]
  },
  {
   "cell_type": "code",
   "execution_count": null,
   "metadata": {},
   "outputs": [],
   "source": []
  },
  {
   "cell_type": "code",
   "execution_count": null,
   "metadata": {},
   "outputs": [],
   "source": []
  }
 ],
 "metadata": {
  "interpreter": {
   "hash": "949777d72b0d2535278d3dc13498b2535136f6dfe0678499012e853ee9abcab1"
  },
  "kernelspec": {
   "display_name": "Python 3.10.2 64-bit",
   "language": "python",
   "name": "python3"
  },
  "language_info": {
   "codemirror_mode": {
    "name": "ipython",
    "version": 3
   },
   "file_extension": ".py",
   "mimetype": "text/x-python",
   "name": "python",
   "nbconvert_exporter": "python",
   "pygments_lexer": "ipython3",
   "version": "3.10.2"
  },
  "orig_nbformat": 4
 },
 "nbformat": 4,
 "nbformat_minor": 2
}
