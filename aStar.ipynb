{
 "cells": [
  {
   "cell_type": "code",
   "execution_count": 1,
   "metadata": {},
   "outputs": [
    {
     "data": {
      "text/plain": [
       "'\\nFor the given below-board game, help the Blue Triangular coin which is located at (2,5) to reach the Red Circle coin in (6,3) using A* algorithm with maximum path cost i.e., a path with maximum points. \\nThe possible actions of the coin to move around the cells on the board are {Left, Right, Up, Down}. The coin can’t move into shaded cells to expand the nodes further. \\nAlso, the coin can’t cross the four side boundaries. \\nUse (Row, Column) format to represent each cell. Each cell is associated with points. \\n'"
      ]
     },
     "execution_count": 1,
     "metadata": {},
     "output_type": "execute_result"
    }
   ],
   "source": [
    "'''\n",
    "For the given below-board game, help the Blue Triangular coin which is located at (2,5) to reach the Red Circle coin in (6,3) using A* algorithm with maximum path cost i.e., a path with maximum points. \n",
    "The possible actions of the coin to move around the cells on the board are {Left, Right, Up, Down}. The coin can’t move into shaded cells to expand the nodes further. \n",
    "Also, the coin can’t cross the four side boundaries. \n",
    "Use (Row, Column) format to represent each cell. Each cell is associated with points. \n",
    "'''"
   ]
  },
  {
   "cell_type": "code",
   "execution_count": 47,
   "metadata": {},
   "outputs": [],
   "source": [
    "import numpy as np\n",
    "import networkx as nx\n",
    "import matplotlib.pyplot as plt\n",
    "\n",
    "goal_node = (6, 3)\n",
    "\n",
    "class Node(object):\n",
    "    '''\n",
    "    Node class for A* algorithm.\n",
    "    '''\n",
    "    def __init__(self, position, parent, g_cost):\n",
    "        self.position = position\n",
    "        self.parent = parent\n",
    "        self.g_cost = g_cost\n",
    "        self.goal_node = False\n",
    "        self.f_cost = 0\n",
    "        self.h_cost = 0\n",
    "        self.children = []\n",
    "        self.expanded = False\n",
    "        self.visited = False\n",
    "        self.path = []\n",
    "        self.path_cost = 0\n",
    "        self.path_cost_list = []\n",
    "        self.path_cost_list_index = 0\n",
    "        self.path_cost_list_index_list = []\n",
    "        self.path_cost_list_index_list_index = 0\n",
    "        self.path_cost_list_index_list_index_list = []\n",
    "        self.h_cost = calculate_h_cost(position, goal_node)\n",
    "        self.f_cost = self.g_cost + self.h_cost\n",
    "        \n",
    "\n",
    "def get_neighbors(position, maze):\n",
    "    '''\n",
    "    Get the neighbors of the given position.\n",
    "    :param position: (row, col)\n",
    "    :param maze: 2D array of cells\n",
    "    :return: neighbors: list of (row, col)\n",
    "    '''\n",
    "    neighbors = []\n",
    "    row, col = position\n",
    "    if row > 0:\n",
    "        neighbors.append((row - 1, col))\n",
    "    if row < maze.size - 1:\n",
    "        neighbors.append((row + 1, col))\n",
    "    if col > 0:\n",
    "        neighbors.append((row, col - 1))\n",
    "    if col < maze.size - 1:\n",
    "        neighbors.append((row, col + 1))\n",
    "    return neighbors\n",
    "    \n",
    "    \n",
    "    \n",
    "\n",
    "def calculate_h_cost(position, goal):\n",
    "    '''\n",
    "    Calculate the h_cost of the given position.\n",
    "    :param position: (row, col)\n",
    "    :param goal: (row, col)\n",
    "    :return: h_cost: int\n",
    "    '''\n",
    "    return abs(position[0] - goal[0]) + abs(position[1] - goal[1])\n",
    "\n",
    "def construct_path(node):\n",
    "    '''\n",
    "    Construct the path from the given node.\n",
    "    :param node: Node\n",
    "    :return: path: list of (row, col)\n",
    "    '''\n",
    "    path = []\n",
    "    while node is not None:\n",
    "        path.append(node.position)\n",
    "        node = node.parent\n",
    "    path.reverse()\n",
    "    return path\n",
    "\n",
    "def a_star_search(start, goal, maze):\n",
    "    '''\n",
    "    A* search algorithm.\n",
    "    :param start: (row, col)\n",
    "    :param goal: (row, col)\n",
    "    :param maze: 2D array of cells\n",
    "    :return: path: list of (row, col)\n",
    "    '''\n",
    "    start_node = Node(start, None, 0)\n",
    "    start_node.h_cost = calculate_h_cost(start, goal)\n",
    "    start_node.f_cost = start_node.h_cost\n",
    "    open_list = [start_node]\n",
    "    closed_list = []\n",
    "    while len(open_list) > 0:\n",
    "        current_node = open_list[0]\n",
    "        for node in open_list:\n",
    "            if node.f_cost < current_node.f_cost:\n",
    "                current_node = node\n",
    "        open_list.remove(current_node)\n",
    "        closed_list.append(current_node)\n",
    "        if current_node.position == goal:\n",
    "            return construct_path(current_node)\n",
    "        neighbors = get_neighbors(current_node.position, maze)\n",
    "        for neighbor in neighbors:\n",
    "            if neighbor in closed_list:\n",
    "                continue\n",
    "            neighbor_node = Node(neighbor, current_node, current_node.g_cost + 1)\n",
    "            neighbor_node.h_cost = calculate_h_cost(neighbor, goal)\n",
    "            neighbor_node.f_cost = neighbor_node.g_cost + neighbor_node.h_cost\n",
    "            if neighbor_node not in open_list:\n",
    "                open_list.append(neighbor_node)\n",
    "    return []"
   ]
  },
  {
   "cell_type": "markdown",
   "metadata": {},
   "source": [
    "## Final result path "
   ]
  },
  {
   "cell_type": "code",
   "execution_count": 48,
   "metadata": {},
   "outputs": [
    {
     "name": "stdout",
     "output_type": "stream",
     "text": [
      "[(2, 5), (3, 5), (4, 5), (5, 5), (6, 5), (6, 4), (6, 3)]\n"
     ]
    }
   ],
   "source": [
    "start = (2, 5)\n",
    "goal = (6, 3)\n",
    "maze = np.array([8, 6, 5, 3, 0, 0,\n",
    "        2, 0, 8, 4, 0, 4,\n",
    "        0, 1, 7, 0, 4, 9,\n",
    "        3, 1, 0, 10, 12, 1,\n",
    "        2, 0, 15, 6, 8, 10,\n",
    "        1, 2, 0, 5, 0, 11])\n",
    "\n",
    "print(a_star_search(start, goal, maze))\n",
    "      \n"
   ]
  }
 ],
 "metadata": {
  "kernelspec": {
   "display_name": "Python 3",
   "language": "python",
   "name": "python3"
  },
  "language_info": {
   "codemirror_mode": {
    "name": "ipython",
    "version": 3
   },
   "file_extension": ".py",
   "mimetype": "text/x-python",
   "name": "python",
   "nbconvert_exporter": "python",
   "pygments_lexer": "ipython3",
   "version": "3.10.2"
  }
 },
 "nbformat": 4,
 "nbformat_minor": 1
}
