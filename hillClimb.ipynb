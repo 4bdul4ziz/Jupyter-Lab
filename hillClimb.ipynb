{
 "cells": [
  {
   "cell_type": "code",
   "execution_count": 1,
   "metadata": {},
   "outputs": [],
   "source": [
    "#hill climb search algorith\n",
    "\n",
    "\n",
    "def search(problem,limit):\n",
    "    node = Node(problem.initial)\n",
    "    frontier = PriorityQueue(\n",
    "        lambda a,b: problem.value(a) < problem.value(b))\n",
    "    frontier.append(node)\n",
    "    explored = set()\n",
    "    while frontier:\n",
    "        lambda node: problem.value(node.state)\n",
    "        node = frontier.pop()\n",
    "        if problem.goal_test(node.state):\n",
    "            return node.solution()\n",
    "        explored.add(node.state)\n",
    "        for child in node.expand(problem):\n",
    "            if child.state not in explored and child not in frontier:\n",
    "                frontier.append(child)\n",
    "            elif child in frontier:\n",
    "                if problem.value(child.state) < problem.value(frontier[child]):\n",
    "                    del frontier[child]\n",
    "                    frontier.append(child)\n",
    "    return None\n"
   ]
  },
  {
   "cell_type": "code",
   "execution_count": 2,
   "metadata": {},
   "outputs": [
    {
     "ename": "NameError",
     "evalue": "name 'Node' is not defined",
     "output_type": "error",
     "traceback": [
      "\u001b[0;31m---------------------------------------------------------------------------\u001b[0m",
      "\u001b[0;31mNameError\u001b[0m                                 Traceback (most recent call last)",
      "\u001b[1;32m/Users/abdul/Desktop/Programming/Jupyter Lab/hillClimb.ipynb Cell 2'\u001b[0m in \u001b[0;36m<module>\u001b[0;34m\u001b[0m\n\u001b[0;32m----> <a href='vscode-notebook-cell:/Users/abdul/Desktop/Programming/Jupyter%20Lab/hillClimb.ipynb#ch0000001?line=0'>1</a>\u001b[0m search(\u001b[39m1\u001b[39;49m,\u001b[39m2\u001b[39;49m)\n",
      "\u001b[1;32m/Users/abdul/Desktop/Programming/Jupyter Lab/hillClimb.ipynb Cell 1'\u001b[0m in \u001b[0;36msearch\u001b[0;34m(problem, limit)\u001b[0m\n\u001b[1;32m      <a href='vscode-notebook-cell:/Users/abdul/Desktop/Programming/Jupyter%20Lab/hillClimb.ipynb#ch0000000?line=3'>4</a>\u001b[0m \u001b[39mdef\u001b[39;00m \u001b[39msearch\u001b[39m(problem,limit):\n\u001b[0;32m----> <a href='vscode-notebook-cell:/Users/abdul/Desktop/Programming/Jupyter%20Lab/hillClimb.ipynb#ch0000000?line=4'>5</a>\u001b[0m     node \u001b[39m=\u001b[39m Node(problem\u001b[39m.\u001b[39minitial)\n\u001b[1;32m      <a href='vscode-notebook-cell:/Users/abdul/Desktop/Programming/Jupyter%20Lab/hillClimb.ipynb#ch0000000?line=5'>6</a>\u001b[0m     frontier \u001b[39m=\u001b[39m PriorityQueue(\n\u001b[1;32m      <a href='vscode-notebook-cell:/Users/abdul/Desktop/Programming/Jupyter%20Lab/hillClimb.ipynb#ch0000000?line=6'>7</a>\u001b[0m         \u001b[39mlambda\u001b[39;00m a,b: problem\u001b[39m.\u001b[39mvalue(a) \u001b[39m<\u001b[39m problem\u001b[39m.\u001b[39mvalue(b))\n\u001b[1;32m      <a href='vscode-notebook-cell:/Users/abdul/Desktop/Programming/Jupyter%20Lab/hillClimb.ipynb#ch0000000?line=7'>8</a>\u001b[0m     frontier\u001b[39m.\u001b[39mappend(node)\n",
      "\u001b[0;31mNameError\u001b[0m: name 'Node' is not defined"
     ]
    }
   ],
   "source": [
    "search(1,2)"
   ]
  }
 ],
 "metadata": {
  "interpreter": {
   "hash": "aee8b7b246df8f9039afb4144a1f6fd8d2ca17a180786b69acc140d282b71a49"
  },
  "kernelspec": {
   "display_name": "Python 3.10.2 64-bit",
   "language": "python",
   "name": "python3"
  },
  "language_info": {
   "codemirror_mode": {
    "name": "ipython",
    "version": 3
   },
   "file_extension": ".py",
   "mimetype": "text/x-python",
   "name": "python",
   "nbconvert_exporter": "python",
   "pygments_lexer": "ipython3",
   "version": "3.10.2"
  },
  "orig_nbformat": 4
 },
 "nbformat": 4,
 "nbformat_minor": 2
}
