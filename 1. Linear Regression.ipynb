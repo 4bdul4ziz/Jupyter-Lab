{
 "cells": [
  {
   "cell_type": "markdown",
   "metadata": {
    "button": false,
    "new_sheet": false,
    "run_control": {
     "read_only": false
    }
   },
   "source": [
    "## Simple Linear Regression\n",
    "\n"
   ]
  },
  {
   "cell_type": "markdown",
   "metadata": {
    "button": false,
    "new_sheet": false,
    "run_control": {
     "read_only": false
    }
   },
   "source": [
    "### Importing packages"
   ]
  },
  {
   "cell_type": "code",
   "execution_count": 1,
   "metadata": {
    "button": false,
    "new_sheet": false,
    "run_control": {
     "read_only": false
    }
   },
   "outputs": [],
   "source": [
    "import matplotlib.pyplot as plt\n",
    "import numpy as np\n",
    "import pandas as pd\n",
    "%matplotlib inline"
   ]
  },
  {
   "cell_type": "markdown",
   "metadata": {
    "button": false,
    "new_sheet": false,
    "run_control": {
     "read_only": false
    }
   },
   "source": [
    "### Create our own data"
   ]
  },
  {
   "cell_type": "code",
   "execution_count": 2,
   "metadata": {
    "button": false,
    "new_sheet": false,
    "run_control": {
     "read_only": false
    }
   },
   "outputs": [
    {
     "name": "stdout",
     "output_type": "stream",
     "text": [
      "    Year  Placement\n",
      "0   2000         50\n",
      "1   2001         54\n",
      "2   2002         62\n",
      "3   2003         78\n",
      "4   2004         65\n",
      "5   2005         69\n",
      "6   2006         72\n",
      "7   2007         77\n",
      "8   2008         85\n",
      "9   2009         98\n",
      "10  2010         75\n",
      "11  2011         80\n",
      "12  2012         82\n",
      "13  2013         85\n",
      "14  2014         88\n",
      "15  2015         75\n",
      "16  2016         90\n",
      "17  2017         93\n",
      "18  2018         95\n",
      "19  2019         98\n",
      "    Year  Placement\n",
      "0   2000         50\n",
      "1   2001         50\n",
      "2   2002         50\n",
      "3   2003         50\n",
      "4   2004         50\n",
      "5   2005         50\n",
      "6   2006         50\n",
      "7   2007         50\n",
      "8   2008         50\n",
      "9   2009         50\n",
      "10  2010         50\n",
      "11  2011         50\n",
      "12  2012         50\n",
      "13  2013         50\n",
      "14  2014         50\n",
      "15  2015         50\n",
      "16  2016         50\n",
      "17  2017         50\n",
      "18  2018         50\n",
      "19  2019         50\n"
     ]
    }
   ],
   "source": [
    "datafile = pd.DataFrame()\n",
    "datafile[0] = np.arange(2000,2020)\n",
    "datafile[1] = [50,54,62,78,65,69,72,77,85,98,75,80,82,85,88,75,90,93,95,98]\n",
    "#datafile[0] = [1,3,5]\n",
    "datafile1 = pd.DataFrame()\n",
    "datafile1[0] = np.arange(2000,2020)\n",
    "#datafile1[1] = [50,54,62,65,68,70,71,74,76,80,82,84,86,90,91,93,94,95,98,100]\n",
    "datafile1[1] = [50,50,50,50,50,50,50,50,50,50,50,50,50,50,50,50,50,50,50,50]\n",
    "#datafile[1] = [22,34,50]\n",
    "datafile.columns =[\"Year\",\"Placement\"]\n",
    "datafile1.columns =[\"Year\",\"Placement\"]\n",
    "print(datafile)\n",
    "print(datafile1)"
   ]
  },
  {
   "cell_type": "markdown",
   "metadata": {},
   "source": [
    "## Checking Linearity\n"
   ]
  },
  {
   "cell_type": "code",
   "execution_count": 3,
   "metadata": {},
   "outputs": [
    {
     "name": "stderr",
     "output_type": "stream",
     "text": [
      "No artists with labels found to put in legend.  Note that artists whose label start with an underscore are ignored when legend() is called with no argument.\n"
     ]
    },
    {
     "data": {
      "image/png": "[encoded data removed]",
      "text/plain": [
       "<Figure size 432x288 with 1 Axes>"
      ]
     },
     "metadata": {
      "needs_background": "light"
     },
     "output_type": "display_data"
    }
   ],
   "source": [
    "plt.scatter(datafile['Year'],datafile['Placement'])\n",
    "plt.title(\"Placement plot\")\n",
    "plt.xlim(2000,2020)\n",
    "plt.ylim(45,100)\n",
    "plt.xticks(np.arange(2000,2020,2))\n",
    "plt.legend()\n",
    "plt.xlabel(\"Year\")\n",
    "plt.ylabel(\"Placement\")\n",
    "plt.show()"
   ]
  },
  {
   "cell_type": "code",
   "execution_count": 4,
   "metadata": {},
   "outputs": [
    {
     "data": {
      "text/plain": [
       "<AxesSubplot:>"
      ]
     },
     "execution_count": 4,
     "metadata": {},
     "output_type": "execute_result"
    },
    {
     "data": {
      "image/png": "[encoded data removed]",
      "text/plain": [
       "<Figure size 432x288 with 2 Axes>"
      ]
     },
     "metadata": {
      "needs_background": "light"
     },
     "output_type": "display_data"
    }
   ],
   "source": [
    "import seaborn as sb\n",
    "data_corr = datafile.corr()\n",
    "sb.heatmap(data_corr,annot=True)"
   ]
  },
  {
   "cell_type": "markdown",
   "metadata": {},
   "source": [
    "### Modeling"
   ]
  },
  {
   "cell_type": "code",
   "execution_count": 5,
   "metadata": {
    "button": false,
    "new_sheet": false,
    "run_control": {
     "read_only": false
    }
   },
   "outputs": [
    {
     "name": "stdout",
     "output_type": "stream",
     "text": [
      "Coefficients:  [[1.94661654]]\n",
      "Intercept:  [-3833.17593985]\n",
      "Coefficients:  [[0.]]\n",
      "Intercept:  [50.]\n"
     ]
    }
   ],
   "source": [
    "from sklearn import linear_model\n",
    "regress = linear_model.LinearRegression()\n",
    "\n",
    "train_x = np.asanyarray(datafile[['Year']])\n",
    "train_y = np.asanyarray(datafile[['Placement']])\n",
    "#print(train_x)\n",
    "#print(train_y)\n",
    "\n",
    "regress.fit (train_x,train_y)\n",
    "# The coefficients\n",
    "print ('Coefficients: ', regress.coef_)\n",
    "print ('Intercept: ',regress.intercept_)\n",
    "\n",
    "regress1 = linear_model.LinearRegression()\n",
    "train_x1 = np.asanyarray(datafile1[['Year']])\n",
    "train_y1 = np.asanyarray(datafile1[['Placement']])\n",
    "#print(train_x)\n",
    "#print(train_y)\n",
    "\n",
    "regress1.fit (train_x1,train_y1)\n",
    "# The coefficients\n",
    "print ('Coefficients: ', regress1.coef_)\n",
    "print ('Intercept: ',regress1.intercept_)"
   ]
  },
  {
   "cell_type": "markdown",
   "metadata": {
    "button": false,
    "new_sheet": false,
    "run_control": {
     "read_only": false
    }
   },
   "source": [
    "#### Plot outputs"
   ]
  },
  {
   "cell_type": "code",
   "execution_count": 6,
   "metadata": {
    "button": false,
    "new_sheet": false,
    "run_control": {
     "read_only": false
    }
   },
   "outputs": [
    {
     "data": {
      "image/png": "[encoded data removed]",
      "text/plain": [
       "<Figure size 432x288 with 1 Axes>"
      ]
     },
     "metadata": {
      "needs_background": "light"
     },
     "output_type": "display_data"
    }
   ],
   "source": [
    "plt.scatter(datafile.Year, datafile.Placement,  color='blue',label=\"Actual\")\n",
    "plt.plot(train_x, regress.coef_[0][0]*train_x + regress.intercept_[0], '-r',label=\"Predicted\")\n",
    "plt.title(\"Placement plot\")\n",
    "plt.xlim(2000,2020)\n",
    "plt.ylim(45,100)\n",
    "plt.xticks(np.arange(2000,2020,2))\n",
    "plt.legend()\n",
    "plt.xlabel(\"Year\")\n",
    "plt.ylabel(\"Placement\")\n",
    "plt.show()"
   ]
  },
  {
   "cell_type": "code",
   "execution_count": 7,
   "metadata": {
    "button": false,
    "new_sheet": false,
    "run_control": {
     "read_only": false
    }
   },
   "outputs": [
    {
     "data": {
      "image/png": "[encoded data removed]",
      "text/plain": [
       "<Figure size 432x288 with 1 Axes>"
      ]
     },
     "metadata": {
      "needs_background": "light"
     },
     "output_type": "display_data"
    }
   ],
   "source": [
    "plt.scatter(datafile1.Year, datafile1.Placement,  color='blue',label=\"Actual\")\n",
    "plt.plot(train_x, regress1.coef_[0][0]*train_x1 + regress1.intercept_[0], '-r',label=\"Predicted\")\n",
    "plt.title(\"Placement plot\")\n",
    "plt.xlim(2000,2020)\n",
    "plt.ylim(45,100)\n",
    "plt.xticks(np.arange(2000,2020,2))\n",
    "plt.legend()\n",
    "plt.xlabel(\"Year\")\n",
    "plt.ylabel(\"Placement\")\n",
    "plt.show()"
   ]
  },
  {
   "cell_type": "code",
   "execution_count": 8,
   "metadata": {},
   "outputs": [
    {
     "name": "stdout",
     "output_type": "stream",
     "text": [
      "[50] [60.05714286]\n",
      "[54] [62.0037594]\n",
      "[62] [63.95037594]\n",
      "[78] [65.89699248]\n",
      "[65] [67.84360902]\n",
      "[69] [69.79022556]\n",
      "[72] [71.73684211]\n",
      "[77] [73.68345865]\n",
      "[85] [75.63007519]\n",
      "[98] [77.57669173]\n",
      "[75] [79.52330827]\n",
      "[80] [81.46992481]\n",
      "[82] [83.41654135]\n",
      "[85] [85.36315789]\n",
      "[88] [87.30977444]\n",
      "[75] [89.25639098]\n",
      "[90] [91.20300752]\n",
      "[93] [93.14962406]\n",
      "[95] [95.0962406]\n",
      "[98] [97.04285714]\n",
      "[[60.05714286]\n",
      " [62.0037594 ]\n",
      " [63.95037594]\n",
      " [65.89699248]\n",
      " [67.84360902]\n",
      " [69.79022556]\n",
      " [71.73684211]\n",
      " [73.68345865]\n",
      " [75.63007519]\n",
      " [77.57669173]\n",
      " [79.52330827]\n",
      " [81.46992481]\n",
      " [83.41654135]\n",
      " [85.36315789]\n",
      " [87.30977444]\n",
      " [89.25639098]\n",
      " [91.20300752]\n",
      " [93.14962406]\n",
      " [95.0962406 ]\n",
      " [97.04285714]]\n",
      "   Year  Placement  Predicted\n",
      "0  2000         50  60.057143\n",
      "1  2001         54  62.003759\n",
      "2  2002         62  63.950376\n",
      "3  2003         78  65.896992\n",
      "4  2004         65  67.843609\n"
     ]
    }
   ],
   "source": [
    "y_predicted = regress.predict(train_x)\n",
    "for i in range(0,len(train_x)):\n",
    "    print(train_y[i],y_predicted[i])\n",
    "datafile['Predicted'] = y_predicted\n",
    "print(y_predicted)\n",
    "print(datafile.head())\n",
    "#datafile.to_csv(\"E:\\\\ML Online\\\\Module 3\\\\Datasets\\\\placement.csv\")"
   ]
  },
  {
   "cell_type": "code",
   "execution_count": 9,
   "metadata": {},
   "outputs": [
    {
     "name": "stdout",
     "output_type": "stream",
     "text": [
      "[50] [50.]\n",
      "[50] [50.]\n",
      "[50] [50.]\n",
      "[50] [50.]\n",
      "[50] [50.]\n",
      "[50] [50.]\n",
      "[50] [50.]\n",
      "[50] [50.]\n",
      "[50] [50.]\n",
      "[50] [50.]\n",
      "[50] [50.]\n",
      "[50] [50.]\n",
      "[50] [50.]\n",
      "[50] [50.]\n",
      "[50] [50.]\n",
      "[50] [50.]\n",
      "[50] [50.]\n",
      "[50] [50.]\n",
      "[50] [50.]\n",
      "[50] [50.]\n",
      "[[50.]\n",
      " [50.]\n",
      " [50.]\n",
      " [50.]\n",
      " [50.]\n",
      " [50.]\n",
      " [50.]\n",
      " [50.]\n",
      " [50.]\n",
      " [50.]\n",
      " [50.]\n",
      " [50.]\n",
      " [50.]\n",
      " [50.]\n",
      " [50.]\n",
      " [50.]\n",
      " [50.]\n",
      " [50.]\n",
      " [50.]\n",
      " [50.]]\n",
      "   Year  Placement  Predicted\n",
      "0  2000         50       50.0\n",
      "1  2001         50       50.0\n",
      "2  2002         50       50.0\n",
      "3  2003         50       50.0\n",
      "4  2004         50       50.0\n"
     ]
    }
   ],
   "source": [
    "y1_predicted = regress1.predict(train_x1)\n",
    "for i in range(0,len(train_x1)):\n",
    "    print(train_y1[i],y1_predicted[i])\n",
    "datafile1['Predicted'] = y1_predicted\n",
    "print(y1_predicted)\n",
    "print(datafile1.head())\n",
    "#datafile.to_csv(\"E:\\\\ML Online\\\\Module 3\\\\Datasets\\\\placement.csv\")"
   ]
  },
  {
   "cell_type": "markdown",
   "metadata": {
    "button": false,
    "new_sheet": false,
    "run_control": {
     "read_only": false
    }
   },
   "source": [
    "#### Performance measurement\n",
    "Any of the following metrics may be used:\n",
    "<ul>\n",
    "    <li> Mean absolute error: It is the average of the absolute value of all the errors. </li>\n",
    "    <li> Mean Squared Error (MSE): Mean Squared Error (MSE) is the mean of the squared error. This is efficient since the focus is on large errors and doesnot consider sign of error.</li>\n",
    "    <li> Root Mean Squared Error (RMSE): This is a metric to calculate the accuracy of the model. It represents how close the data are to the fitted regression line. The higher the R-squared, the better the model fits your data. Best possible score is 1.0 and it can be negative (because the model can be arbitrarily worse).</li>\n",
    "</ul>"
   ]
  },
  {
   "cell_type": "code",
   "execution_count": 10,
   "metadata": {},
   "outputs": [
    {
     "name": "stdout",
     "output_type": "stream",
     "text": [
      "Mean Absolute Error: 4.712330827067649\n",
      "Mean Squared Error: 53.55274436090157\n",
      "Root Mean Squared Error: 7.317974061234541\n"
     ]
    }
   ],
   "source": [
    "from sklearn import metrics\n",
    "print('Mean Absolute Error:', metrics.mean_absolute_error(train_y, y_predicted))\n",
    "print('Mean Squared Error:', metrics.mean_squared_error(train_y, y_predicted))\n",
    "print('Root Mean Squared Error:', np.sqrt(metrics.mean_squared_error(train_y, y_predicted)))"
   ]
  },
  {
   "cell_type": "code",
   "execution_count": 11,
   "metadata": {},
   "outputs": [
    {
     "name": "stdout",
     "output_type": "stream",
     "text": [
      "Mean Absolute Error: 0.0\n",
      "Mean Squared Error: 0.0\n",
      "Root Mean Squared Error: 0.0\n"
     ]
    }
   ],
   "source": [
    "from sklearn import metrics\n",
    "print('Mean Absolute Error:', metrics.mean_absolute_error(train_y1, y1_predicted))\n",
    "print('Mean Squared Error:', metrics.mean_squared_error(train_y1, y1_predicted))\n",
    "print('Root Mean Squared Error:', np.sqrt(metrics.mean_squared_error(train_y1, y1_predicted)))"
   ]
  },
  {
   "cell_type": "code",
   "execution_count": 12,
   "metadata": {
    "button": false,
    "new_sheet": false,
    "run_control": {
     "read_only": false
    },
    "scrolled": true
   },
   "outputs": [
    {
     "name": "stdout",
     "output_type": "stream",
     "text": [
      "Mean absolute error (MAE): 4.712330827067649\n",
      "Mean square error (MSE):  53.55274436090157\n",
      "R2-score: %.2f (RMSE): 0.7017349483512633\n"
     ]
    }
   ],
   "source": [
    "from sklearn.metrics import r2_score\n",
    "\n",
    "test_x = np.asanyarray(datafile[['Year']])\n",
    "test_y = np.asanyarray(datafile[['Placement']])\n",
    "test_y_predicted = regress.predict(test_x)\n",
    "\n",
    "print(\"Mean absolute error (MAE):\" , np.mean(np.absolute(test_y_predicted - test_y)))\n",
    "print(\"Mean square error (MSE): \" , np.mean((test_y_predicted - test_y) ** 2))\n",
    "print(\"R2-score: %.2f (RMSE):\" , r2_score(test_y, test_y_predicted) )"
   ]
  },
  {
   "cell_type": "code",
   "execution_count": 13,
   "metadata": {
    "button": false,
    "new_sheet": false,
    "run_control": {
     "read_only": false
    },
    "scrolled": true
   },
   "outputs": [
    {
     "name": "stdout",
     "output_type": "stream",
     "text": [
      "Mean absolute error (MAE): 0.0\n",
      "Mean square error (MSE):  0.0\n",
      "R2-score: %.2f (RMSE): 1.0\n"
     ]
    }
   ],
   "source": [
    "from sklearn.metrics import r2_score\n",
    "\n",
    "test_x1 = np.asanyarray(datafile1[['Year']])\n",
    "test_y1 = np.asanyarray(datafile1[['Placement']])\n",
    "test_y1_predicted = regress1.predict(test_x1)\n",
    "\n",
    "print(\"Mean absolute error (MAE):\" , np.mean(np.absolute(test_y1_predicted - test_y1)))\n",
    "print(\"Mean square error (MSE): \" , np.mean((test_y1_predicted - test_y1) ** 2))\n",
    "print(\"R2-score: %.2f (RMSE):\" , r2_score(test_y1, test_y1_predicted) )"
   ]
  },
  {
   "cell_type": "markdown",
   "metadata": {},
   "source": [
    "# Using training and testing data"
   ]
  },
  {
   "cell_type": "code",
   "execution_count": 14,
   "metadata": {},
   "outputs": [
    {
     "name": "stdout",
     "output_type": "stream",
     "text": [
      "    Year\n",
      "11  2011\n",
      "3   2003\n",
      "18  2018\n",
      "16  2016\n",
      "13  2013\n",
      "2   2002\n",
      "9   2009\n",
      "19  2019\n",
      "4   2004\n",
      "12  2012\n",
      "7   2007\n",
      "10  2010\n",
      "14  2014\n",
      "6   2006\n",
      "Testing\n",
      "    Year\n",
      "0   2000\n",
      "17  2017\n",
      "15  2015\n",
      "1   2001\n",
      "8   2008\n",
      "5   2005\n",
      "Coefficients:  [[1.70675575]]\n",
      "Intercept:  [-3349.2809948]\n"
     ]
    }
   ],
   "source": [
    "from sklearn.model_selection import train_test_split\n",
    "\n",
    "train_x, test_x, train_y, test_y = train_test_split(datafile[['Year']], datafile[['Placement']], test_size=0.30, random_state=42)\n",
    "print(train_x)\n",
    "print(\"Testing\")\n",
    "print(test_x)\n",
    "\n",
    "from sklearn import linear_model\n",
    "regress = linear_model.LinearRegression()\n",
    "regress.fit (train_x,train_y)\n",
    "# The coefficients\n",
    "print ('Coefficients: ', regress.coef_)\n",
    "print ('Intercept: ',regress.intercept_)"
   ]
  },
  {
   "cell_type": "code",
   "execution_count": 15,
   "metadata": {},
   "outputs": [
    {
     "name": "stdout",
     "output_type": "stream",
     "text": [
      "    Year\n",
      "0   2000\n",
      "17  2017\n",
      "15  2015\n",
      "1   2001\n",
      "8   2008\n",
      "5   2005\n",
      "    Placement\n",
      "0          50\n",
      "17         93\n",
      "15         75\n",
      "1          54\n",
      "8          85\n",
      "5          69\n",
      "[[64.23051225]\n",
      " [93.24536006]\n",
      " [89.83184855]\n",
      " [65.937268  ]\n",
      " [77.88455828]\n",
      " [72.76429102]]\n"
     ]
    }
   ],
   "source": [
    "y_predicted = regress.predict(test_x)\n",
    "print(test_x)\n",
    "print(test_y)\n",
    "print(y_predicted)\n",
    "#for i in range(0,len(test_y)):\n",
    "  #  print(test_y[i],y_predicted[i])\n",
    "#datafile['Predicted1'] = y_predicted\n",
    "\n",
    "#print(datafile.head())\n",
    "#datafile.to_csv(\"E:\\\\ML Online\\\\Module 3\\\\Datasets\\\\placement.csv\")"
   ]
  },
  {
   "cell_type": "code",
   "execution_count": 16,
   "metadata": {},
   "outputs": [
    {
     "name": "stdout",
     "output_type": "stream",
     "text": [
      "Mean Absolute Error: 8.687453600594003\n",
      "Mean Squared Error: 104.9748628433119\n",
      "Root Mean Squared Error: 10.245724124887996\n"
     ]
    }
   ],
   "source": [
    "from sklearn import metrics\n",
    "print('Mean Absolute Error:', metrics.mean_absolute_error(test_y, y_predicted))\n",
    "print('Mean Squared Error:', metrics.mean_squared_error(test_y, y_predicted))\n",
    "print('Root Mean Squared Error:', np.sqrt(metrics.mean_squared_error(test_y, y_predicted)))"
   ]
  },
  {
   "cell_type": "code",
   "execution_count": 17,
   "metadata": {},
   "outputs": [
    {
     "name": "stdout",
     "output_type": "stream",
     "text": [
      "[-0.00562185  0.73731733 -1.08086996 -2.00601522  0.92745586]\n"
     ]
    }
   ],
   "source": [
    "from sklearn.model_selection import cross_val_score\n",
    "accuracy = cross_val_score(regress, datafile[['Year']], datafile[['Placement']], cv = 5,scoring='r2')\n",
    "print(accuracy)"
   ]
  },
  {
   "cell_type": "code",
   "execution_count": 18,
   "metadata": {},
   "outputs": [
    {
     "name": "stdout",
     "output_type": "stream",
     "text": [
      "dict_keys(['explained_variance', 'r2', 'max_error', 'neg_median_absolute_error', 'neg_mean_absolute_error', 'neg_mean_absolute_percentage_error', 'neg_mean_squared_error', 'neg_mean_squared_log_error', 'neg_root_mean_squared_error', 'neg_mean_poisson_deviance', 'neg_mean_gamma_deviance', 'accuracy', 'top_k_accuracy', 'roc_auc', 'roc_auc_ovr', 'roc_auc_ovo', 'roc_auc_ovr_weighted', 'roc_auc_ovo_weighted', 'balanced_accuracy', 'average_precision', 'neg_log_loss', 'neg_brier_score', 'adjusted_rand_score', 'rand_score', 'homogeneity_score', 'completeness_score', 'v_measure_score', 'mutual_info_score', 'adjusted_mutual_info_score', 'normalized_mutual_info_score', 'fowlkes_mallows_score', 'precision', 'precision_macro', 'precision_micro', 'precision_samples', 'precision_weighted', 'recall', 'recall_macro', 'recall_micro', 'recall_samples', 'recall_weighted', 'f1', 'f1_macro', 'f1_micro', 'f1_samples', 'f1_weighted', 'jaccard', 'jaccard_macro', 'jaccard_micro', 'jaccard_samples', 'jaccard_weighted'])\n"
     ]
    }
   ],
   "source": [
    "import sklearn\n",
    "print(sklearn.metrics.SCORERS.keys())"
   ]
  }
 ],
 "metadata": {
  "kernelspec": {
   "display_name": "Python 3.10.2 64-bit",
   "language": "python",
   "name": "python3"
  },
  "language_info": {
   "codemirror_mode": {
    "name": "ipython",
    "version": 3
   },
   "file_extension": ".py",
   "mimetype": "text/x-python",
   "name": "python",
   "nbconvert_exporter": "python",
   "pygments_lexer": "ipython3",
   "version": "3.10.2"
  },
  "vscode": {
   "interpreter": {
    "hash": "949777d72b0d2535278d3dc13498b2535136f6dfe0678499012e853ee9abcab1"
   }
  },
  "widgets": {
   "state": {},
   "version": "1.1.2"
  }
 },
 "nbformat": 4,
 "nbformat_minor": 2
}
